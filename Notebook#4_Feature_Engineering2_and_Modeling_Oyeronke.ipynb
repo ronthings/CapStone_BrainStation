{
 "cells": [
  {
   "cell_type": "markdown",
   "id": "0f039a4f",
   "metadata": {},
   "source": [
    "# Capstone Project - Predicting The Risk Of Customer Churn \n",
    "\n",
    "## Feature Engineering2 And Modeling\n",
    "***"
   ]
  },
  {
   "cell_type": "markdown",
   "id": "c20142a2",
   "metadata": {},
   "source": [
    "### Author - Oyeronke Ayansola\n",
    "\n",
    "### Date - 12/12/2022\n",
    "\n",
    "### <font color=red> Notebook #4</font>\n",
    "***"
   ]
  },
  {
   "cell_type": "markdown",
   "id": "bca79e00",
   "metadata": {},
   "source": [
    "## Table of Contents\n",
    "### [Model Goal](##ModelGoal)\n",
    "### [Import Libraries And Data](##ImportLibrariesAndData)\n",
    "### [Explore Dataframe](##ExploreAndMergeDataframe)\n",
    "### [Categorical to Numerical Variables](##CategoricaltoNumericalVariables)\n",
    "### [Train-Test Split](##Train-TestSplit)\n",
    "   * [Test, Train and Validation Data Split](##Test_TrainandValidationDataSplit)\n",
    "### [Models on Train and Validation Sets](##ModelsonTrainandValidationSets)\n",
    "   * [1.Logistic Regression](##1_LogisticRegression)\n",
    "   * [2.Decision Tree Classifier (DT)](##2_DecisionTreeClassifier(DT))\n",
    "   * [3.K-Neighbors Classifier (KNN)](##3_K-NeighborsClassifier(KNN))\n",
    "   * [Ensemble Models](##EnsembleModels)\n",
    "   * [Random Forest Classifier](##RandomForestClassifier)\n",
    "   * [XGBoost Model](##XGBoost)\n",
    "   * [Downsampling](##Downsampling)\n",
    "   * [Upsampling](##Upsampling)   \n",
    "   * [Hyperparameters with Grid Search](###HyperparameterswithGridSearch)\n",
    "### [Final Model - Scoring on Test Set](##FinalModel-ScoringonTestSet)\n",
    "### [Conclusion](##Conclusion)\n",
    "***"
   ]
  },
  {
   "cell_type": "markdown",
   "id": "fc9c84fe",
   "metadata": {},
   "source": [
    "### Model Goal\n",
    "\n",
    "In this notebook, the goal is to identify the best model that will classify churn customers as much possible, without misclassifying too many non-churn using confusion matrix with a good f1-score.\n",
    "\n",
    "The best model will be identified using validation sets (a sub-set of our data) afterwards, the choosen model will be tested on a set-aside test dataset.\n",
    "***"
   ]
  },
  {
   "cell_type": "markdown",
   "id": "c1daba6c",
   "metadata": {},
   "source": [
    "### Import Libraries"
   ]
  },
  {
   "cell_type": "markdown",
   "id": "c0ac9c62",
   "metadata": {},
   "source": [
    "We need to import the packages require to run the models successfully."
   ]
  },
  {
   "cell_type": "code",
   "execution_count": 1,
   "id": "30451ff6",
   "metadata": {},
   "outputs": [],
   "source": [
    "# import required libraries\n",
    "import pandas as pd\n",
    "import numpy as np\n",
    "import seaborn as sns\n",
    "import datetime as dt\n",
    "import matplotlib.pyplot as plt\n",
    "%matplotlib inline\n",
    "\n",
    "# converting to datetime if neccessary\n",
    "from datetime import datetime\n",
    "\n",
    "# import converting categorical variables to numeric\n",
    "from sklearn.preprocessing import OneHotEncoder\n",
    "\n",
    "from sklearn.compose import ColumnTransformer\n",
    "\n",
    "# importing train test split from sklearn package to sub-set our data\n",
    "from sklearn.model_selection import train_test_split\n",
    "\n",
    "# import for parameters optimisation \n",
    "from sklearn.model_selection import cross_val_score\n",
    "\n",
    "from sklearn.pipeline import Pipeline\n",
    "\n",
    "from sklearn.preprocessing import StandardScaler, MinMaxScaler, RobustScaler\n",
    "\n",
    "from sklearn.model_selection import GridSearchCV\n",
    "\n",
    "# To try dimensionality reduction\n",
    "from sklearn.decomposition import PCA\n",
    "\n",
    "\n",
    "# import models from sklearn\n",
    "from sklearn.tree import DecisionTreeClassifier\n",
    "\n",
    "from sklearn.neighbors import KNeighborsClassifier\n",
    "\n",
    "from sklearn.linear_model import LogisticRegression\n",
    "\n",
    "\n",
    "# import for model evaluation \n",
    "from sklearn.metrics import confusion_matrix\n",
    "\n",
    "from sklearn.metrics import classification_report\n",
    "\n",
    "from sklearn.metrics import plot_confusion_matrix\n",
    "\n",
    "from sklearn.metrics import roc_curve, roc_auc_score\n",
    "\n",
    "\n",
    "\n",
    "#Some of these packages will generate a ton of warnings...\n",
    "import warnings\n",
    "warnings.filterwarnings(\"ignore\")\n"
   ]
  },
  {
   "cell_type": "markdown",
   "id": "aabfcddd",
   "metadata": {},
   "source": [
    "Next we will import the data a `csv` file, from `Notebook #2`"
   ]
  },
  {
   "cell_type": "code",
   "execution_count": 2,
   "id": "671e23a6",
   "metadata": {},
   "outputs": [],
   "source": [
    "# import the data\n",
    "df = pd.read_csv('df2_engineered.csv')"
   ]
  },
  {
   "cell_type": "markdown",
   "id": "81b57013",
   "metadata": {},
   "source": [
    "### Explore Data"
   ]
  },
  {
   "cell_type": "code",
   "execution_count": 3,
   "id": "af0aff7b",
   "metadata": {},
   "outputs": [
    {
     "data": {
      "text/html": [
       "<div>\n",
       "<style scoped>\n",
       "    .dataframe tbody tr th:only-of-type {\n",
       "        vertical-align: middle;\n",
       "    }\n",
       "\n",
       "    .dataframe tbody tr th {\n",
       "        vertical-align: top;\n",
       "    }\n",
       "\n",
       "    .dataframe thead th {\n",
       "        text-align: right;\n",
       "    }\n",
       "</style>\n",
       "<table border=\"1\" class=\"dataframe\">\n",
       "  <thead>\n",
       "    <tr style=\"text-align: right;\">\n",
       "      <th></th>\n",
       "      <th>customer_id</th>\n",
       "      <th>customer_unique_id</th>\n",
       "      <th>customer_zip_code_prefix</th>\n",
       "      <th>customer_city</th>\n",
       "      <th>customer_state</th>\n",
       "      <th>customer_latitude</th>\n",
       "      <th>customer_longitude</th>\n",
       "      <th>order_id</th>\n",
       "      <th>order_status</th>\n",
       "      <th>payment_sequential</th>\n",
       "      <th>...</th>\n",
       "      <th>shipping_limit_month</th>\n",
       "      <th>review_creation_month</th>\n",
       "      <th>review_answer_month</th>\n",
       "      <th>order_purchase_day</th>\n",
       "      <th>order_delivered_carrier_day</th>\n",
       "      <th>order_delivered_customer_day</th>\n",
       "      <th>order_estimated_delivery_day</th>\n",
       "      <th>shipping_limit_day</th>\n",
       "      <th>review_creation_day</th>\n",
       "      <th>review_answer_day</th>\n",
       "    </tr>\n",
       "  </thead>\n",
       "  <tbody>\n",
       "    <tr>\n",
       "      <th>0</th>\n",
       "      <td>06b8999e2fba1a1fbc88172c00ba8bc7</td>\n",
       "      <td>861eff4711a542e4b93843c6dd7febb0</td>\n",
       "      <td>14409</td>\n",
       "      <td>franca</td>\n",
       "      <td>SP</td>\n",
       "      <td>-20.509898</td>\n",
       "      <td>-47.397866</td>\n",
       "      <td>00e7ee1b050b8499577073aeb2a297a1</td>\n",
       "      <td>delivered</td>\n",
       "      <td>1.0</td>\n",
       "      <td>...</td>\n",
       "      <td>5</td>\n",
       "      <td>5</td>\n",
       "      <td>5</td>\n",
       "      <td>16</td>\n",
       "      <td>23</td>\n",
       "      <td>25</td>\n",
       "      <td>5</td>\n",
       "      <td>22</td>\n",
       "      <td>26</td>\n",
       "      <td>30</td>\n",
       "    </tr>\n",
       "    <tr>\n",
       "      <th>1</th>\n",
       "      <td>5dca924cc99eea2dc5ba40d11ec5dd0f</td>\n",
       "      <td>2761fee7f378f0a8d7682d8a3fa07ab1</td>\n",
       "      <td>14409</td>\n",
       "      <td>franca</td>\n",
       "      <td>SP</td>\n",
       "      <td>-20.509898</td>\n",
       "      <td>-47.397866</td>\n",
       "      <td>95261f608a64bbbe760a212b4d48a4ee</td>\n",
       "      <td>delivered</td>\n",
       "      <td>1.0</td>\n",
       "      <td>...</td>\n",
       "      <td>6</td>\n",
       "      <td>6</td>\n",
       "      <td>6</td>\n",
       "      <td>15</td>\n",
       "      <td>18</td>\n",
       "      <td>21</td>\n",
       "      <td>5</td>\n",
       "      <td>19</td>\n",
       "      <td>22</td>\n",
       "      <td>26</td>\n",
       "    </tr>\n",
       "    <tr>\n",
       "      <th>2</th>\n",
       "      <td>661897d4968f1b59bfff74c7eb2eb4fc</td>\n",
       "      <td>d06a495406b79cb8203ea21cc0942f8c</td>\n",
       "      <td>14409</td>\n",
       "      <td>franca</td>\n",
       "      <td>SP</td>\n",
       "      <td>-20.509898</td>\n",
       "      <td>-47.397866</td>\n",
       "      <td>9444fa2ab50a3f5af63b48be297eda24</td>\n",
       "      <td>delivered</td>\n",
       "      <td>1.0</td>\n",
       "      <td>...</td>\n",
       "      <td>9</td>\n",
       "      <td>9</td>\n",
       "      <td>9</td>\n",
       "      <td>9</td>\n",
       "      <td>11</td>\n",
       "      <td>18</td>\n",
       "      <td>2</td>\n",
       "      <td>14</td>\n",
       "      <td>19</td>\n",
       "      <td>20</td>\n",
       "    </tr>\n",
       "    <tr>\n",
       "      <th>3</th>\n",
       "      <td>702b62324327ccba20f1be3465426437</td>\n",
       "      <td>8b3d988f330c1d1c3332ccd440c147b7</td>\n",
       "      <td>14409</td>\n",
       "      <td>franca</td>\n",
       "      <td>SP</td>\n",
       "      <td>-20.509898</td>\n",
       "      <td>-47.397866</td>\n",
       "      <td>dceb8e88274c6f42a88a76ed979eb817</td>\n",
       "      <td>delivered</td>\n",
       "      <td>1.0</td>\n",
       "      <td>...</td>\n",
       "      <td>3</td>\n",
       "      <td>3</td>\n",
       "      <td>11</td>\n",
       "      <td>26</td>\n",
       "      <td>27</td>\n",
       "      <td>28</td>\n",
       "      <td>12</td>\n",
       "      <td>30</td>\n",
       "      <td>29</td>\n",
       "      <td>4</td>\n",
       "    </tr>\n",
       "    <tr>\n",
       "      <th>4</th>\n",
       "      <td>bdf997bae7ca819b0415f5174d6b4302</td>\n",
       "      <td>866755e25db620f8d7e81b351a15bb2f</td>\n",
       "      <td>14409</td>\n",
       "      <td>franca</td>\n",
       "      <td>SP</td>\n",
       "      <td>-20.509898</td>\n",
       "      <td>-47.397866</td>\n",
       "      <td>6ee1cea1b2edcc713f83ebfbccbc57f9</td>\n",
       "      <td>delivered</td>\n",
       "      <td>1.0</td>\n",
       "      <td>...</td>\n",
       "      <td>2</td>\n",
       "      <td>4</td>\n",
       "      <td>4</td>\n",
       "      <td>29</td>\n",
       "      <td>31</td>\n",
       "      <td>3</td>\n",
       "      <td>9</td>\n",
       "      <td>8</td>\n",
       "      <td>8</td>\n",
       "      <td>8</td>\n",
       "    </tr>\n",
       "  </tbody>\n",
       "</table>\n",
       "<p>5 rows × 68 columns</p>\n",
       "</div>"
      ],
      "text/plain": [
       "                        customer_id                customer_unique_id  \\\n",
       "0  06b8999e2fba1a1fbc88172c00ba8bc7  861eff4711a542e4b93843c6dd7febb0   \n",
       "1  5dca924cc99eea2dc5ba40d11ec5dd0f  2761fee7f378f0a8d7682d8a3fa07ab1   \n",
       "2  661897d4968f1b59bfff74c7eb2eb4fc  d06a495406b79cb8203ea21cc0942f8c   \n",
       "3  702b62324327ccba20f1be3465426437  8b3d988f330c1d1c3332ccd440c147b7   \n",
       "4  bdf997bae7ca819b0415f5174d6b4302  866755e25db620f8d7e81b351a15bb2f   \n",
       "\n",
       "   customer_zip_code_prefix customer_city customer_state  customer_latitude  \\\n",
       "0                     14409        franca             SP         -20.509898   \n",
       "1                     14409        franca             SP         -20.509898   \n",
       "2                     14409        franca             SP         -20.509898   \n",
       "3                     14409        franca             SP         -20.509898   \n",
       "4                     14409        franca             SP         -20.509898   \n",
       "\n",
       "   customer_longitude                          order_id order_status  \\\n",
       "0          -47.397866  00e7ee1b050b8499577073aeb2a297a1    delivered   \n",
       "1          -47.397866  95261f608a64bbbe760a212b4d48a4ee    delivered   \n",
       "2          -47.397866  9444fa2ab50a3f5af63b48be297eda24    delivered   \n",
       "3          -47.397866  dceb8e88274c6f42a88a76ed979eb817    delivered   \n",
       "4          -47.397866  6ee1cea1b2edcc713f83ebfbccbc57f9    delivered   \n",
       "\n",
       "   payment_sequential  ... shipping_limit_month  review_creation_month  \\\n",
       "0                 1.0  ...                    5                      5   \n",
       "1                 1.0  ...                    6                      6   \n",
       "2                 1.0  ...                    9                      9   \n",
       "3                 1.0  ...                    3                      3   \n",
       "4                 1.0  ...                    2                      4   \n",
       "\n",
       "   review_answer_month  order_purchase_day order_delivered_carrier_day  \\\n",
       "0                    5                  16                          23   \n",
       "1                    6                  15                          18   \n",
       "2                    9                   9                          11   \n",
       "3                   11                  26                          27   \n",
       "4                    4                  29                          31   \n",
       "\n",
       "  order_delivered_customer_day  order_estimated_delivery_day  \\\n",
       "0                           25                             5   \n",
       "1                           21                             5   \n",
       "2                           18                             2   \n",
       "3                           28                            12   \n",
       "4                            3                             9   \n",
       "\n",
       "   shipping_limit_day review_creation_day  review_answer_day  \n",
       "0                  22                  26                 30  \n",
       "1                  19                  22                 26  \n",
       "2                  14                  19                 20  \n",
       "3                  30                  29                  4  \n",
       "4                   8                   8                  8  \n",
       "\n",
       "[5 rows x 68 columns]"
      ]
     },
     "execution_count": 3,
     "metadata": {},
     "output_type": "execute_result"
    }
   ],
   "source": [
    "# see the first few rows\n",
    "df.head()"
   ]
  },
  {
   "cell_type": "code",
   "execution_count": 4,
   "id": "86879933",
   "metadata": {},
   "outputs": [
    {
     "data": {
      "text/plain": [
       "(94002, 68)"
      ]
     },
     "execution_count": 4,
     "metadata": {},
     "output_type": "execute_result"
    }
   ],
   "source": [
    "# see the shape of the data\n",
    "df.shape"
   ]
  },
  {
   "cell_type": "markdown",
   "id": "f857c208",
   "metadata": {},
   "source": [
    "Our dataframe has `94,002` rows and `68` columns."
   ]
  },
  {
   "cell_type": "code",
   "execution_count": 5,
   "id": "7c034dd5",
   "metadata": {},
   "outputs": [
    {
     "data": {
      "text/plain": [
       "customer_id                     object\n",
       "customer_unique_id              object\n",
       "customer_zip_code_prefix         int64\n",
       "customer_city                   object\n",
       "customer_state                  object\n",
       "                                 ...  \n",
       "order_delivered_customer_day     int64\n",
       "order_estimated_delivery_day     int64\n",
       "shipping_limit_day               int64\n",
       "review_creation_day              int64\n",
       "review_answer_day                int64\n",
       "Length: 68, dtype: object"
      ]
     },
     "execution_count": 5,
     "metadata": {},
     "output_type": "execute_result"
    }
   ],
   "source": [
    "# see the datatypes\n",
    "df.dtypes"
   ]
  },
  {
   "cell_type": "markdown",
   "id": "fb7364ec",
   "metadata": {},
   "source": [
    "We will need to check for any duplication or null values because these will impact our model building negatively - models building requires non-null data."
   ]
  },
  {
   "cell_type": "code",
   "execution_count": 6,
   "id": "f4dbaac9",
   "metadata": {},
   "outputs": [
    {
     "data": {
      "text/plain": [
       "0"
      ]
     },
     "execution_count": 6,
     "metadata": {},
     "output_type": "execute_result"
    }
   ],
   "source": [
    "# check for duplication\n",
    "df.duplicated().sum()"
   ]
  },
  {
   "cell_type": "code",
   "execution_count": 7,
   "id": "3f331369",
   "metadata": {},
   "outputs": [
    {
     "data": {
      "text/plain": [
       "0"
      ]
     },
     "execution_count": 7,
     "metadata": {},
     "output_type": "execute_result"
    }
   ],
   "source": [
    "# check for null values\n",
    "df.isnull().any().sum()"
   ]
  },
  {
   "cell_type": "markdown",
   "id": "2b8c553a",
   "metadata": {},
   "source": [
    "There is no duplication or null values in our dataframe. Next, we will inspect our data for datatypes and examine the categorical variables. This is because we need to have all variables represented as numeric. "
   ]
  },
  {
   "cell_type": "code",
   "execution_count": 8,
   "id": "231db2ac",
   "metadata": {},
   "outputs": [
    {
     "name": "stdout",
     "output_type": "stream",
     "text": [
      "<class 'pandas.core.frame.DataFrame'>\n",
      "RangeIndex: 94002 entries, 0 to 94001\n",
      "Data columns (total 68 columns):\n",
      " #   Column                          Non-Null Count  Dtype  \n",
      "---  ------                          --------------  -----  \n",
      " 0   customer_id                     94002 non-null  object \n",
      " 1   customer_unique_id              94002 non-null  object \n",
      " 2   customer_zip_code_prefix        94002 non-null  int64  \n",
      " 3   customer_city                   94002 non-null  object \n",
      " 4   customer_state                  94002 non-null  object \n",
      " 5   customer_latitude               94002 non-null  float64\n",
      " 6   customer_longitude              94002 non-null  float64\n",
      " 7   order_id                        94002 non-null  object \n",
      " 8   order_status                    94002 non-null  object \n",
      " 9   payment_sequential              94002 non-null  float64\n",
      " 10  payment_type                    94002 non-null  object \n",
      " 11  payment_installments            94002 non-null  float64\n",
      " 12  payment_value                   94002 non-null  float64\n",
      " 13  order_item_id                   94002 non-null  float64\n",
      " 14  product_id                      94002 non-null  object \n",
      " 15  seller_id                       94002 non-null  object \n",
      " 16  price                           94002 non-null  float64\n",
      " 17  freight_value                   94002 non-null  float64\n",
      " 18  review_id                       94002 non-null  object \n",
      " 19  review_score                    94002 non-null  float64\n",
      " 20  product_category_name           94002 non-null  object \n",
      " 21  product_name_length             94002 non-null  float64\n",
      " 22  product_description_length      94002 non-null  float64\n",
      " 23  product_photos_qty              94002 non-null  float64\n",
      " 24  product_weight_g                94002 non-null  float64\n",
      " 25  product_length_cm               94002 non-null  float64\n",
      " 26  product_height_cm               94002 non-null  float64\n",
      " 27  product_width_cm                94002 non-null  float64\n",
      " 28  product_category_name_english   94002 non-null  object \n",
      " 29  seller_zip_code_prefix          94002 non-null  float64\n",
      " 30  seller_city                     94002 non-null  object \n",
      " 31  seller_state                    94002 non-null  object \n",
      " 32  seller_latitude                 94002 non-null  float64\n",
      " 33  seller_longitude                94002 non-null  float64\n",
      " 34  customer_delivery_time          94002 non-null  int64  \n",
      " 35  estimated_delivery_time         94002 non-null  int64  \n",
      " 36  carrier_delivery_date           94002 non-null  int64  \n",
      " 37  delivery_time_diff              94002 non-null  int64  \n",
      " 38  carrier_date_diff               94002 non-null  int64  \n",
      " 39  total_item_per_customer         94002 non-null  float64\n",
      " 40  total_customer_price            94002 non-null  float64\n",
      " 41  total_frieght_price             94002 non-null  float64\n",
      " 42  total_customer_cost             94002 non-null  float64\n",
      " 43  frequency                       94002 non-null  int64  \n",
      " 44  recency                         94002 non-null  int64  \n",
      " 45  monetary                        94002 non-null  float64\n",
      " 46  churn                           94002 non-null  int64  \n",
      " 47  order_purchase_year             94002 non-null  int64  \n",
      " 48  order_delivered_carrier_year    94002 non-null  int64  \n",
      " 49  order_delivered_customer_year   94002 non-null  int64  \n",
      " 50  order_estimated_delivery_year   94002 non-null  int64  \n",
      " 51  shipping_limit_year             94002 non-null  int64  \n",
      " 52  review_creation_year            94002 non-null  int64  \n",
      " 53  review_answer_year              94002 non-null  int64  \n",
      " 54  order_purchase_month            94002 non-null  int64  \n",
      " 55  order_delivered_carrier_month   94002 non-null  int64  \n",
      " 56  order_delivered_customer_month  94002 non-null  int64  \n",
      " 57  order_estimated_delivery_month  94002 non-null  int64  \n",
      " 58  shipping_limit_month            94002 non-null  int64  \n",
      " 59  review_creation_month           94002 non-null  int64  \n",
      " 60  review_answer_month             94002 non-null  int64  \n",
      " 61  order_purchase_day              94002 non-null  int64  \n",
      " 62  order_delivered_carrier_day     94002 non-null  int64  \n",
      " 63  order_delivered_customer_day    94002 non-null  int64  \n",
      " 64  order_estimated_delivery_day    94002 non-null  int64  \n",
      " 65  shipping_limit_day              94002 non-null  int64  \n",
      " 66  review_creation_day             94002 non-null  int64  \n",
      " 67  review_answer_day               94002 non-null  int64  \n",
      "dtypes: float64(24), int64(30), object(14)\n",
      "memory usage: 48.8+ MB\n"
     ]
    }
   ],
   "source": [
    "# check the data types\n",
    "df.info()"
   ]
  },
  {
   "cell_type": "markdown",
   "id": "71ac9ea7",
   "metadata": {},
   "source": [
    "We have some categorical variables. Let us see what these are and decide which ones are worth keeping for modeling."
   ]
  },
  {
   "cell_type": "code",
   "execution_count": 9,
   "id": "dbb90564",
   "metadata": {},
   "outputs": [
    {
     "name": "stdout",
     "output_type": "stream",
     "text": [
      "<class 'pandas.core.frame.DataFrame'>\n",
      "RangeIndex: 94002 entries, 0 to 94001\n",
      "Data columns (total 14 columns):\n",
      " #   Column                         Non-Null Count  Dtype \n",
      "---  ------                         --------------  ----- \n",
      " 0   customer_id                    94002 non-null  object\n",
      " 1   customer_unique_id             94002 non-null  object\n",
      " 2   customer_city                  94002 non-null  object\n",
      " 3   customer_state                 94002 non-null  object\n",
      " 4   order_id                       94002 non-null  object\n",
      " 5   order_status                   94002 non-null  object\n",
      " 6   payment_type                   94002 non-null  object\n",
      " 7   product_id                     94002 non-null  object\n",
      " 8   seller_id                      94002 non-null  object\n",
      " 9   review_id                      94002 non-null  object\n",
      " 10  product_category_name          94002 non-null  object\n",
      " 11  product_category_name_english  94002 non-null  object\n",
      " 12  seller_city                    94002 non-null  object\n",
      " 13  seller_state                   94002 non-null  object\n",
      "dtypes: object(14)\n",
      "memory usage: 10.0+ MB\n"
     ]
    }
   ],
   "source": [
    "# save the categorical columns in one dataframe\n",
    "non_numeric_df = df.select_dtypes(['object'])\n",
    "non_numeric_df.info()"
   ]
  },
  {
   "cell_type": "code",
   "execution_count": 10,
   "id": "70da5eb5",
   "metadata": {},
   "outputs": [
    {
     "data": {
      "text/plain": [
       "(94002, 14)"
      ]
     },
     "execution_count": 10,
     "metadata": {},
     "output_type": "execute_result"
    }
   ],
   "source": [
    "# check the shape\n",
    "non_numeric_df.shape"
   ]
  },
  {
   "cell_type": "markdown",
   "id": "71f8980f",
   "metadata": {},
   "source": [
    "We have 14 categorical columns some of which are `IDs` that we will need to drop. But first let us check the unique values of the rest of the columns."
   ]
  },
  {
   "cell_type": "code",
   "execution_count": 11,
   "id": "4cdd6b59",
   "metadata": {},
   "outputs": [
    {
     "name": "stdout",
     "output_type": "stream",
     "text": [
      "payment_type_value: 4\n",
      "product_category_name_english-value: 71\n",
      "customer_city_values: 4023\n",
      "seller_city_values: 587\n",
      "customer_state_values: 27\n",
      "seller_state_values: 22\n"
     ]
    }
   ],
   "source": [
    "print(f\"payment_type_value: {df['payment_type'].nunique()}\")\n",
    "print(f\"product_category_name_english-value: {df['product_category_name_english'].nunique()}\")\n",
    "print(f\"customer_city_values: {df['customer_city'].nunique()}\")\n",
    "print(f\"seller_city_values: {df['seller_city'].nunique()}\")\n",
    "print(f\"customer_state_values: {df['customer_state'].nunique()}\")\n",
    "print(f\"seller_state_values: {df['seller_state'].nunique()}\")"
   ]
  },
  {
   "cell_type": "markdown",
   "id": "d9c91572",
   "metadata": {},
   "source": [
    "We have columns for both cities and states, we need only one of them. Because the number of states (counted value - 27 and 22 for customer and seller respectively) are not as much as cities (4,023 for customer and 587 for customer seller), to make it easier in-terms of computation expense, we will delete `cities` and keep states. Likewise, we will drop all `IDs` columns. Also, we have the product category already represented in english, we will remove the other `product_category_name` and keep the english translated version.\n",
    "\n",
    "From Notebook #3 - Data exploratory, some numerical variables are highly correlated, we will drop the highly correlated variables, these are `total_customer_price`, `total_customer_cost` and `payment_value`. We will also drop all `year` since we have `month` and `day`. "
   ]
  },
  {
   "cell_type": "code",
   "execution_count": 12,
   "id": "3423ea96",
   "metadata": {},
   "outputs": [],
   "source": [
    "# drop the id columns plus cities columns\n",
    "df.drop(['customer_id', 'customer_unique_id', 'review_id', 'seller_id',\n",
    "        'product_id', 'order_id', \n",
    "         'seller_city','customer_city','product_category_name', \n",
    "         'order_item_id', 'order_purchase_year', 'order_delivered_carrier_year',\n",
    "       'order_delivered_customer_year', 'order_estimated_delivery_year', \n",
    "         'carrier_date_diff','shipping_limit_year',\n",
    "        'review_creation_year', 'review_answer_year',\n",
    "        'price', 'payment_value', 'total_customer_price','order_delivered_carrier_day',\n",
    "          'total_customer_cost'], axis=1, inplace = True)"
   ]
  },
  {
   "cell_type": "code",
   "execution_count": 13,
   "id": "e9df6991",
   "metadata": {},
   "outputs": [
    {
     "data": {
      "text/plain": [
       "(94002, 45)"
      ]
     },
     "execution_count": 13,
     "metadata": {},
     "output_type": "execute_result"
    }
   ],
   "source": [
    "# sanity check\n",
    "df.shape"
   ]
  },
  {
   "cell_type": "markdown",
   "id": "8a0cf203",
   "metadata": {},
   "source": [
    "We have a reduced dataframe now. let us check the info again, with 45 columns."
   ]
  },
  {
   "cell_type": "code",
   "execution_count": 14,
   "id": "e886fe96",
   "metadata": {},
   "outputs": [
    {
     "name": "stdout",
     "output_type": "stream",
     "text": [
      "<class 'pandas.core.frame.DataFrame'>\n",
      "RangeIndex: 94002 entries, 0 to 94001\n",
      "Data columns (total 45 columns):\n",
      " #   Column                          Non-Null Count  Dtype  \n",
      "---  ------                          --------------  -----  \n",
      " 0   customer_zip_code_prefix        94002 non-null  int64  \n",
      " 1   customer_state                  94002 non-null  object \n",
      " 2   customer_latitude               94002 non-null  float64\n",
      " 3   customer_longitude              94002 non-null  float64\n",
      " 4   order_status                    94002 non-null  object \n",
      " 5   payment_sequential              94002 non-null  float64\n",
      " 6   payment_type                    94002 non-null  object \n",
      " 7   payment_installments            94002 non-null  float64\n",
      " 8   freight_value                   94002 non-null  float64\n",
      " 9   review_score                    94002 non-null  float64\n",
      " 10  product_name_length             94002 non-null  float64\n",
      " 11  product_description_length      94002 non-null  float64\n",
      " 12  product_photos_qty              94002 non-null  float64\n",
      " 13  product_weight_g                94002 non-null  float64\n",
      " 14  product_length_cm               94002 non-null  float64\n",
      " 15  product_height_cm               94002 non-null  float64\n",
      " 16  product_width_cm                94002 non-null  float64\n",
      " 17  product_category_name_english   94002 non-null  object \n",
      " 18  seller_zip_code_prefix          94002 non-null  float64\n",
      " 19  seller_state                    94002 non-null  object \n",
      " 20  seller_latitude                 94002 non-null  float64\n",
      " 21  seller_longitude                94002 non-null  float64\n",
      " 22  customer_delivery_time          94002 non-null  int64  \n",
      " 23  estimated_delivery_time         94002 non-null  int64  \n",
      " 24  carrier_delivery_date           94002 non-null  int64  \n",
      " 25  delivery_time_diff              94002 non-null  int64  \n",
      " 26  total_item_per_customer         94002 non-null  float64\n",
      " 27  total_frieght_price             94002 non-null  float64\n",
      " 28  frequency                       94002 non-null  int64  \n",
      " 29  recency                         94002 non-null  int64  \n",
      " 30  monetary                        94002 non-null  float64\n",
      " 31  churn                           94002 non-null  int64  \n",
      " 32  order_purchase_month            94002 non-null  int64  \n",
      " 33  order_delivered_carrier_month   94002 non-null  int64  \n",
      " 34  order_delivered_customer_month  94002 non-null  int64  \n",
      " 35  order_estimated_delivery_month  94002 non-null  int64  \n",
      " 36  shipping_limit_month            94002 non-null  int64  \n",
      " 37  review_creation_month           94002 non-null  int64  \n",
      " 38  review_answer_month             94002 non-null  int64  \n",
      " 39  order_purchase_day              94002 non-null  int64  \n",
      " 40  order_delivered_customer_day    94002 non-null  int64  \n",
      " 41  order_estimated_delivery_day    94002 non-null  int64  \n",
      " 42  shipping_limit_day              94002 non-null  int64  \n",
      " 43  review_creation_day             94002 non-null  int64  \n",
      " 44  review_answer_day               94002 non-null  int64  \n",
      "dtypes: float64(19), int64(21), object(5)\n",
      "memory usage: 32.3+ MB\n"
     ]
    }
   ],
   "source": [
    "#see info\n",
    "df.info()"
   ]
  },
  {
   "cell_type": "markdown",
   "id": "522a43f3",
   "metadata": {},
   "source": [
    "**Recency** was used in defining the **churn** category. For proper model 'learning' we will need to delete recency to avoid overfitting of our model. "
   ]
  },
  {
   "cell_type": "code",
   "execution_count": 15,
   "id": "9b08bb3a",
   "metadata": {},
   "outputs": [],
   "source": [
    "# drop Recency column\n",
    "df.drop(['recency'], axis=1, inplace = True)"
   ]
  },
  {
   "cell_type": "code",
   "execution_count": 16,
   "id": "e15df388",
   "metadata": {},
   "outputs": [
    {
     "data": {
      "text/plain": [
       "(94002, 44)"
      ]
     },
     "execution_count": 16,
     "metadata": {},
     "output_type": "execute_result"
    }
   ],
   "source": [
    "# sanity check\n",
    "df.shape"
   ]
  },
  {
   "cell_type": "code",
   "execution_count": 17,
   "id": "a31146a8",
   "metadata": {},
   "outputs": [
    {
     "name": "stdout",
     "output_type": "stream",
     "text": [
      "<class 'pandas.core.frame.DataFrame'>\n",
      "RangeIndex: 94002 entries, 0 to 94001\n",
      "Data columns (total 44 columns):\n",
      " #   Column                          Non-Null Count  Dtype  \n",
      "---  ------                          --------------  -----  \n",
      " 0   customer_zip_code_prefix        94002 non-null  int64  \n",
      " 1   customer_state                  94002 non-null  object \n",
      " 2   customer_latitude               94002 non-null  float64\n",
      " 3   customer_longitude              94002 non-null  float64\n",
      " 4   order_status                    94002 non-null  object \n",
      " 5   payment_sequential              94002 non-null  float64\n",
      " 6   payment_type                    94002 non-null  object \n",
      " 7   payment_installments            94002 non-null  float64\n",
      " 8   freight_value                   94002 non-null  float64\n",
      " 9   review_score                    94002 non-null  float64\n",
      " 10  product_name_length             94002 non-null  float64\n",
      " 11  product_description_length      94002 non-null  float64\n",
      " 12  product_photos_qty              94002 non-null  float64\n",
      " 13  product_weight_g                94002 non-null  float64\n",
      " 14  product_length_cm               94002 non-null  float64\n",
      " 15  product_height_cm               94002 non-null  float64\n",
      " 16  product_width_cm                94002 non-null  float64\n",
      " 17  product_category_name_english   94002 non-null  object \n",
      " 18  seller_zip_code_prefix          94002 non-null  float64\n",
      " 19  seller_state                    94002 non-null  object \n",
      " 20  seller_latitude                 94002 non-null  float64\n",
      " 21  seller_longitude                94002 non-null  float64\n",
      " 22  customer_delivery_time          94002 non-null  int64  \n",
      " 23  estimated_delivery_time         94002 non-null  int64  \n",
      " 24  carrier_delivery_date           94002 non-null  int64  \n",
      " 25  delivery_time_diff              94002 non-null  int64  \n",
      " 26  total_item_per_customer         94002 non-null  float64\n",
      " 27  total_frieght_price             94002 non-null  float64\n",
      " 28  frequency                       94002 non-null  int64  \n",
      " 29  monetary                        94002 non-null  float64\n",
      " 30  churn                           94002 non-null  int64  \n",
      " 31  order_purchase_month            94002 non-null  int64  \n",
      " 32  order_delivered_carrier_month   94002 non-null  int64  \n",
      " 33  order_delivered_customer_month  94002 non-null  int64  \n",
      " 34  order_estimated_delivery_month  94002 non-null  int64  \n",
      " 35  shipping_limit_month            94002 non-null  int64  \n",
      " 36  review_creation_month           94002 non-null  int64  \n",
      " 37  review_answer_month             94002 non-null  int64  \n",
      " 38  order_purchase_day              94002 non-null  int64  \n",
      " 39  order_delivered_customer_day    94002 non-null  int64  \n",
      " 40  order_estimated_delivery_day    94002 non-null  int64  \n",
      " 41  shipping_limit_day              94002 non-null  int64  \n",
      " 42  review_creation_day             94002 non-null  int64  \n",
      " 43  review_answer_day               94002 non-null  int64  \n",
      "dtypes: float64(19), int64(20), object(5)\n",
      "memory usage: 31.6+ MB\n"
     ]
    }
   ],
   "source": [
    "#see info\n",
    "df.info()"
   ]
  },
  {
   "cell_type": "markdown",
   "id": "a7f23820",
   "metadata": {},
   "source": [
    "### Categorical to Numerical Variables"
   ]
  },
  {
   "cell_type": "markdown",
   "id": "ea94296f",
   "metadata": {},
   "source": [
    "For modeling as stated earlier, we will convert the non-numeric variables to numeric. Since we have dropped some, we will go ahead and have a look at the the remianing and convert them to numeric."
   ]
  },
  {
   "cell_type": "code",
   "execution_count": 18,
   "id": "7238a843",
   "metadata": {},
   "outputs": [
    {
     "name": "stdout",
     "output_type": "stream",
     "text": [
      "<class 'pandas.core.frame.DataFrame'>\n",
      "RangeIndex: 94002 entries, 0 to 94001\n",
      "Data columns (total 5 columns):\n",
      " #   Column                         Non-Null Count  Dtype \n",
      "---  ------                         --------------  ----- \n",
      " 0   customer_state                 94002 non-null  object\n",
      " 1   order_status                   94002 non-null  object\n",
      " 2   payment_type                   94002 non-null  object\n",
      " 3   product_category_name_english  94002 non-null  object\n",
      " 4   seller_state                   94002 non-null  object\n",
      "dtypes: object(5)\n",
      "memory usage: 3.6+ MB\n"
     ]
    }
   ],
   "source": [
    "# check the 'object' data types\n",
    "non_numeric_df2 = df.select_dtypes(['object'])\n",
    "non_numeric_df2.info()"
   ]
  },
  {
   "cell_type": "markdown",
   "id": "3ad3a420",
   "metadata": {},
   "source": [
    "There are 5 columns that are categorical, we will need to convert them to numeric columns. These are:\n",
    "\n",
    "1. **customer_state**\n",
    "2. **order_status**\n",
    "3. **payment_type**\n",
    "4. **product_category_name_english**\n",
    "5. **seller_state**\n",
    "\n",
    "We will transform the above columns using `OneHotEncoder`. "
   ]
  },
  {
   "cell_type": "code",
   "execution_count": 19,
   "id": "84f417b3",
   "metadata": {},
   "outputs": [
    {
     "data": {
      "text/plain": [
       "ColumnTransformer(transformers=[('payment_type', OneHotEncoder(),\n",
       "                                 ['payment_type']),\n",
       "                                ('product_category_name_english',\n",
       "                                 OneHotEncoder(),\n",
       "                                 ['product_category_name_english']),\n",
       "                                ('customer_state', OneHotEncoder(),\n",
       "                                 ['customer_state']),\n",
       "                                ('order_status', OneHotEncoder(),\n",
       "                                 ['order_status']),\n",
       "                                ('seller_state', OneHotEncoder(),\n",
       "                                 ['seller_state'])])"
      ]
     },
     "execution_count": 19,
     "metadata": {},
     "output_type": "execute_result"
    }
   ],
   "source": [
    "# Put the columns to be converted in a list with the method to be used\n",
    "column_transform_list = [\n",
    "                         ('payment_type', OneHotEncoder(), ['payment_type']),\n",
    "                         ('product_category_name_english', \n",
    "                          OneHotEncoder(), ['product_category_name_english']),\n",
    "                         ('customer_state', OneHotEncoder(), ['customer_state']),\n",
    "                         ('order_status', OneHotEncoder(), ['order_status']),\n",
    "                         ('seller_state', OneHotEncoder(), ['seller_state'])\n",
    "]\n",
    "\n",
    "# Creating the column transformer\n",
    "column_transformer = ColumnTransformer(column_transform_list)\n",
    "\n",
    "# Fit it on the original dataset\n",
    "column_transformer.fit(df)\n"
   ]
  },
  {
   "cell_type": "code",
   "execution_count": 20,
   "id": "0be8f291",
   "metadata": {},
   "outputs": [
    {
     "data": {
      "text/plain": [
       "['payment_type__x0_boleto',\n",
       " 'payment_type__x0_credit_card',\n",
       " 'payment_type__x0_debit_card',\n",
       " 'payment_type__x0_voucher',\n",
       " 'product_category_name_english__x0_agro_industry_and_commerce',\n",
       " 'product_category_name_english__x0_air_conditioning',\n",
       " 'product_category_name_english__x0_art',\n",
       " 'product_category_name_english__x0_arts_and_craftmanship',\n",
       " 'product_category_name_english__x0_audio',\n",
       " 'product_category_name_english__x0_auto',\n",
       " 'product_category_name_english__x0_baby',\n",
       " 'product_category_name_english__x0_bed_bath_table',\n",
       " 'product_category_name_english__x0_books_general_interest',\n",
       " 'product_category_name_english__x0_books_imported',\n",
       " 'product_category_name_english__x0_books_technical',\n",
       " 'product_category_name_english__x0_cds_dvds_musicals',\n",
       " 'product_category_name_english__x0_christmas_supplies',\n",
       " 'product_category_name_english__x0_cine_photo',\n",
       " 'product_category_name_english__x0_computers',\n",
       " 'product_category_name_english__x0_computers_accessories',\n",
       " 'product_category_name_english__x0_consoles_games',\n",
       " 'product_category_name_english__x0_construction_tools_construction',\n",
       " 'product_category_name_english__x0_construction_tools_lights',\n",
       " 'product_category_name_english__x0_construction_tools_safety',\n",
       " 'product_category_name_english__x0_cool_stuff',\n",
       " 'product_category_name_english__x0_costruction_tools_garden',\n",
       " 'product_category_name_english__x0_costruction_tools_tools',\n",
       " 'product_category_name_english__x0_diapers_and_hygiene',\n",
       " 'product_category_name_english__x0_drinks',\n",
       " 'product_category_name_english__x0_dvds_blu_ray',\n",
       " 'product_category_name_english__x0_electronics',\n",
       " 'product_category_name_english__x0_fashio_female_clothing',\n",
       " 'product_category_name_english__x0_fashion_bags_accessories',\n",
       " 'product_category_name_english__x0_fashion_childrens_clothes',\n",
       " 'product_category_name_english__x0_fashion_male_clothing',\n",
       " 'product_category_name_english__x0_fashion_shoes',\n",
       " 'product_category_name_english__x0_fashion_sport',\n",
       " 'product_category_name_english__x0_fashion_underwear_beach',\n",
       " 'product_category_name_english__x0_fixed_telephony',\n",
       " 'product_category_name_english__x0_flowers',\n",
       " 'product_category_name_english__x0_food',\n",
       " 'product_category_name_english__x0_food_drink',\n",
       " 'product_category_name_english__x0_furniture_bedroom',\n",
       " 'product_category_name_english__x0_furniture_decor',\n",
       " 'product_category_name_english__x0_furniture_living_room',\n",
       " 'product_category_name_english__x0_furniture_mattress_and_upholstery',\n",
       " 'product_category_name_english__x0_garden_tools',\n",
       " 'product_category_name_english__x0_health_beauty',\n",
       " 'product_category_name_english__x0_home_appliances',\n",
       " 'product_category_name_english__x0_home_appliances_2',\n",
       " 'product_category_name_english__x0_home_comfort_2',\n",
       " 'product_category_name_english__x0_home_confort',\n",
       " 'product_category_name_english__x0_home_construction',\n",
       " 'product_category_name_english__x0_housewares',\n",
       " 'product_category_name_english__x0_industry_commerce_and_business',\n",
       " 'product_category_name_english__x0_kitchen_dining_laundry_garden_furniture',\n",
       " 'product_category_name_english__x0_la_cuisine',\n",
       " 'product_category_name_english__x0_luggage_accessories',\n",
       " 'product_category_name_english__x0_market_place',\n",
       " 'product_category_name_english__x0_music',\n",
       " 'product_category_name_english__x0_musical_instruments',\n",
       " 'product_category_name_english__x0_office_furniture',\n",
       " 'product_category_name_english__x0_party_supplies',\n",
       " 'product_category_name_english__x0_perfumery',\n",
       " 'product_category_name_english__x0_pet_shop',\n",
       " 'product_category_name_english__x0_security_and_services',\n",
       " 'product_category_name_english__x0_signaling_and_security',\n",
       " 'product_category_name_english__x0_small_appliances',\n",
       " 'product_category_name_english__x0_small_appliances_home_oven_and_coffee',\n",
       " 'product_category_name_english__x0_sports_leisure',\n",
       " 'product_category_name_english__x0_stationery',\n",
       " 'product_category_name_english__x0_tablets_printing_image',\n",
       " 'product_category_name_english__x0_telephony',\n",
       " 'product_category_name_english__x0_toys',\n",
       " 'product_category_name_english__x0_watches_gifts',\n",
       " 'customer_state__x0_AC',\n",
       " 'customer_state__x0_AL',\n",
       " 'customer_state__x0_AM',\n",
       " 'customer_state__x0_AP',\n",
       " 'customer_state__x0_BA',\n",
       " 'customer_state__x0_CE',\n",
       " 'customer_state__x0_DF',\n",
       " 'customer_state__x0_ES',\n",
       " 'customer_state__x0_GO',\n",
       " 'customer_state__x0_MA',\n",
       " 'customer_state__x0_MG',\n",
       " 'customer_state__x0_MS',\n",
       " 'customer_state__x0_MT',\n",
       " 'customer_state__x0_PA',\n",
       " 'customer_state__x0_PB',\n",
       " 'customer_state__x0_PE',\n",
       " 'customer_state__x0_PI',\n",
       " 'customer_state__x0_PR',\n",
       " 'customer_state__x0_RJ',\n",
       " 'customer_state__x0_RN',\n",
       " 'customer_state__x0_RO',\n",
       " 'customer_state__x0_RR',\n",
       " 'customer_state__x0_RS',\n",
       " 'customer_state__x0_SC',\n",
       " 'customer_state__x0_SE',\n",
       " 'customer_state__x0_SP',\n",
       " 'customer_state__x0_TO',\n",
       " 'order_status__x0_canceled',\n",
       " 'order_status__x0_delivered',\n",
       " 'seller_state__x0_AM',\n",
       " 'seller_state__x0_BA',\n",
       " 'seller_state__x0_CE',\n",
       " 'seller_state__x0_DF',\n",
       " 'seller_state__x0_ES',\n",
       " 'seller_state__x0_GO',\n",
       " 'seller_state__x0_MA',\n",
       " 'seller_state__x0_MG',\n",
       " 'seller_state__x0_MS',\n",
       " 'seller_state__x0_MT',\n",
       " 'seller_state__x0_PA',\n",
       " 'seller_state__x0_PB',\n",
       " 'seller_state__x0_PE',\n",
       " 'seller_state__x0_PI',\n",
       " 'seller_state__x0_PR',\n",
       " 'seller_state__x0_RJ',\n",
       " 'seller_state__x0_RN',\n",
       " 'seller_state__x0_RO',\n",
       " 'seller_state__x0_RS',\n",
       " 'seller_state__x0_SC',\n",
       " 'seller_state__x0_SE',\n",
       " 'seller_state__x0_SP']"
      ]
     },
     "execution_count": 20,
     "metadata": {},
     "output_type": "execute_result"
    }
   ],
   "source": [
    "# Get column names with the column titles as a prefix\n",
    "column_transformer.get_feature_names()"
   ]
  },
  {
   "cell_type": "code",
   "execution_count": 21,
   "id": "8e35ae0e",
   "metadata": {},
   "outputs": [
    {
     "data": {
      "text/plain": [
       "<94002x126 sparse matrix of type '<class 'numpy.float64'>'\n",
       "\twith 470010 stored elements in Compressed Sparse Row format>"
      ]
     },
     "execution_count": 21,
     "metadata": {},
     "output_type": "execute_result"
    }
   ],
   "source": [
    "# Transform the original dataset\n",
    "\n",
    "transformed_col = column_transformer.transform(df)\n",
    "\n",
    "# Sanity check \n",
    "transformed_col\n"
   ]
  },
  {
   "cell_type": "markdown",
   "id": "e51edd76",
   "metadata": {},
   "source": [
    "We have succeeded in converting to a sparse matrix of numeric datatype with `126` columns. "
   ]
  },
  {
   "cell_type": "code",
   "execution_count": 22,
   "id": "355194b9",
   "metadata": {},
   "outputs": [
    {
     "data": {
      "text/html": [
       "<div>\n",
       "<style scoped>\n",
       "    .dataframe tbody tr th:only-of-type {\n",
       "        vertical-align: middle;\n",
       "    }\n",
       "\n",
       "    .dataframe tbody tr th {\n",
       "        vertical-align: top;\n",
       "    }\n",
       "\n",
       "    .dataframe thead th {\n",
       "        text-align: right;\n",
       "    }\n",
       "</style>\n",
       "<table border=\"1\" class=\"dataframe\">\n",
       "  <thead>\n",
       "    <tr style=\"text-align: right;\">\n",
       "      <th></th>\n",
       "      <th>payment_type__x0_boleto</th>\n",
       "      <th>payment_type__x0_credit_card</th>\n",
       "      <th>payment_type__x0_debit_card</th>\n",
       "      <th>payment_type__x0_voucher</th>\n",
       "      <th>product_category_name_english__x0_agro_industry_and_commerce</th>\n",
       "      <th>product_category_name_english__x0_air_conditioning</th>\n",
       "      <th>product_category_name_english__x0_art</th>\n",
       "      <th>product_category_name_english__x0_arts_and_craftmanship</th>\n",
       "      <th>product_category_name_english__x0_audio</th>\n",
       "      <th>product_category_name_english__x0_auto</th>\n",
       "      <th>...</th>\n",
       "      <th>seller_state__x0_PE</th>\n",
       "      <th>seller_state__x0_PI</th>\n",
       "      <th>seller_state__x0_PR</th>\n",
       "      <th>seller_state__x0_RJ</th>\n",
       "      <th>seller_state__x0_RN</th>\n",
       "      <th>seller_state__x0_RO</th>\n",
       "      <th>seller_state__x0_RS</th>\n",
       "      <th>seller_state__x0_SC</th>\n",
       "      <th>seller_state__x0_SE</th>\n",
       "      <th>seller_state__x0_SP</th>\n",
       "    </tr>\n",
       "  </thead>\n",
       "  <tbody>\n",
       "    <tr>\n",
       "      <th>0</th>\n",
       "      <td>0.0</td>\n",
       "      <td>1.0</td>\n",
       "      <td>0.0</td>\n",
       "      <td>0.0</td>\n",
       "      <td>0.0</td>\n",
       "      <td>0.0</td>\n",
       "      <td>0.0</td>\n",
       "      <td>0.0</td>\n",
       "      <td>0.0</td>\n",
       "      <td>0.0</td>\n",
       "      <td>...</td>\n",
       "      <td>0.0</td>\n",
       "      <td>0.0</td>\n",
       "      <td>0.0</td>\n",
       "      <td>0.0</td>\n",
       "      <td>0.0</td>\n",
       "      <td>0.0</td>\n",
       "      <td>0.0</td>\n",
       "      <td>0.0</td>\n",
       "      <td>0.0</td>\n",
       "      <td>1.0</td>\n",
       "    </tr>\n",
       "    <tr>\n",
       "      <th>1</th>\n",
       "      <td>0.0</td>\n",
       "      <td>1.0</td>\n",
       "      <td>0.0</td>\n",
       "      <td>0.0</td>\n",
       "      <td>0.0</td>\n",
       "      <td>0.0</td>\n",
       "      <td>0.0</td>\n",
       "      <td>0.0</td>\n",
       "      <td>0.0</td>\n",
       "      <td>0.0</td>\n",
       "      <td>...</td>\n",
       "      <td>0.0</td>\n",
       "      <td>0.0</td>\n",
       "      <td>0.0</td>\n",
       "      <td>0.0</td>\n",
       "      <td>0.0</td>\n",
       "      <td>0.0</td>\n",
       "      <td>0.0</td>\n",
       "      <td>0.0</td>\n",
       "      <td>0.0</td>\n",
       "      <td>1.0</td>\n",
       "    </tr>\n",
       "    <tr>\n",
       "      <th>2</th>\n",
       "      <td>0.0</td>\n",
       "      <td>1.0</td>\n",
       "      <td>0.0</td>\n",
       "      <td>0.0</td>\n",
       "      <td>0.0</td>\n",
       "      <td>0.0</td>\n",
       "      <td>0.0</td>\n",
       "      <td>0.0</td>\n",
       "      <td>0.0</td>\n",
       "      <td>0.0</td>\n",
       "      <td>...</td>\n",
       "      <td>0.0</td>\n",
       "      <td>0.0</td>\n",
       "      <td>0.0</td>\n",
       "      <td>0.0</td>\n",
       "      <td>0.0</td>\n",
       "      <td>0.0</td>\n",
       "      <td>0.0</td>\n",
       "      <td>1.0</td>\n",
       "      <td>0.0</td>\n",
       "      <td>0.0</td>\n",
       "    </tr>\n",
       "    <tr>\n",
       "      <th>3</th>\n",
       "      <td>0.0</td>\n",
       "      <td>1.0</td>\n",
       "      <td>0.0</td>\n",
       "      <td>0.0</td>\n",
       "      <td>0.0</td>\n",
       "      <td>0.0</td>\n",
       "      <td>0.0</td>\n",
       "      <td>0.0</td>\n",
       "      <td>0.0</td>\n",
       "      <td>1.0</td>\n",
       "      <td>...</td>\n",
       "      <td>0.0</td>\n",
       "      <td>0.0</td>\n",
       "      <td>0.0</td>\n",
       "      <td>0.0</td>\n",
       "      <td>0.0</td>\n",
       "      <td>0.0</td>\n",
       "      <td>0.0</td>\n",
       "      <td>0.0</td>\n",
       "      <td>0.0</td>\n",
       "      <td>1.0</td>\n",
       "    </tr>\n",
       "    <tr>\n",
       "      <th>4</th>\n",
       "      <td>0.0</td>\n",
       "      <td>1.0</td>\n",
       "      <td>0.0</td>\n",
       "      <td>0.0</td>\n",
       "      <td>0.0</td>\n",
       "      <td>0.0</td>\n",
       "      <td>0.0</td>\n",
       "      <td>0.0</td>\n",
       "      <td>0.0</td>\n",
       "      <td>0.0</td>\n",
       "      <td>...</td>\n",
       "      <td>0.0</td>\n",
       "      <td>0.0</td>\n",
       "      <td>0.0</td>\n",
       "      <td>0.0</td>\n",
       "      <td>0.0</td>\n",
       "      <td>0.0</td>\n",
       "      <td>0.0</td>\n",
       "      <td>0.0</td>\n",
       "      <td>0.0</td>\n",
       "      <td>1.0</td>\n",
       "    </tr>\n",
       "  </tbody>\n",
       "</table>\n",
       "<p>5 rows × 126 columns</p>\n",
       "</div>"
      ],
      "text/plain": [
       "   payment_type__x0_boleto  payment_type__x0_credit_card  \\\n",
       "0                      0.0                           1.0   \n",
       "1                      0.0                           1.0   \n",
       "2                      0.0                           1.0   \n",
       "3                      0.0                           1.0   \n",
       "4                      0.0                           1.0   \n",
       "\n",
       "   payment_type__x0_debit_card  payment_type__x0_voucher  \\\n",
       "0                          0.0                       0.0   \n",
       "1                          0.0                       0.0   \n",
       "2                          0.0                       0.0   \n",
       "3                          0.0                       0.0   \n",
       "4                          0.0                       0.0   \n",
       "\n",
       "   product_category_name_english__x0_agro_industry_and_commerce  \\\n",
       "0                                                0.0              \n",
       "1                                                0.0              \n",
       "2                                                0.0              \n",
       "3                                                0.0              \n",
       "4                                                0.0              \n",
       "\n",
       "   product_category_name_english__x0_air_conditioning  \\\n",
       "0                                                0.0    \n",
       "1                                                0.0    \n",
       "2                                                0.0    \n",
       "3                                                0.0    \n",
       "4                                                0.0    \n",
       "\n",
       "   product_category_name_english__x0_art  \\\n",
       "0                                    0.0   \n",
       "1                                    0.0   \n",
       "2                                    0.0   \n",
       "3                                    0.0   \n",
       "4                                    0.0   \n",
       "\n",
       "   product_category_name_english__x0_arts_and_craftmanship  \\\n",
       "0                                                0.0         \n",
       "1                                                0.0         \n",
       "2                                                0.0         \n",
       "3                                                0.0         \n",
       "4                                                0.0         \n",
       "\n",
       "   product_category_name_english__x0_audio  \\\n",
       "0                                      0.0   \n",
       "1                                      0.0   \n",
       "2                                      0.0   \n",
       "3                                      0.0   \n",
       "4                                      0.0   \n",
       "\n",
       "   product_category_name_english__x0_auto  ...  seller_state__x0_PE  \\\n",
       "0                                     0.0  ...                  0.0   \n",
       "1                                     0.0  ...                  0.0   \n",
       "2                                     0.0  ...                  0.0   \n",
       "3                                     1.0  ...                  0.0   \n",
       "4                                     0.0  ...                  0.0   \n",
       "\n",
       "   seller_state__x0_PI  seller_state__x0_PR  seller_state__x0_RJ  \\\n",
       "0                  0.0                  0.0                  0.0   \n",
       "1                  0.0                  0.0                  0.0   \n",
       "2                  0.0                  0.0                  0.0   \n",
       "3                  0.0                  0.0                  0.0   \n",
       "4                  0.0                  0.0                  0.0   \n",
       "\n",
       "   seller_state__x0_RN  seller_state__x0_RO  seller_state__x0_RS  \\\n",
       "0                  0.0                  0.0                  0.0   \n",
       "1                  0.0                  0.0                  0.0   \n",
       "2                  0.0                  0.0                  0.0   \n",
       "3                  0.0                  0.0                  0.0   \n",
       "4                  0.0                  0.0                  0.0   \n",
       "\n",
       "   seller_state__x0_SC  seller_state__x0_SE  seller_state__x0_SP  \n",
       "0                  0.0                  0.0                  1.0  \n",
       "1                  0.0                  0.0                  1.0  \n",
       "2                  1.0                  0.0                  0.0  \n",
       "3                  0.0                  0.0                  1.0  \n",
       "4                  0.0                  0.0                  1.0  \n",
       "\n",
       "[5 rows x 126 columns]"
      ]
     },
     "execution_count": 22,
     "metadata": {},
     "output_type": "execute_result"
    }
   ],
   "source": [
    "# put the transformed matrix to a dataframe\n",
    "\n",
    "transformed_df = pd.DataFrame(transformed_col.toarray(),\n",
    "                              columns=column_transformer.get_feature_names(),\n",
    "                              index=df.index)\n",
    "\n",
    "# sanity check\n",
    "transformed_df.head()"
   ]
  },
  {
   "cell_type": "markdown",
   "id": "8fe5bcb9",
   "metadata": {},
   "source": [
    "We will now concatenate the transformed dataframe with our original dataframe and drop the columns we made the sparse matrix from."
   ]
  },
  {
   "cell_type": "code",
   "execution_count": 23,
   "id": "8ab021d6",
   "metadata": {},
   "outputs": [],
   "source": [
    "# Concatenate the transformed_df and our original dataframe \n",
    "\n",
    "df = pd.concat([df, transformed_df], axis=1)"
   ]
  },
  {
   "cell_type": "code",
   "execution_count": 24,
   "id": "234edd65",
   "metadata": {},
   "outputs": [
    {
     "data": {
      "text/html": [
       "<div>\n",
       "<style scoped>\n",
       "    .dataframe tbody tr th:only-of-type {\n",
       "        vertical-align: middle;\n",
       "    }\n",
       "\n",
       "    .dataframe tbody tr th {\n",
       "        vertical-align: top;\n",
       "    }\n",
       "\n",
       "    .dataframe thead th {\n",
       "        text-align: right;\n",
       "    }\n",
       "</style>\n",
       "<table border=\"1\" class=\"dataframe\">\n",
       "  <thead>\n",
       "    <tr style=\"text-align: right;\">\n",
       "      <th></th>\n",
       "      <th>customer_zip_code_prefix</th>\n",
       "      <th>customer_latitude</th>\n",
       "      <th>customer_longitude</th>\n",
       "      <th>payment_sequential</th>\n",
       "      <th>payment_installments</th>\n",
       "      <th>freight_value</th>\n",
       "      <th>review_score</th>\n",
       "      <th>product_name_length</th>\n",
       "      <th>product_description_length</th>\n",
       "      <th>product_photos_qty</th>\n",
       "      <th>...</th>\n",
       "      <th>seller_state__x0_PE</th>\n",
       "      <th>seller_state__x0_PI</th>\n",
       "      <th>seller_state__x0_PR</th>\n",
       "      <th>seller_state__x0_RJ</th>\n",
       "      <th>seller_state__x0_RN</th>\n",
       "      <th>seller_state__x0_RO</th>\n",
       "      <th>seller_state__x0_RS</th>\n",
       "      <th>seller_state__x0_SC</th>\n",
       "      <th>seller_state__x0_SE</th>\n",
       "      <th>seller_state__x0_SP</th>\n",
       "    </tr>\n",
       "  </thead>\n",
       "  <tbody>\n",
       "    <tr>\n",
       "      <th>0</th>\n",
       "      <td>14409</td>\n",
       "      <td>-20.509898</td>\n",
       "      <td>-47.397866</td>\n",
       "      <td>1.0</td>\n",
       "      <td>2.0</td>\n",
       "      <td>21.88</td>\n",
       "      <td>4.0</td>\n",
       "      <td>41.0</td>\n",
       "      <td>1141.0</td>\n",
       "      <td>1.0</td>\n",
       "      <td>...</td>\n",
       "      <td>0.0</td>\n",
       "      <td>0.0</td>\n",
       "      <td>0.0</td>\n",
       "      <td>0.0</td>\n",
       "      <td>0.0</td>\n",
       "      <td>0.0</td>\n",
       "      <td>0.0</td>\n",
       "      <td>0.0</td>\n",
       "      <td>0.0</td>\n",
       "      <td>1.0</td>\n",
       "    </tr>\n",
       "    <tr>\n",
       "      <th>1</th>\n",
       "      <td>14409</td>\n",
       "      <td>-20.509898</td>\n",
       "      <td>-47.397866</td>\n",
       "      <td>1.0</td>\n",
       "      <td>8.0</td>\n",
       "      <td>14.87</td>\n",
       "      <td>5.0</td>\n",
       "      <td>54.0</td>\n",
       "      <td>245.0</td>\n",
       "      <td>1.0</td>\n",
       "      <td>...</td>\n",
       "      <td>0.0</td>\n",
       "      <td>0.0</td>\n",
       "      <td>0.0</td>\n",
       "      <td>0.0</td>\n",
       "      <td>0.0</td>\n",
       "      <td>0.0</td>\n",
       "      <td>0.0</td>\n",
       "      <td>0.0</td>\n",
       "      <td>0.0</td>\n",
       "      <td>1.0</td>\n",
       "    </tr>\n",
       "    <tr>\n",
       "      <th>2</th>\n",
       "      <td>14409</td>\n",
       "      <td>-20.509898</td>\n",
       "      <td>-47.397866</td>\n",
       "      <td>1.0</td>\n",
       "      <td>1.0</td>\n",
       "      <td>17.60</td>\n",
       "      <td>5.0</td>\n",
       "      <td>40.0</td>\n",
       "      <td>403.0</td>\n",
       "      <td>1.0</td>\n",
       "      <td>...</td>\n",
       "      <td>0.0</td>\n",
       "      <td>0.0</td>\n",
       "      <td>0.0</td>\n",
       "      <td>0.0</td>\n",
       "      <td>0.0</td>\n",
       "      <td>0.0</td>\n",
       "      <td>0.0</td>\n",
       "      <td>1.0</td>\n",
       "      <td>0.0</td>\n",
       "      <td>0.0</td>\n",
       "    </tr>\n",
       "    <tr>\n",
       "      <th>3</th>\n",
       "      <td>14409</td>\n",
       "      <td>-20.509898</td>\n",
       "      <td>-47.397866</td>\n",
       "      <td>1.0</td>\n",
       "      <td>3.0</td>\n",
       "      <td>12.79</td>\n",
       "      <td>5.0</td>\n",
       "      <td>46.0</td>\n",
       "      <td>708.0</td>\n",
       "      <td>1.0</td>\n",
       "      <td>...</td>\n",
       "      <td>0.0</td>\n",
       "      <td>0.0</td>\n",
       "      <td>0.0</td>\n",
       "      <td>0.0</td>\n",
       "      <td>0.0</td>\n",
       "      <td>0.0</td>\n",
       "      <td>0.0</td>\n",
       "      <td>0.0</td>\n",
       "      <td>0.0</td>\n",
       "      <td>1.0</td>\n",
       "    </tr>\n",
       "    <tr>\n",
       "      <th>4</th>\n",
       "      <td>14409</td>\n",
       "      <td>-20.509898</td>\n",
       "      <td>-47.397866</td>\n",
       "      <td>1.0</td>\n",
       "      <td>1.0</td>\n",
       "      <td>13.11</td>\n",
       "      <td>5.0</td>\n",
       "      <td>51.0</td>\n",
       "      <td>339.0</td>\n",
       "      <td>3.0</td>\n",
       "      <td>...</td>\n",
       "      <td>0.0</td>\n",
       "      <td>0.0</td>\n",
       "      <td>0.0</td>\n",
       "      <td>0.0</td>\n",
       "      <td>0.0</td>\n",
       "      <td>0.0</td>\n",
       "      <td>0.0</td>\n",
       "      <td>0.0</td>\n",
       "      <td>0.0</td>\n",
       "      <td>1.0</td>\n",
       "    </tr>\n",
       "  </tbody>\n",
       "</table>\n",
       "<p>5 rows × 165 columns</p>\n",
       "</div>"
      ],
      "text/plain": [
       "   customer_zip_code_prefix  customer_latitude  customer_longitude  \\\n",
       "0                     14409         -20.509898          -47.397866   \n",
       "1                     14409         -20.509898          -47.397866   \n",
       "2                     14409         -20.509898          -47.397866   \n",
       "3                     14409         -20.509898          -47.397866   \n",
       "4                     14409         -20.509898          -47.397866   \n",
       "\n",
       "   payment_sequential  payment_installments  freight_value  review_score  \\\n",
       "0                 1.0                   2.0          21.88           4.0   \n",
       "1                 1.0                   8.0          14.87           5.0   \n",
       "2                 1.0                   1.0          17.60           5.0   \n",
       "3                 1.0                   3.0          12.79           5.0   \n",
       "4                 1.0                   1.0          13.11           5.0   \n",
       "\n",
       "   product_name_length  product_description_length  product_photos_qty  ...  \\\n",
       "0                 41.0                      1141.0                 1.0  ...   \n",
       "1                 54.0                       245.0                 1.0  ...   \n",
       "2                 40.0                       403.0                 1.0  ...   \n",
       "3                 46.0                       708.0                 1.0  ...   \n",
       "4                 51.0                       339.0                 3.0  ...   \n",
       "\n",
       "   seller_state__x0_PE  seller_state__x0_PI  seller_state__x0_PR  \\\n",
       "0                  0.0                  0.0                  0.0   \n",
       "1                  0.0                  0.0                  0.0   \n",
       "2                  0.0                  0.0                  0.0   \n",
       "3                  0.0                  0.0                  0.0   \n",
       "4                  0.0                  0.0                  0.0   \n",
       "\n",
       "   seller_state__x0_RJ  seller_state__x0_RN  seller_state__x0_RO  \\\n",
       "0                  0.0                  0.0                  0.0   \n",
       "1                  0.0                  0.0                  0.0   \n",
       "2                  0.0                  0.0                  0.0   \n",
       "3                  0.0                  0.0                  0.0   \n",
       "4                  0.0                  0.0                  0.0   \n",
       "\n",
       "   seller_state__x0_RS  seller_state__x0_SC  seller_state__x0_SE  \\\n",
       "0                  0.0                  0.0                  0.0   \n",
       "1                  0.0                  0.0                  0.0   \n",
       "2                  0.0                  1.0                  0.0   \n",
       "3                  0.0                  0.0                  0.0   \n",
       "4                  0.0                  0.0                  0.0   \n",
       "\n",
       "   seller_state__x0_SP  \n",
       "0                  1.0  \n",
       "1                  1.0  \n",
       "2                  0.0  \n",
       "3                  1.0  \n",
       "4                  1.0  \n",
       "\n",
       "[5 rows x 165 columns]"
      ]
     },
     "execution_count": 24,
     "metadata": {},
     "output_type": "execute_result"
    }
   ],
   "source": [
    "# Drop the former columns\n",
    "df.drop(['payment_type', 'product_category_name_english', \n",
    "         'customer_state','order_status', 'seller_state'], axis=1, inplace=True)\n",
    "\n",
    "# Sanity check\n",
    "df.head()"
   ]
  },
  {
   "cell_type": "code",
   "execution_count": 25,
   "id": "e783db70",
   "metadata": {},
   "outputs": [
    {
     "data": {
      "text/plain": [
       "(94002, 165)"
      ]
     },
     "execution_count": 25,
     "metadata": {},
     "output_type": "execute_result"
    }
   ],
   "source": [
    "# check the shape\n",
    "df.shape"
   ]
  },
  {
   "cell_type": "markdown",
   "id": "088ff246",
   "metadata": {},
   "source": [
    "We ended up with `165` columns after transformation."
   ]
  },
  {
   "cell_type": "markdown",
   "id": "c3a5dce4",
   "metadata": {},
   "source": [
    "### Train-Test Split"
   ]
  },
  {
   "cell_type": "markdown",
   "id": "233d7633",
   "metadata": {},
   "source": [
    "In our dataframe, we have dependent and independent features. It is neccessary to separate these two into different dataframes. Our traget variable - the dependent feature which is the `churn` column will be represented as `y` while the others - the independent features will be represented as `X`."
   ]
  },
  {
   "cell_type": "code",
   "execution_count": 26,
   "id": "bc7f6eb1",
   "metadata": {},
   "outputs": [],
   "source": [
    "# Assign dependent and independent variables\n",
    "X = df.drop('churn', axis = 1)\n",
    "y = df['churn']"
   ]
  },
  {
   "cell_type": "code",
   "execution_count": 27,
   "id": "6b5911f6",
   "metadata": {},
   "outputs": [
    {
     "name": "stdout",
     "output_type": "stream",
     "text": [
      "X shape: (94002, 164)\n",
      "y shape: (94002,)\n"
     ]
    }
   ],
   "source": [
    "# let's see the shape\n",
    "print(f\"X shape: {X.shape}\")\n",
    "print(f\"y shape: {y.shape}\")"
   ]
  },
  {
   "cell_type": "markdown",
   "id": "20701bd5",
   "metadata": {},
   "source": [
    "#### Test, Train and Validation Data  Split\n",
    "\n",
    "In order to guard against overfitting, we will split our data into 3 sets namely; **Train**, **Test**, and **validation**. \n",
    "\n",
    "We will fit the models to train set, use validation set to tune a model's hyperparameters and use as a somewhat unbiased estimate of the model's performance. We except our model not to overfit to this data since we will not fit our model to validation set. But when we adjust the hyperparametrs, we may still be overfiting to it in someway. \n",
    "\n",
    "The test set will be a total unbiased estimate of the model's performance since the model has never seen it before. We will set the test set aside while we check the performance of our models on the validation set first. "
   ]
  },
  {
   "cell_type": "code",
   "execution_count": 28,
   "id": "541aa6f3",
   "metadata": {},
   "outputs": [
    {
     "name": "stdout",
     "output_type": "stream",
     "text": [
      "The X_train set has (75201, 164) shape.\n",
      "The X_test set has (18801, 164) shape.\n",
      "The y_train set has (75201,) shape.\n",
      "The y_test set has (18801,) shape.\n"
     ]
    }
   ],
   "source": [
    "# spliting our data into train and test sets\n",
    "X_train, X_test, y_train, y_test = train_test_split(X, y, test_size = 0.20, random_state = 67, stratify = y)\n",
    "\n",
    "# Checking the shape of our train and test sets\n",
    "print(f'The X_train set has {X_train.shape} shape.')\n",
    "print(f'The X_test set has {X_test.shape} shape.')\n",
    "print(f'The y_train set has {y_train.shape} shape.')\n",
    "print(f'The y_test set has {y_test.shape} shape.')"
   ]
  },
  {
   "cell_type": "code",
   "execution_count": 29,
   "id": "08c4a3fe",
   "metadata": {},
   "outputs": [
    {
     "name": "stdout",
     "output_type": "stream",
     "text": [
      "The train set has 52640 data points.\n",
      "The validation set has 22561 data points.\n"
     ]
    }
   ],
   "source": [
    "# Split the train set into train (X2 and y2) and validation sets\n",
    "X2_train, X_val, y2_train, y_val = train_test_split(X_train, y_train, test_size=0.30, random_state=1, stratify = y_train)\n",
    "\n",
    "# Print split info \n",
    "print(f'The train set has {len(X2_train)} data points.')\n",
    "print(f'The validation set has {len(X_val)} data points.')"
   ]
  },
  {
   "cell_type": "markdown",
   "id": "2ce10216",
   "metadata": {},
   "source": [
    "We now have our final proportion to be:\n",
    "- Test set: 0.2\n",
    "- Training set: 0.8 of 0.7 = 56%\n",
    "- Validation set: 0.8 of 0.3 = 24% \n",
    "    \n",
    "The data shape originally was 94,002 data points. We now have:\n",
    "\n",
    "* Test Set: 0.2 * 94,002 $\\approx$ 18,800\n",
    "* Validation Set: 0.24 * 94,002 $\\approx$ 22,560\n",
    "* Training Set: 0.56 * 94,002 $\\approx$ 52,641"
   ]
  },
  {
   "cell_type": "markdown",
   "id": "ba3fd70d",
   "metadata": {},
   "source": [
    "We need to make sure the `statify` function works well and the sets proportion have been preserved in every `y` set."
   ]
  },
  {
   "cell_type": "code",
   "execution_count": 30,
   "id": "38bf84c8",
   "metadata": {},
   "outputs": [
    {
     "name": "stdout",
     "output_type": "stream",
     "text": [
      "Proportions in original data:\n",
      "1    0.782915\n",
      "0    0.217085\n",
      "Name: churn, dtype: float64 \n",
      "\n",
      "Proportions in remainder set:\n",
      "1    0.782922\n",
      "0    0.217078\n",
      "Name: churn, dtype: float64 \n",
      "\n",
      "Proportions in test set:\n",
      "1    0.782884\n",
      "0    0.217116\n",
      "Name: churn, dtype: float64 \n",
      "\n",
      "Proportions in validation set:\n",
      "1    0.7829\n",
      "0    0.2171\n",
      "Name: churn, dtype: float64 \n",
      "\n"
     ]
    }
   ],
   "source": [
    "# check that the class proportions have been preserved in all sets.\n",
    "print('Proportions in original data:')\n",
    "print(y_train.value_counts()/len(y_train), '\\n')\n",
    "\n",
    "print('Proportions in remainder set:')\n",
    "print(y2_train.value_counts()/len(y2_train), '\\n')\n",
    "\n",
    "print('Proportions in test set:')\n",
    "print(y_test.value_counts()/len(y_test), '\\n')\n",
    "\n",
    "print('Proportions in validation set:')\n",
    "print(y_val.value_counts()/len(y_val), '\\n')"
   ]
  },
  {
   "cell_type": "markdown",
   "id": "b10ce330",
   "metadata": {},
   "source": [
    "The proportions appear to be have been preserved. We have imbalance in our `target-y` variable, we will try and balance the class later but for now, we will use it as it is.\n",
    "\n",
    "***\n",
    "### Models on Train and Validation Sets\n",
    "\n",
    "In the first set of modeling, we will utilise only the **validation** set for model accuracy and evaluation and keep our **test** set for later.\n",
    "\n",
    "Prior to fitting model, we need to scale first. We do not want our model to assume a distribution for our data, therefore, we will use MinMax scaler because we need to keep the original distribution in place.\n",
    "\n",
    "The evaluation metrics that will be used to evaluate the performance of the models is the recall score, f1-score and the AUC score.\n",
    "\n",
    "In AUC our model is more confident that the positive point belongs to the positive class than the negative point belongs to the positive class."
   ]
  },
  {
   "cell_type": "code",
   "execution_count": 31,
   "id": "c805c491",
   "metadata": {},
   "outputs": [],
   "source": [
    "# Set scale for the data\n",
    "# instantiate scaler\n",
    "scaler = MinMaxScaler()\n",
    "\n",
    "X2_train_ss = scaler.fit_transform(X2_train)\n",
    "X_val_ss = scaler.transform(X_val)"
   ]
  },
  {
   "cell_type": "markdown",
   "id": "38413488",
   "metadata": {},
   "source": [
    "### 1. Logistic Regression\n",
    "\n",
    "We will fit the data using logistic regression, that is the validation and train set. Next, we will check the accuracies on both validation and train sets and evaluate the model's performance, without adjusting the default parameters but setting random state to `234` - this may be any value, acting as seed for reproducibility."
   ]
  },
  {
   "cell_type": "code",
   "execution_count": 32,
   "id": "8c4064a1",
   "metadata": {},
   "outputs": [
    {
     "name": "stdout",
     "output_type": "stream",
     "text": [
      "Train accuracy: 0.7848594224924013\n",
      "Validation accuracy: 0.7827223970568681\n"
     ]
    }
   ],
   "source": [
    "# Logistic Regression model\n",
    "# instantiate the model and fit it on the scaled data\n",
    "LR_model = LogisticRegression(random_state=234).fit(X2_train_ss, y2_train)\n",
    "\n",
    "# print out the train and validation accuracy scores\n",
    "print(f\"Train accuracy: {LR_model.score(X2_train_ss, y2_train)}\")\n",
    "print(f\"Validation accuracy: {LR_model.score(X_val_ss, y_val)}\")"
   ]
  },
  {
   "cell_type": "markdown",
   "id": "3aad7dd3",
   "metadata": {},
   "source": [
    "The accuracies on our train and validation sets seems very good, at 78.48% and 78.27% respectively. Because we have an imbalance class data, accuracy is not the best metrics for our model performance, this can lead to a false sense of confidence.\n",
    "\n",
    "We will look at classification report, evaluting the performance for f-1 score, precision and recall. "
   ]
  },
  {
   "cell_type": "code",
   "execution_count": 33,
   "id": "d3e9505d",
   "metadata": {},
   "outputs": [
    {
     "name": "stdout",
     "output_type": "stream",
     "text": [
      "              precision    recall  f1-score   support\n",
      "\n",
      "           0       0.50      0.06      0.10      4898\n",
      "           1       0.79      0.98      0.88     17663\n",
      "\n",
      "    accuracy                           0.78     22561\n",
      "   macro avg       0.64      0.52      0.49     22561\n",
      "weighted avg       0.73      0.78      0.71     22561\n",
      "\n"
     ]
    }
   ],
   "source": [
    "# get the classification report\n",
    "y_pred = LR_model.predict(X_val_ss)\n",
    "\n",
    "report_initial = classification_report(y_val, y_pred)\n",
    "print(report_initial)"
   ]
  },
  {
   "cell_type": "markdown",
   "id": "4fa285d5",
   "metadata": {},
   "source": [
    "The classification report for logistic regression is not so great. The model is 50% precise in predicting customer churn, and able to recall just 6% churn, with a f1 score of 10%! \n",
    "\n",
    "Let us properly view this in a confusion matrix, to see how many true positive and true negative churn number the model will predict and how accurate our predictions will be."
   ]
  },
  {
   "cell_type": "code",
   "execution_count": 34,
   "id": "fe6eb397",
   "metadata": {},
   "outputs": [
    {
     "data": {
      "text/plain": [
       "1    17663\n",
       "0     4898\n",
       "Name: churn, dtype: int64"
      ]
     },
     "metadata": {},
     "output_type": "display_data"
    },
    {
     "data": {
      "text/html": [
       "<div>\n",
       "<style scoped>\n",
       "    .dataframe tbody tr th:only-of-type {\n",
       "        vertical-align: middle;\n",
       "    }\n",
       "\n",
       "    .dataframe tbody tr th {\n",
       "        vertical-align: top;\n",
       "    }\n",
       "\n",
       "    .dataframe thead th {\n",
       "        text-align: right;\n",
       "    }\n",
       "</style>\n",
       "<table border=\"1\" class=\"dataframe\">\n",
       "  <thead>\n",
       "    <tr style=\"text-align: right;\">\n",
       "      <th></th>\n",
       "      <th>Predicted Churn</th>\n",
       "      <th>Predicted Non-churn</th>\n",
       "    </tr>\n",
       "  </thead>\n",
       "  <tbody>\n",
       "    <tr>\n",
       "      <th>True Churn</th>\n",
       "      <td>282</td>\n",
       "      <td>4616</td>\n",
       "    </tr>\n",
       "    <tr>\n",
       "      <th>True Non-churn</th>\n",
       "      <td>286</td>\n",
       "      <td>17377</td>\n",
       "    </tr>\n",
       "  </tbody>\n",
       "</table>\n",
       "</div>"
      ],
      "text/plain": [
       "                Predicted Churn  Predicted Non-churn\n",
       "True Churn                  282                 4616\n",
       "True Non-churn              286                17377"
      ]
     },
     "metadata": {},
     "output_type": "display_data"
    }
   ],
   "source": [
    "# import confusion matrix\n",
    "from sklearn.metrics import confusion_matrix\n",
    "\n",
    "display(y_val.value_counts())\n",
    "\n",
    "# confusion matrix\n",
    "confusion_matrix = pd.DataFrame(\n",
    "    data = confusion_matrix(y_val, y_pred),\n",
    "    index = ['True Churn', 'True Non-churn'],\n",
    "    columns = ['Predicted Churn', 'Predicted Non-churn']\n",
    ")\n",
    "display(confusion_matrix)"
   ]
  },
  {
   "cell_type": "code",
   "execution_count": 35,
   "id": "21b88e71",
   "metadata": {},
   "outputs": [
    {
     "data": {
      "image/png": "[encoded data removed]",
      "text/plain": [
       "<Figure size 432x288 with 2 Axes>"
      ]
     },
     "metadata": {
      "needs_background": "light"
     },
     "output_type": "display_data"
    }
   ],
   "source": [
    "# plot confusion matrix\n",
    "plot_confusion_matrix(LR_model, X_val_ss, y_val);"
   ]
  },
  {
   "cell_type": "markdown",
   "id": "2a6eca79",
   "metadata": {},
   "source": [
    "We have a total of 4,898 for **Churn** and the model was able to accurately predict 282 (5.7%). The model missed 4,616 churned customers, and predicted those as Non-churn.\n",
    "\n",
    "Also, our model was able to predict 17,377 as Non-churn out of 17,663 (98.38%) and misclassified 286 as being churn. Therfore we have high type 1 error and our goal is to accurately predict churn with minimal type 1 error.\n",
    "\n",
    "Next, we will check AUC score."
   ]
  },
  {
   "cell_type": "code",
   "execution_count": 36,
   "id": "a70c47a2",
   "metadata": {},
   "outputs": [
    {
     "data": {
      "image/png": "[encoded data removed]",
      "text/plain": [
       "<Figure size 432x288 with 1 Axes>"
      ]
     },
     "metadata": {
      "needs_background": "light"
     },
     "output_type": "display_data"
    }
   ],
   "source": [
    "# predicting probabilities of data points being in the positive class  \n",
    "y_val_proba = LR_model.predict_proba(X_val_ss)[:,1] \n",
    "\n",
    "# create ROC arrays\n",
    "fprs, tprs, thresholds = roc_curve(y_val, y_val_proba)\n",
    "\n",
    "# AUC\n",
    "roc_auc = roc_auc_score(y_val, y_val_proba)\n",
    "\n",
    "# plot\n",
    "plt.figure()\n",
    "plt.plot(fprs, tprs, color='red', lw=2, label=f'ROC (AUC = {roc_auc:0.2f})')\n",
    "plt.plot([0, 1], [0, 1],  lw=2, color='navy', linestyle='--') # random guess \n",
    "plt.xlabel('False Positive Rate (FPR)')\n",
    "plt.ylabel('True Positive Rate (TPR)')\n",
    "plt.title('Churn ROC Curve for Logistic Model')\n",
    "plt.legend(loc='best')\n",
    "plt.show()"
   ]
  },
  {
   "cell_type": "markdown",
   "id": "167f2910",
   "metadata": {},
   "source": [
    "The ROC for our logistic regression model has a AUC score of `70%`. This implies that the model was able to distinguish between the positive and negative classes with an accuracy of 70%."
   ]
  },
  {
   "cell_type": "markdown",
   "id": "7b205a1e",
   "metadata": {},
   "source": [
    "### 2. Decision Tree Classifier (DT)\n",
    "\n",
    "Next, we will check the train and validation set on DT model and evaluate the model as described above.\n"
   ]
  },
  {
   "cell_type": "code",
   "execution_count": 37,
   "id": "ed2d6b82",
   "metadata": {},
   "outputs": [
    {
     "name": "stdout",
     "output_type": "stream",
     "text": [
      "Train accuracy: 1.0\n",
      "Validation accuracy: 0.8827622889056336\n"
     ]
    }
   ],
   "source": [
    "# instantiate and fit the model on the train set\n",
    "DT_model = DecisionTreeClassifier(random_state=234).fit(X2_train, y2_train)\n",
    "\n",
    "# score the train and validation set\n",
    "print(f\"Train accuracy: {DT_model.score(X2_train, y2_train)}\")\n",
    "print(f\"Validation accuracy: {DT_model.score(X_val, y_val)}\")"
   ]
  },
  {
   "cell_type": "markdown",
   "id": "4b9c52a5",
   "metadata": {},
   "source": [
    "Interestingly, the train and validation accuracies are very good with train accuracy at 100% and validation set at 88.27%! But as stated earlier, we have an imbalance class hence we will need to proceed to more evaluation. "
   ]
  },
  {
   "cell_type": "code",
   "execution_count": 38,
   "id": "4c90e513",
   "metadata": {},
   "outputs": [
    {
     "name": "stdout",
     "output_type": "stream",
     "text": [
      "              precision    recall  f1-score   support\n",
      "\n",
      "           0       0.73      0.73      0.73      4898\n",
      "           1       0.93      0.92      0.93     17663\n",
      "\n",
      "    accuracy                           0.88     22561\n",
      "   macro avg       0.83      0.83      0.83     22561\n",
      "weighted avg       0.88      0.88      0.88     22561\n",
      "\n"
     ]
    }
   ],
   "source": [
    "# get the classification report\n",
    "y_pred = DT_model.predict(X_val)\n",
    "\n",
    "report_initial = classification_report(y_val, y_pred)\n",
    "print(report_initial)\n"
   ]
  },
  {
   "cell_type": "code",
   "execution_count": 39,
   "id": "b4733d22",
   "metadata": {},
   "outputs": [
    {
     "data": {
      "text/plain": [
       "1    17663\n",
       "0     4898\n",
       "Name: churn, dtype: int64"
      ]
     },
     "metadata": {},
     "output_type": "display_data"
    },
    {
     "data": {
      "text/html": [
       "<div>\n",
       "<style scoped>\n",
       "    .dataframe tbody tr th:only-of-type {\n",
       "        vertical-align: middle;\n",
       "    }\n",
       "\n",
       "    .dataframe tbody tr th {\n",
       "        vertical-align: top;\n",
       "    }\n",
       "\n",
       "    .dataframe thead th {\n",
       "        text-align: right;\n",
       "    }\n",
       "</style>\n",
       "<table border=\"1\" class=\"dataframe\">\n",
       "  <thead>\n",
       "    <tr style=\"text-align: right;\">\n",
       "      <th></th>\n",
       "      <th>Predicted Churn</th>\n",
       "      <th>Predicted Non-churn</th>\n",
       "    </tr>\n",
       "  </thead>\n",
       "  <tbody>\n",
       "    <tr>\n",
       "      <th>True Churn</th>\n",
       "      <td>3593</td>\n",
       "      <td>1305</td>\n",
       "    </tr>\n",
       "    <tr>\n",
       "      <th>True Non-churn</th>\n",
       "      <td>1340</td>\n",
       "      <td>16323</td>\n",
       "    </tr>\n",
       "  </tbody>\n",
       "</table>\n",
       "</div>"
      ],
      "text/plain": [
       "                Predicted Churn  Predicted Non-churn\n",
       "True Churn                 3593                 1305\n",
       "True Non-churn             1340                16323"
      ]
     },
     "metadata": {},
     "output_type": "display_data"
    }
   ],
   "source": [
    "# import confusion matrix\n",
    "from sklearn.metrics import confusion_matrix\n",
    "\n",
    "# display the class distribution to see the totals for each class\n",
    "display(y_val.value_counts())\n",
    "\n",
    "# confusion matrix\n",
    "confusion_matrix = pd.DataFrame(\n",
    "    data = confusion_matrix(y_val, y_pred),\n",
    "    index = ['True Churn', 'True Non-churn'],\n",
    "    columns = ['Predicted Churn', 'Predicted Non-churn']\n",
    ")\n",
    "display(confusion_matrix)"
   ]
  },
  {
   "cell_type": "code",
   "execution_count": 40,
   "id": "0e07cd7d",
   "metadata": {},
   "outputs": [
    {
     "data": {
      "image/png": "[encoded data removed]",
      "text/plain": [
       "<Figure size 432x288 with 2 Axes>"
      ]
     },
     "metadata": {
      "needs_background": "light"
     },
     "output_type": "display_data"
    }
   ],
   "source": [
    "# plot the confusion matrix\n",
    "from sklearn.metrics import plot_confusion_matrix\n",
    "\n",
    "plot_confusion_matrix(DT_model, X_val, y_val);"
   ]
  },
  {
   "cell_type": "markdown",
   "id": "4dcda570",
   "metadata": {},
   "source": [
    "Here, from a total of 4,898 for **Churn** and the model was able to accurately predict 3,593 (73.35%). The model missed 1,305 churned customers, and predicted those as Non-churn.\n",
    "\n",
    "Also, our model was able to predict 16,323 as Non-churn out of 17,663 (92.41%) and misclassified 1,340 as being churn. \n",
    "\n",
    "This a better model for `churn` classification than logistic regression.  \n",
    "\n",
    "Next, we will check AUC score."
   ]
  },
  {
   "cell_type": "code",
   "execution_count": 41,
   "id": "2fa16eb6",
   "metadata": {},
   "outputs": [
    {
     "data": {
      "image/png": "[encoded data removed]",
      "text/plain": [
       "<Figure size 432x288 with 1 Axes>"
      ]
     },
     "metadata": {
      "needs_background": "light"
     },
     "output_type": "display_data"
    }
   ],
   "source": [
    "# predicting probabilities of data points being in the positive class  \n",
    "y_val_proba = DT_model.predict_proba(X_val)[:,1]\n",
    "\n",
    "# ROC arrays\n",
    "fprs, tprs, thresholds = roc_curve(y_val, y_val_proba)\n",
    "\n",
    "# AUC\n",
    "roc_auc = roc_auc_score(y_val, y_val_proba)\n",
    "\n",
    "# plot\n",
    "plt.figure()\n",
    "plt.plot(fprs, tprs, color='red', lw=2, label=f'ROC (AUC = {roc_auc:0.2f})')\n",
    "plt.plot([0, 1], [0, 1],  lw=2, color='navy', linestyle='--') # random guess \n",
    "plt.xlabel('False Positive Rate (FPR)')\n",
    "plt.ylabel('True Positive Rate (TPR)')\n",
    "plt.title('Churn ROC Curve for DT Model')\n",
    "plt.legend(loc='best')\n",
    "plt.show()"
   ]
  },
  {
   "cell_type": "markdown",
   "id": "6ba825bc",
   "metadata": {},
   "source": [
    "The ROC for our DT model is at `83%`, also better AUC score."
   ]
  },
  {
   "cell_type": "markdown",
   "id": "246221fe",
   "metadata": {},
   "source": [
    "### 3. K-Neighbors Classifier (KNN)\n",
    "\n",
    "We will check the train and validation set on KNN model and evaluate the model.\n"
   ]
  },
  {
   "cell_type": "code",
   "execution_count": 42,
   "id": "64c22f49",
   "metadata": {},
   "outputs": [
    {
     "name": "stdout",
     "output_type": "stream",
     "text": [
      "Number of Neighbors: 5\n",
      "Train accuracy: 0.844927811550152\n",
      "Validation accuracy: 0.7691591684765746\n"
     ]
    }
   ],
   "source": [
    "\n",
    "from sklearn.neighbors import KNeighborsClassifier\n",
    "\n",
    "# instantiate the KNN model and fit it on the scaled data\n",
    "\n",
    "KNN_model = KNeighborsClassifier().fit(X2_train_ss, y2_train)\n",
    "\n",
    "\n",
    "# print out the train and validation scores\n",
    "print(f\"Number of Neighbors: {KNN_model.n_neighbors}\")\n",
    "print(f\"Train accuracy: {KNN_model.score(X2_train_ss, y2_train)}\")\n",
    "print(f\"Validation accuracy: {KNN_model.score(X_val_ss, y_val)}\")"
   ]
  },
  {
   "cell_type": "markdown",
   "id": "f7d8b0cd",
   "metadata": {},
   "source": [
    "At K `number of neighbors = 5`, we have train accuracy score of 84.49% and validation at 76.92%. Again, accuracy does not properly describe our model evalution."
   ]
  },
  {
   "cell_type": "code",
   "execution_count": 43,
   "id": "8086e91a",
   "metadata": {},
   "outputs": [
    {
     "name": "stdout",
     "output_type": "stream",
     "text": [
      "              precision    recall  f1-score   support\n",
      "\n",
      "           0       0.45      0.28      0.34      4898\n",
      "           1       0.82      0.91      0.86     17663\n",
      "\n",
      "    accuracy                           0.77     22561\n",
      "   macro avg       0.63      0.59      0.60     22561\n",
      "weighted avg       0.74      0.77      0.75     22561\n",
      "\n"
     ]
    }
   ],
   "source": [
    "# classification report\n",
    "y_pred = KNN_model.predict(X_val_ss)\n",
    "\n",
    "report_initial = classification_report(y_val, y_pred)\n",
    "print(report_initial)"
   ]
  },
  {
   "cell_type": "code",
   "execution_count": 44,
   "id": "748043ed",
   "metadata": {},
   "outputs": [
    {
     "data": {
      "text/plain": [
       "1    17663\n",
       "0     4898\n",
       "Name: churn, dtype: int64"
      ]
     },
     "metadata": {},
     "output_type": "display_data"
    },
    {
     "data": {
      "text/html": [
       "<div>\n",
       "<style scoped>\n",
       "    .dataframe tbody tr th:only-of-type {\n",
       "        vertical-align: middle;\n",
       "    }\n",
       "\n",
       "    .dataframe tbody tr th {\n",
       "        vertical-align: top;\n",
       "    }\n",
       "\n",
       "    .dataframe thead th {\n",
       "        text-align: right;\n",
       "    }\n",
       "</style>\n",
       "<table border=\"1\" class=\"dataframe\">\n",
       "  <thead>\n",
       "    <tr style=\"text-align: right;\">\n",
       "      <th></th>\n",
       "      <th>Predicted Churn</th>\n",
       "      <th>Predicted Non-churn</th>\n",
       "    </tr>\n",
       "  </thead>\n",
       "  <tbody>\n",
       "    <tr>\n",
       "      <th>True Churn</th>\n",
       "      <td>1364</td>\n",
       "      <td>3534</td>\n",
       "    </tr>\n",
       "    <tr>\n",
       "      <th>True Non-churn</th>\n",
       "      <td>1674</td>\n",
       "      <td>15989</td>\n",
       "    </tr>\n",
       "  </tbody>\n",
       "</table>\n",
       "</div>"
      ],
      "text/plain": [
       "                Predicted Churn  Predicted Non-churn\n",
       "True Churn                 1364                 3534\n",
       "True Non-churn             1674                15989"
      ]
     },
     "metadata": {},
     "output_type": "display_data"
    }
   ],
   "source": [
    "# import confusion matrix\n",
    "from sklearn.metrics import confusion_matrix\n",
    "\n",
    "# display the class distribution to see the totals for each class\n",
    "display(y_val.value_counts())\n",
    "\n",
    "# confusion matrix\n",
    "confusion_matrix = pd.DataFrame(\n",
    "    data = confusion_matrix(y_val, y_pred),\n",
    "    index = ['True Churn', 'True Non-churn'],\n",
    "    columns = ['Predicted Churn', 'Predicted Non-churn']\n",
    ")\n",
    "display(confusion_matrix)"
   ]
  },
  {
   "cell_type": "code",
   "execution_count": 45,
   "id": "83c8e35a",
   "metadata": {},
   "outputs": [
    {
     "data": {
      "image/png": "[encoded data removed]",
      "text/plain": [
       "<Figure size 432x288 with 2 Axes>"
      ]
     },
     "metadata": {
      "needs_background": "light"
     },
     "output_type": "display_data"
    }
   ],
   "source": [
    "# plot confusion metric\n",
    "plot_confusion_matrix(KNN_model, X_val_ss, y_val);"
   ]
  },
  {
   "cell_type": "markdown",
   "id": "8c109635",
   "metadata": {},
   "source": [
    "Out of  4,898 for **Churn** and the model was able to accurately predict 1,364 (27.84%). The model missed 3,534 churned customers, and predicted those as Non-churn. \n",
    "\n",
    "Our model was able to predict 15,989 as Non-churn out of 17,663 (90.52%) and misclassified 1,674 as being churn. \n",
    "\n",
    "KNN result has the a low predicted class (27.84%) with 45% precision, 28% recall and f1-score of 34%.\n",
    "\n",
    "Let us check AUC score."
   ]
  },
  {
   "cell_type": "code",
   "execution_count": 46,
   "id": "8a530eba",
   "metadata": {},
   "outputs": [
    {
     "data": {
      "image/png": "[encoded data removed]",
      "text/plain": [
       "<Figure size 432x288 with 1 Axes>"
      ]
     },
     "metadata": {
      "needs_background": "light"
     },
     "output_type": "display_data"
    }
   ],
   "source": [
    "# predicting probabilities of data points being in the positive class  \n",
    "y_val_proba = KNN_model.predict_proba(X_val_ss)[:,1] \n",
    "\n",
    "# ROC arrays\n",
    "fprs, tprs, thresholds = roc_curve(y_val, y_val_proba)\n",
    "\n",
    "# AUC\n",
    "roc_auc = roc_auc_score(y_val, y_val_proba)\n",
    "                        \n",
    "# plot\n",
    "plt.figure()\n",
    "plt.plot(fprs, tprs, color='red', lw=2, label=f'ROC (AUC = {roc_auc:0.2f})')\n",
    "plt.plot([0, 1], [0, 1],  lw=2, color='navy', linestyle='--') # random guess \n",
    "plt.xlabel('False Positive Rate (FPR)')\n",
    "plt.ylabel('True Positive Rate (TPR)')\n",
    "plt.title('Churn ROC Curve for KNN Model')\n",
    "plt.legend(loc='best')\n",
    "plt.show()"
   ]
  },
  {
   "cell_type": "markdown",
   "id": "8da912c7",
   "metadata": {},
   "source": [
    "The ROC for our KNN model is at `70%` AUC score."
   ]
  },
  {
   "cell_type": "markdown",
   "id": "8dde99e4",
   "metadata": {},
   "source": [
    "We have results for our traditional models: Logistic Regression, DT and KNN. Let us have a look at the summary of our results."
   ]
  },
  {
   "cell_type": "markdown",
   "id": "9bf6f157",
   "metadata": {},
   "source": [
    "\n",
    "Model | True Negative | False Positive| Precision(%) |    Recall(%)       |f1-score(%)\n",
    "---------------|--------|------------- |-------------|-------------|-------------\n",
    "Logistic Regression| 282 (6%)| 4616 (94%)|50 | 6 | 10\n",
    "Decision Tree | 3593 (73%) | 1305 (27%) |73 | 73 | 73\n",
    "KNN | 1364 (28%) | 3534 (72%) |45 | 28 | 34"
   ]
  },
  {
   "cell_type": "markdown",
   "id": "8b356adc",
   "metadata": {},
   "source": [
    "The best model so far is DT with the same percentage for f1-score, precision and a recall. "
   ]
  },
  {
   "cell_type": "markdown",
   "id": "a317d054",
   "metadata": {},
   "source": [
    "### Ensemble Models\n",
    "\n",
    "So far, we our best model performance at 73% precision, recall and f1-score, but it is possible to make our model even better. Let us try ensemble models. \n",
    "\n",
    "An ensemble model is a collection of many machine learning models, which are used to gain more predictive power. We will use **Random Forest** and **eXtreme Gradient Boosting (XGBoost)**."
   ]
  },
  {
   "cell_type": "markdown",
   "id": "9f50eeb4",
   "metadata": {},
   "source": [
    "### Random Forest Classifier\n",
    "\n",
    "A random forest is an ensemble of decision trees. It is a subset of the bigger ensemble type called bagging. We will fit our model on the train set as always and score on validation set."
   ]
  },
  {
   "cell_type": "code",
   "execution_count": 47,
   "id": "b65c5a3b",
   "metadata": {},
   "outputs": [
    {
     "name": "stdout",
     "output_type": "stream",
     "text": [
      "Number of Trees in the Forest: 100\n",
      "Train accuracy: 1.0\n",
      "Validation accuracy: 0.9129471211382474\n"
     ]
    }
   ],
   "source": [
    "# import the classifier\n",
    "\n",
    "from sklearn.ensemble import RandomForestClassifier\n",
    "\n",
    "# instantiate the model and fit the model to the scaled data\n",
    "RF_model = RandomForestClassifier(random_state=234).fit(X2_train_ss, y2_train)\n",
    "\n",
    "\n",
    "# print the train and validation scores\n",
    "print(f\"Number of Trees in the Forest: {RF_model.n_estimators}\")\n",
    "print(f\"Train accuracy: {RF_model.score(X2_train_ss, y2_train)}\")\n",
    "print(f\"Validation accuracy: {RF_model.score(X_val_ss, y_val)}\")\n"
   ]
  },
  {
   "cell_type": "markdown",
   "id": "90f673db",
   "metadata": {},
   "source": [
    "As always, although accuracy is very good but we can not rely on it due to data imbalance."
   ]
  },
  {
   "cell_type": "code",
   "execution_count": 48,
   "id": "621f36f6",
   "metadata": {},
   "outputs": [
    {
     "name": "stdout",
     "output_type": "stream",
     "text": [
      "              precision    recall  f1-score   support\n",
      "\n",
      "           0       0.91      0.66      0.77      4898\n",
      "           1       0.91      0.98      0.95     17663\n",
      "\n",
      "    accuracy                           0.91     22561\n",
      "   macro avg       0.91      0.82      0.86     22561\n",
      "weighted avg       0.91      0.91      0.91     22561\n",
      "\n"
     ]
    }
   ],
   "source": [
    "y_pred = RF_model.predict(X_val_ss)\n",
    "\n",
    "report_initial = classification_report(y_val, y_pred)\n",
    "print(report_initial)\n"
   ]
  },
  {
   "cell_type": "markdown",
   "id": "1918a10d",
   "metadata": {},
   "source": [
    "Seems our model selection is improving! We have a recall of 91%, f1-score of 77% but a lower recall, 66%."
   ]
  },
  {
   "cell_type": "code",
   "execution_count": 49,
   "id": "76223c4f",
   "metadata": {},
   "outputs": [
    {
     "data": {
      "text/plain": [
       "1    17663\n",
       "0     4898\n",
       "Name: churn, dtype: int64"
      ]
     },
     "metadata": {},
     "output_type": "display_data"
    },
    {
     "data": {
      "text/html": [
       "<div>\n",
       "<style scoped>\n",
       "    .dataframe tbody tr th:only-of-type {\n",
       "        vertical-align: middle;\n",
       "    }\n",
       "\n",
       "    .dataframe tbody tr th {\n",
       "        vertical-align: top;\n",
       "    }\n",
       "\n",
       "    .dataframe thead th {\n",
       "        text-align: right;\n",
       "    }\n",
       "</style>\n",
       "<table border=\"1\" class=\"dataframe\">\n",
       "  <thead>\n",
       "    <tr style=\"text-align: right;\">\n",
       "      <th></th>\n",
       "      <th>Predicted Churn</th>\n",
       "      <th>Predicted Non-churn</th>\n",
       "    </tr>\n",
       "  </thead>\n",
       "  <tbody>\n",
       "    <tr>\n",
       "      <th>True Churn</th>\n",
       "      <td>3235</td>\n",
       "      <td>1663</td>\n",
       "    </tr>\n",
       "    <tr>\n",
       "      <th>True Non-churn</th>\n",
       "      <td>301</td>\n",
       "      <td>17362</td>\n",
       "    </tr>\n",
       "  </tbody>\n",
       "</table>\n",
       "</div>"
      ],
      "text/plain": [
       "                Predicted Churn  Predicted Non-churn\n",
       "True Churn                 3235                 1663\n",
       "True Non-churn              301                17362"
      ]
     },
     "metadata": {},
     "output_type": "display_data"
    }
   ],
   "source": [
    "# import confusion matrix\n",
    "from sklearn.metrics import confusion_matrix\n",
    "\n",
    "# display the class distribution to see the totals for each class\n",
    "display(y_val.value_counts())\n",
    "\n",
    "# confusion matrix\n",
    "confusion_matrix = pd.DataFrame(\n",
    "    data = confusion_matrix(y_val, y_pred),\n",
    "    index = ['True Churn', 'True Non-churn'],\n",
    "    columns = ['Predicted Churn', 'Predicted Non-churn']\n",
    ")\n",
    "display(confusion_matrix)\n"
   ]
  },
  {
   "cell_type": "code",
   "execution_count": 50,
   "id": "02a1f8f0",
   "metadata": {},
   "outputs": [
    {
     "data": {
      "image/png": "[encoded data removed]",
      "text/plain": [
       "<Figure size 432x288 with 2 Axes>"
      ]
     },
     "metadata": {
      "needs_background": "light"
     },
     "output_type": "display_data"
    }
   ],
   "source": [
    "# plot confusion matrix\n",
    "plot_confusion_matrix(RF_model, X_val_ss, y_val);\n"
   ]
  },
  {
   "cell_type": "markdown",
   "id": "aed560cd",
   "metadata": {},
   "source": [
    "RF model was able to accurately predict 3,235 (66%). The model incorrectly classified 1,663 of churned customers as no-churn.\n",
    "\n",
    "The vast majority of data points are from class 1 (no-churn) and were correctly predicted, 17,362 (98%) were predicted correctly as no-churn by the model out of 17,663."
   ]
  },
  {
   "cell_type": "code",
   "execution_count": 51,
   "id": "aa168126",
   "metadata": {},
   "outputs": [
    {
     "data": {
      "image/png": "[encoded data removed]",
      "text/plain": [
       "<Figure size 432x288 with 1 Axes>"
      ]
     },
     "metadata": {
      "needs_background": "light"
     },
     "output_type": "display_data"
    }
   ],
   "source": [
    "# predicting probabilities of data points being in the positive class\n",
    "y_val_proba = RF_model.predict_proba(X_val_ss)[:,1] \n",
    "\n",
    "# ROC arrays\n",
    "fprs, tprs, thresholds = roc_curve(y_val, y_val_proba)\n",
    "\n",
    "# AUC\n",
    "roc_auc = roc_auc_score(y_val, y_val_proba)\n",
    "\n",
    "# plot\n",
    "plt.figure()\n",
    "plt.plot(fprs, tprs, color='red', lw=2, label=f'ROC (AUC = {roc_auc:0.2f})')\n",
    "plt.plot([0, 1], [0, 1],  lw=2, color='navy', linestyle='--') \n",
    "plt.xlabel('False Positive Rate (FPR)')\n",
    "plt.ylabel('True Positive Rate (TPR)')\n",
    "plt.title('Churn ROC Curve for Random Forest Model')\n",
    "plt.legend(loc='best')\n",
    "plt.show()\n"
   ]
  },
  {
   "cell_type": "markdown",
   "id": "d3e75789",
   "metadata": {},
   "source": [
    "We have a good `AUC` at 97%."
   ]
  },
  {
   "cell_type": "markdown",
   "id": "ff9a56d2",
   "metadata": {},
   "source": [
    "### XGBoost Model\n",
    "\n",
    "We will now fit on XGBoost, which is known to be faster and more accurate than the scikit-learn implementation. It also has several modifications to the underlying fitting method which tend to help in practice."
   ]
  },
  {
   "cell_type": "code",
   "execution_count": 52,
   "id": "3d4797fa",
   "metadata": {},
   "outputs": [
    {
     "name": "stdout",
     "output_type": "stream",
     "text": [
      "Train accuracy: 0.9740691489361702\n",
      "Validation accuracy: 0.946146004166482\n"
     ]
    }
   ],
   "source": [
    "# import the classifier\n",
    "\n",
    "from xgboost import XGBClassifier\n",
    "\n",
    "# instantiate and fit the model\n",
    "XGB_model = XGBClassifier().fit(X2_train, y2_train)\n",
    "\n",
    "# print the scores\n",
    "print(f\"Train accuracy: {XGB_model.score(X2_train, y2_train)}\")\n",
    "print(f\"Validation accuracy: {XGB_model.score(X_val, y_val)}\")\n"
   ]
  },
  {
   "cell_type": "markdown",
   "id": "aa1ce119",
   "metadata": {},
   "source": [
    "As always, although accuracy is very good but we can not rely on it due to data imbalance."
   ]
  },
  {
   "cell_type": "code",
   "execution_count": 53,
   "id": "7c3ed06e",
   "metadata": {},
   "outputs": [
    {
     "name": "stdout",
     "output_type": "stream",
     "text": [
      "              precision    recall  f1-score   support\n",
      "\n",
      "           0       0.90      0.85      0.87      4898\n",
      "           1       0.96      0.97      0.97     17663\n",
      "\n",
      "    accuracy                           0.95     22561\n",
      "   macro avg       0.93      0.91      0.92     22561\n",
      "weighted avg       0.95      0.95      0.95     22561\n",
      "\n"
     ]
    }
   ],
   "source": [
    "# display the classification report\n",
    "y_pred = XGB_model.predict(X_val)\n",
    "\n",
    "report_initial = classification_report(y_val, y_pred)\n",
    "print(report_initial)\n"
   ]
  },
  {
   "cell_type": "markdown",
   "id": "4e152368",
   "metadata": {},
   "source": [
    "This is a very good model as well. We have a precision of 90%!, recall of 85% and f1-score of 87%."
   ]
  },
  {
   "cell_type": "code",
   "execution_count": 54,
   "id": "4000367e",
   "metadata": {},
   "outputs": [
    {
     "data": {
      "text/plain": [
       "1    17663\n",
       "0     4898\n",
       "Name: churn, dtype: int64"
      ]
     },
     "metadata": {},
     "output_type": "display_data"
    },
    {
     "data": {
      "text/html": [
       "<div>\n",
       "<style scoped>\n",
       "    .dataframe tbody tr th:only-of-type {\n",
       "        vertical-align: middle;\n",
       "    }\n",
       "\n",
       "    .dataframe tbody tr th {\n",
       "        vertical-align: top;\n",
       "    }\n",
       "\n",
       "    .dataframe thead th {\n",
       "        text-align: right;\n",
       "    }\n",
       "</style>\n",
       "<table border=\"1\" class=\"dataframe\">\n",
       "  <thead>\n",
       "    <tr style=\"text-align: right;\">\n",
       "      <th></th>\n",
       "      <th>Predicted Churn</th>\n",
       "      <th>Predicted Non-churn</th>\n",
       "    </tr>\n",
       "  </thead>\n",
       "  <tbody>\n",
       "    <tr>\n",
       "      <th>True Churn</th>\n",
       "      <td>4145</td>\n",
       "      <td>753</td>\n",
       "    </tr>\n",
       "    <tr>\n",
       "      <th>True Non-churn</th>\n",
       "      <td>462</td>\n",
       "      <td>17201</td>\n",
       "    </tr>\n",
       "  </tbody>\n",
       "</table>\n",
       "</div>"
      ],
      "text/plain": [
       "                Predicted Churn  Predicted Non-churn\n",
       "True Churn                 4145                  753\n",
       "True Non-churn              462                17201"
      ]
     },
     "metadata": {},
     "output_type": "display_data"
    }
   ],
   "source": [
    "# import confusion matrix\n",
    "from sklearn.metrics import confusion_matrix\n",
    "\n",
    "# display the class distribution to see the totals for each class\n",
    "display(y_val.value_counts())\n",
    "\n",
    "# confusion matrix\n",
    "confusion_matrix = pd.DataFrame(\n",
    "    data = confusion_matrix(y_val, y_pred),\n",
    "    index = ['True Churn', 'True Non-churn'],\n",
    "    columns = ['Predicted Churn', 'Predicted Non-churn']\n",
    ")\n",
    "display(confusion_matrix)"
   ]
  },
  {
   "cell_type": "code",
   "execution_count": 55,
   "id": "f61c4871",
   "metadata": {},
   "outputs": [
    {
     "data": {
      "image/png": "[encoded data removed]",
      "text/plain": [
       "<Figure size 432x288 with 2 Axes>"
      ]
     },
     "metadata": {
      "needs_background": "light"
     },
     "output_type": "display_data"
    }
   ],
   "source": [
    "# plot confusion matrix\n",
    "plot_confusion_matrix(XGB_model, X_val, y_val);\n"
   ]
  },
  {
   "cell_type": "markdown",
   "id": "0680245f",
   "metadata": {},
   "source": [
    "For XGB, out of 4,898 for **Churn**, the model was able to accurately predict 4,145(85%). The model missed 753(15%) churned customers, and predicted those as non-churn. \n",
    "\n",
    "Our model was able to predict 17,201(97%) as non-churn out of 17,663 and misclassified 462(3%) as being churn. \n"
   ]
  },
  {
   "cell_type": "code",
   "execution_count": 56,
   "id": "08ab66ab",
   "metadata": {},
   "outputs": [
    {
     "data": {
      "image/png": "[encoded data removed]",
      "text/plain": [
       "<Figure size 432x288 with 1 Axes>"
      ]
     },
     "metadata": {
      "needs_background": "light"
     },
     "output_type": "display_data"
    }
   ],
   "source": [
    "# predicting probabilities of data points being in the positive class\n",
    "y_val_proba = XGB_model.predict_proba(X_val)[:,1] \n",
    "\n",
    "# ROC arrays\n",
    "fprs, tprs, thresholds = roc_curve(y_val, y_val_proba)\n",
    "\n",
    "# AUC\n",
    "roc_auc = roc_auc_score(y_val, y_val_proba)\n",
    "\n",
    "# plot\n",
    "plt.figure()\n",
    "plt.plot(fprs, tprs, color='red', lw=2, label=f'ROC (AUC = {roc_auc:0.2f})')\n",
    "plt.plot([0, 1], [0, 1],  lw=2, color='navy', linestyle='--') # random guess \n",
    "plt.xlabel('False Positive Rate (FPR)')\n",
    "plt.ylabel('True Positive Rate (TPR)')\n",
    "plt.title('Churn ROC Curve for XGB Model')\n",
    "plt.legend(loc='best')\n",
    "plt.show()\n"
   ]
  },
  {
   "cell_type": "markdown",
   "id": "fd2a52e7",
   "metadata": {},
   "source": [
    "AUC score is 98%."
   ]
  },
  {
   "cell_type": "markdown",
   "id": "84542e3e",
   "metadata": {},
   "source": [
    "### Ensemble Models summary\n",
    "\n",
    "We have our model evaluation results from both Random forest and XGBoost. Below is a summary table of our result."
   ]
  },
  {
   "cell_type": "markdown",
   "id": "3d6ff9a9",
   "metadata": {},
   "source": [
    "\n",
    "Model | True Negative | False Positive| Precision(%) |    Recall(%)       |f1-score(%)\n",
    "---------------|--------|------------- |-------------|-------------|-------------\n",
    "Logistic Regression| 282 (6%)| 4616 (94%)|50 | 6 | 10\n",
    "Decision Tree | 3593 (73%) | 1305 (27%) |73 | 73 | 73\n",
    "KNN | 1364 (28%) | 3534 (72%) |45 | 28 | 34\n",
    "**Random Forest**| **3235 (66%)**| **1663 (34%)**|**91** | **66**| **77**\n",
    "**XGBoost** | **4145 (85%)** | **753 (15%)** |**90** | **85** | **87**"
   ]
  },
  {
   "cell_type": "markdown",
   "id": "ec182459",
   "metadata": {},
   "source": [
    "\n",
    "Random forest and XGBoost model perform better than the other base models seen earlier. Random forest have a precision of 91% and 77% f1-score while XGBoost have a precision of 90%, 87% f1-score and a better recall, 85%.\n",
    "\n",
    "In general, our ensemble models are very good with precision, recall and f1-scores (except Random forest recall). We will also be comparing the ability of a model to **correctly predict churn class - 0 (True negative)**. Random forest misclassified churn the lowest, 1,663 churn were misclassified as non-churn. XGBoost also misclassified 753 as non-churn. "
   ]
  },
  {
   "cell_type": "markdown",
   "id": "2f2281d1",
   "metadata": {},
   "source": [
    "### Downsampling "
   ]
  },
  {
   "cell_type": "markdown",
   "id": "8fb8a701",
   "metadata": {},
   "source": [
    "Because of imbalance data, can we try and downsample or upsample to get a balanced data? Next, we will try both and fit our model on XGBoost, since we are sure it is one of our good model so far and a faster model to run.\n",
    "\n",
    "For downsampling, we will resample the majority class (1) to have a smaller number of observations to balance out the classes instead of increasing the minority class (0). "
   ]
  },
  {
   "cell_type": "code",
   "execution_count": 57,
   "id": "5c752d3c",
   "metadata": {},
   "outputs": [
    {
     "name": "stdout",
     "output_type": "stream",
     "text": [
      "Number of Class 1 examples before: 41213\n",
      "Number of Class 1 examples after: 11427\n"
     ]
    }
   ],
   "source": [
    "# import resampled\n",
    "from sklearn.utils import resample\n",
    "\n",
    "# downsample\n",
    "print(\"Number of Class 1 examples before:\", X2_train[y2_train==1].shape[0])\n",
    "\n",
    "\n",
    "\n",
    "# resample the data  - reduce class 1 to match 0\n",
    "X_downsampled, y_downsampled = resample(X2_train[y2_train==1],\n",
    "                                        y2_train[y2_train==1],\n",
    "                                        replace=True,\n",
    "                                        n_samples=X2_train[y2_train==0].shape[0],\n",
    "                                        random_state=234)\n",
    "\n",
    "# print out new distribution\n",
    "print(\"Number of Class 1 examples after:\", X_downsampled.shape[0])\n",
    "\n",
    "# Combine downsample with original data\n",
    "X_train_down = np.vstack((X2_train[y2_train == 0], X_downsampled))\n",
    "y_train_down = np.hstack((y2_train[y2_train == 0], y_downsampled))"
   ]
  },
  {
   "cell_type": "code",
   "execution_count": 58,
   "id": "6f3ee17b",
   "metadata": {},
   "outputs": [
    {
     "name": "stdout",
     "output_type": "stream",
     "text": [
      "Original class distribution\n"
     ]
    },
    {
     "data": {
      "text/plain": [
       "0    11427\n",
       "1    41213\n",
       "Name: churn, dtype: int64"
      ]
     },
     "metadata": {},
     "output_type": "display_data"
    },
    {
     "name": "stdout",
     "output_type": "stream",
     "text": [
      "\n",
      "Resampled class distribution (Downsampled)\n"
     ]
    },
    {
     "data": {
      "text/plain": [
       "0    11427\n",
       "1    11427\n",
       "dtype: int64"
      ]
     },
     "metadata": {},
     "output_type": "display_data"
    }
   ],
   "source": [
    "# check downsampled data\n",
    "\n",
    "print('Original class distribution')\n",
    "display(pd.Series(y2_train).value_counts().sort_index())\n",
    "\n",
    "print('\\nResampled class distribution (Downsampled)')\n",
    "display(pd.Series(y_train_down).value_counts().sort_index())\n"
   ]
  },
  {
   "cell_type": "code",
   "execution_count": 59,
   "id": "98452b3e",
   "metadata": {},
   "outputs": [
    {
     "name": "stdout",
     "output_type": "stream",
     "text": [
      "RF Confusion matrices: \n",
      "=======================================================\n",
      "\n"
     ]
    },
    {
     "data": {
      "image/png": "[encoded data removed]",
      "text/plain": [
       "<Figure size 720x216 with 4 Axes>"
      ]
     },
     "metadata": {
      "needs_background": "light"
     },
     "output_type": "display_data"
    },
    {
     "name": "stdout",
     "output_type": "stream",
     "text": [
      "\n",
      "Original data classification report: \n",
      "=======================================================\n",
      "               precision    recall  f1-score   support\n",
      "\n",
      "           0       0.90      0.85      0.87      4898\n",
      "           1       0.96      0.97      0.97     17663\n",
      "\n",
      "    accuracy                           0.95     22561\n",
      "   macro avg       0.93      0.91      0.92     22561\n",
      "weighted avg       0.95      0.95      0.95     22561\n",
      "\n",
      "\n",
      "Downsampled data classification report: \n",
      "=======================================================\n",
      "               precision    recall  f1-score   support\n",
      "\n",
      "           0       0.71      0.96      0.82      4898\n",
      "           1       0.99      0.89      0.94     17663\n",
      "\n",
      "    accuracy                           0.91     22561\n",
      "   macro avg       0.85      0.93      0.88     22561\n",
      "weighted avg       0.93      0.91      0.91     22561\n",
      "\n"
     ]
    }
   ],
   "source": [
    "#####################\n",
    "### MODEL FITTING ###\n",
    "#####################\n",
    "\n",
    "\n",
    "# on the original data\n",
    "churn_XGB_model = XGBClassifier().fit(X2_train, y2_train)\n",
    "\n",
    "# evaluate on the original val set\n",
    "y_pred = churn_XGB_model.predict(X_val.values)\n",
    "\n",
    "# classification report\n",
    "report_initial = classification_report(y_val, y_pred)\n",
    "\n",
    "# on the downsampled data\n",
    "churn_XGB_model_down = XGBClassifier().fit(X_train_down, y_train_down)\n",
    "\n",
    "# evaluate on the original val set - NO SAMPLING\n",
    "y_pred_2 = churn_XGB_model_down.predict(X_val) \n",
    "\n",
    "# classification report\n",
    "report_downsampled = classification_report(y_val, y_pred_2)\n",
    "\n",
    "\n",
    "#####################\n",
    "### PRINT RESULTS ###\n",
    "#####################\n",
    "\n",
    "print_line = \"\\n=======================================================\\n\"\n",
    "\n",
    "# Confusion matrices\n",
    "print(\"RF Confusion matrices:\", print_line)\n",
    "\n",
    "fig, axes = plt.subplots(1, 2, figsize=(10, 3))\n",
    "\n",
    "# Model on the original data\n",
    "plot_confusion_matrix(churn_XGB_model, X_val, y_val, ax=axes[0])\n",
    "axes[0].set_title('Original Confusion Matrix On RF')\n",
    "\n",
    "# Model on the upsampled data\n",
    "plot_confusion_matrix(churn_XGB_model_down, X_val, y_val, ax=axes[1])\n",
    "axes[1].set_title('Downsampled Confusion Matrix On RF')\n",
    "\n",
    "plt.show()\n",
    "\n",
    "# Classification Reports\n",
    "print(\"\\nOriginal data classification report:\", print_line, report_initial)\n",
    "print(\"\\nDownsampled data classification report:\", print_line, report_downsampled)"
   ]
  },
  {
   "cell_type": "code",
   "execution_count": 60,
   "id": "070e16f7",
   "metadata": {},
   "outputs": [
    {
     "data": {
      "image/png": "[encoded data removed]",
      "text/plain": [
       "<Figure size 432x288 with 1 Axes>"
      ]
     },
     "metadata": {
      "needs_background": "light"
     },
     "output_type": "display_data"
    }
   ],
   "source": [
    "# predicting probabilities of data points being in the positive class\n",
    "y_val_proba = churn_XGB_model_down.predict_proba(X_val.values)[:,1] \n",
    "# ROC arrays\n",
    "fprs, tprs, thresholds = roc_curve(y_val, y_val_proba)\n",
    "\n",
    "# AUC\n",
    "roc_auc = roc_auc_score(y_val, y_val_proba)\n",
    "\n",
    "# plot\n",
    "plt.figure()\n",
    "plt.plot(fprs, tprs, color='red', lw=2, label=f'ROC (AUC = {roc_auc:0.2f})')\n",
    "plt.plot([0, 1], [0, 1],  lw=2, color='navy', linestyle='--', label='random guess') \n",
    "plt.xlabel('False Positive Rate (FPR)')\n",
    "plt.ylabel('True Positive Rate (TPR)')\n",
    "plt.title('Churn ROC Curve for XGB Model (Downsampled Data)')\n",
    "plt.legend(loc='best')\n",
    "plt.show()"
   ]
  },
  {
   "cell_type": "markdown",
   "id": "8c510fdd",
   "metadata": {},
   "source": [
    "We compare the original result (without downsampling) with result from downsampling. The precision and f1-score for original XGB is better! XGB down-sampled has a lower precision (71%), f1-score (82%) and a slightly higher recall value (96%). Although, down-sampled with XGB has a false positive of 202 (4%), we are more confident that the original XGB result is more accurate (90% precision and 87% f1-score).\n",
    "\n",
    "AUC score is 98%.\n",
    "\n",
    "Let us try to upsample and compare the results."
   ]
  },
  {
   "cell_type": "markdown",
   "id": "ea47640f",
   "metadata": {},
   "source": [
    "### Upsampling"
   ]
  },
  {
   "cell_type": "markdown",
   "id": "6f58de12",
   "metadata": {},
   "source": [
    "Similar to downsampling, upsampling entails resampling the observations that belong to the underrepresented class so that our training data consists of equal proportions of each class. "
   ]
  },
  {
   "cell_type": "code",
   "execution_count": 61,
   "id": "32143211",
   "metadata": {},
   "outputs": [
    {
     "name": "stdout",
     "output_type": "stream",
     "text": [
      "Number of Class 0 examples before: 11427\n",
      "Number of Class 0 examples after: 41213\n"
     ]
    }
   ],
   "source": [
    "# upsample \n",
    "from sklearn.utils import resample\n",
    "\n",
    "# print the original class 0 distribution\n",
    "print('Number of Class 0 examples before:', X2_train[y2_train==0].shape[0])\n",
    "\n",
    "\n",
    "# resample the data to upsample the class 0 distribution\n",
    "X_upsampled, y_upsampled = resample(X2_train[y2_train==0],\n",
    "                                    y2_train[y2_train==0],\n",
    "                                    replace=True,\n",
    "                                    n_samples=X2_train[y2_train==1].shape[0],\n",
    "                                    random_state=234)\n",
    "\n",
    "# print out the new class 0 distribution\n",
    "print('Number of Class 0 examples after:', X_upsampled.shape[0])\n",
    "\n",
    "# combine the upsampled data with the original data\n",
    "X_train_up = np.vstack((X2_train[y2_train==1], X_upsampled))\n",
    "y_train_up = np.hstack((y2_train[y2_train==1], y_upsampled))\n"
   ]
  },
  {
   "cell_type": "code",
   "execution_count": 62,
   "id": "7bf0acc8",
   "metadata": {},
   "outputs": [
    {
     "name": "stdout",
     "output_type": "stream",
     "text": [
      "Original class distribution\n"
     ]
    },
    {
     "data": {
      "text/plain": [
       "0    11427\n",
       "1    41213\n",
       "Name: churn, dtype: int64"
      ]
     },
     "metadata": {},
     "output_type": "display_data"
    },
    {
     "name": "stdout",
     "output_type": "stream",
     "text": [
      "\n",
      "Resampled class distribution (UPsampled)\n"
     ]
    },
    {
     "data": {
      "text/plain": [
       "0    41213\n",
       "1    41213\n",
       "dtype: int64"
      ]
     },
     "metadata": {},
     "output_type": "display_data"
    }
   ],
   "source": [
    "# check downsampled data\n",
    "\n",
    "print('Original class distribution')\n",
    "display(pd.Series(y2_train).value_counts().sort_index())\n",
    "\n",
    "print('\\nResampled class distribution (UPsampled)')\n",
    "display(pd.Series(y_train_up).value_counts().sort_index())\n",
    "\n"
   ]
  },
  {
   "cell_type": "code",
   "execution_count": 63,
   "id": "fc0ebd3e",
   "metadata": {},
   "outputs": [
    {
     "name": "stdout",
     "output_type": "stream",
     "text": [
      "Confusion matrices: \n",
      "=======================================================\n",
      "\n"
     ]
    },
    {
     "data": {
      "image/png": "[encoded data removed]",
      "text/plain": [
       "<Figure size 720x216 with 4 Axes>"
      ]
     },
     "metadata": {
      "needs_background": "light"
     },
     "output_type": "display_data"
    },
    {
     "name": "stdout",
     "output_type": "stream",
     "text": [
      "\n",
      "Original data classification report: \n",
      "=======================================================\n",
      "               precision    recall  f1-score   support\n",
      "\n",
      "           0       0.90      0.85      0.87      4898\n",
      "           1       0.96      0.97      0.97     17663\n",
      "\n",
      "    accuracy                           0.95     22561\n",
      "   macro avg       0.93      0.91      0.92     22561\n",
      "weighted avg       0.95      0.95      0.95     22561\n",
      "\n",
      "\n",
      "Upsampled data classification report: \n",
      "=======================================================\n",
      "               precision    recall  f1-score   support\n",
      "\n",
      "           0       0.79      0.93      0.85      4898\n",
      "           1       0.98      0.93      0.95     17663\n",
      "\n",
      "    accuracy                           0.93     22561\n",
      "   macro avg       0.88      0.93      0.90     22561\n",
      "weighted avg       0.94      0.93      0.93     22561\n",
      "\n"
     ]
    }
   ],
   "source": [
    "#####################\n",
    "### MODEL FITTING ###\n",
    "#####################\n",
    "\n",
    "\n",
    "# on the original data\n",
    "churn_XGB_model = XGBClassifier().fit(X2_train, y2_train)\n",
    "\n",
    "\n",
    "# evaluate on the original val set\n",
    "y_pred = churn_XGB_model.predict(X_val.values)\n",
    "\n",
    "# classification report\n",
    "report_initial = classification_report(y_val, y_pred)\n",
    "\n",
    "# on the upsampled data\n",
    "churn_XGB_model_up = XGBClassifier().fit(X_train_up, y_train_up)\n",
    "\n",
    "# evaluate on the original val set - NO SAMPLING\n",
    "y_pred_2 = churn_XGB_model_up.predict(X_val) \n",
    "\n",
    "# classification report\n",
    "report_upsampled = classification_report(y_val, y_pred_2)\n",
    "\n",
    "\n",
    "#####################\n",
    "### PRINT RESULTS ###\n",
    "#####################\n",
    "\n",
    "print_line = \"\\n=======================================================\\n\"\n",
    "\n",
    "# Confusion matrices\n",
    "print(\"Confusion matrices:\", print_line)\n",
    "\n",
    "fig, axes = plt.subplots(1, 2, figsize=(10, 3))\n",
    "\n",
    "# Model on the original data\n",
    "plot_confusion_matrix(churn_XGB_model, X_val, y_val, ax=axes[0])\n",
    "axes[0].set_title('Original Confusion Matrix')\n",
    "\n",
    "# Model on the upsampled data\n",
    "plot_confusion_matrix(churn_XGB_model_up, X_val, y_val, ax=axes[1])\n",
    "axes[1].set_title('UPsampled Confusion Matrix on RF')\n",
    "\n",
    "plt.show()\n",
    "\n",
    "# Classification Reports\n",
    "print(\"\\nOriginal data classification report:\", print_line, report_initial)\n",
    "print(\"\\nUpsampled data classification report:\", print_line, report_upsampled)"
   ]
  },
  {
   "cell_type": "code",
   "execution_count": 64,
   "id": "3d285020",
   "metadata": {},
   "outputs": [
    {
     "data": {
      "image/png": "[encoded data removed]",
      "text/plain": [
       "<Figure size 432x288 with 1 Axes>"
      ]
     },
     "metadata": {
      "needs_background": "light"
     },
     "output_type": "display_data"
    }
   ],
   "source": [
    "# probabilistic prediction\n",
    "y_val_proba = churn_XGB_model_up.predict_proba(X_val.values)[:,1] \n",
    "# ROC arrays\n",
    "fprs, tprs, thresholds = roc_curve(y_val, y_val_proba)\n",
    "\n",
    "# AUC\n",
    "roc_auc = roc_auc_score(y_val, y_val_proba)\n",
    "\n",
    "# plot\n",
    "plt.figure()\n",
    "plt.plot(fprs, tprs, color='red', lw=2, label=f'ROC (AUC = {roc_auc:0.2f})')\n",
    "plt.plot([0, 1], [0, 1],  lw=2, color='navy', linestyle='--', label='random guess') # random guess \n",
    "plt.xlabel('False Positive Rate (FPR)')\n",
    "plt.ylabel('True Positive Rate (TPR)')\n",
    "plt.title('Churn ROC Curve for XGB Model (UPsampled Data)')\n",
    "plt.legend(loc='best')\n",
    "plt.show()\n",
    "    "
   ]
  },
  {
   "cell_type": "markdown",
   "id": "e0415ecd",
   "metadata": {},
   "source": [
    "Let us have a look at our results so far."
   ]
  },
  {
   "cell_type": "markdown",
   "id": "1a9711ac",
   "metadata": {},
   "source": [
    "Model | True Negative | False Positive| Precision(%) |    Recall(%)       |f1-score(%)\n",
    "---------------|--------|------------- |-------------|-------------|-------------\n",
    "Logistic Regression| 282 (6%)| 4616 (94%)|50 | 6 | 10\n",
    "Decision Tree | 3593 (73%) | 1305 (27%) |73 | 73 | 73\n",
    "KNN | 1364 (28%) | 3534 (72%) |45 | 28 | 34\n",
    "Random Forest| 3235 (66%)| 1663 (34%)|91| 66| 77\n",
    "XGBoost | 4145 (85%) | 753 (15%) |90 | 85 | 87\n",
    "**Down sampled**| **4696 (96%)**| **202 (4%)**|**71** | **96**| **82**\n",
    "**Up sampled** | **4566 (93)** | **332 (7%)** |**79** | **93** | **85**"
   ]
  },
  {
   "cell_type": "markdown",
   "id": "db136f51",
   "metadata": {},
   "source": [
    "Up-sampled model has a higher precision (79%) and f1-score (85%) than down-sampled."
   ]
  },
  {
   "cell_type": "markdown",
   "id": "880447bc",
   "metadata": {},
   "source": [
    "### Hyperparameters with Grid Search\n",
    "\n",
    "So far, we have good result with XGB, but can we make it better? Our next approach is to optimise hyperparameters instead of using the default parameters. We will do this with `parameter grid search`.\n",
    "\n",
    "We will build a pipeline that consists of any number of transformers, models and an estimator. \n",
    "\n",
    "As seen earlier our best performing models are (without sampling):\n",
    "\n",
    "1. **Random forest**\n",
    "2. **XGBoost**\n",
    "3. **Decision tree** \n",
    "\n",
    "These are the models we will pass into our parameter grid and futher search for parameters that will give us more robust model.\n",
    "\n",
    "We will set up a pipeline and create a placeholder and will be changed when we pass the pipeline into the grid search later."
   ]
  },
  {
   "cell_type": "code",
   "execution_count": 66,
   "id": "463374fd",
   "metadata": {},
   "outputs": [],
   "source": [
    "# Set up a pipeline and placeholder\n",
    "my_pipeline = Pipeline([('scaler', StandardScaler()), ('dim_reducer', PCA()), \n",
    "                        ('model', LogisticRegression())])"
   ]
  },
  {
   "cell_type": "markdown",
   "id": "e3fb2f16",
   "metadata": {},
   "source": [
    "Now let us set our parameter grid."
   ]
  },
  {
   "cell_type": "code",
   "execution_count": 68,
   "id": "9f38c1c7",
   "metadata": {},
   "outputs": [],
   "source": [
    "# set different range of C values \n",
    "c_values = [.00001, .0001, .001, .1, 1, 10, 100, 1000, 10000]\n",
    "\n",
    "n_estimators = [100, 200, 400, 600, 800]\n",
    "\n",
    "max_depth=[2, 8, 16]\n",
    "\n",
    "# Parameter grid\n",
    "param_grid = [\n",
    "    \n",
    "    # DT\n",
    "    {\n",
    "    'model__max_depth': [2, 3, 5, 10, 20],\n",
    "    'model__min_samples_leaf': [5, 10, 20, 50, 100],\n",
    "    'model__criterion': [\"gini\", \"entropy\"],\n",
    "    'model': [DecisionTreeClassifier(random_state=42)]},\n",
    "    \n",
    "    # XGB\n",
    "    {'scaler': [None],\n",
    "     'model__eta': [0.1, 0.3],\n",
    "     'model__gamma': [0, 2],\n",
    "     'model__max_depth': np.arange(1, 10),\n",
    "     'model__min_child_weight': [1, 3],\n",
    "     'model': [XGBClassifier(random_state=234)]},\n",
    "    \n",
    "    # Random Forest\n",
    "    {'scaler': [None, StandardScaler(), MinMaxScaler(), RobustScaler()],\n",
    "     \"model__max_features\": [1, 3, 10],\n",
    "     \"model__min_samples_split\": [1, 3, 10],\n",
    "     \"model__min_samples_leaf\": [1, 3, 10],\n",
    "     \"model__criterion\": [\"gini\", \"entropy\"],\n",
    "     'model': [RandomForestClassifier(max_depth = max_depth, n_estimators=n_estimators, random_state=134)]}\n",
    "    \n",
    "]"
   ]
  },
  {
   "cell_type": "code",
   "execution_count": 69,
   "id": "42dbec9f",
   "metadata": {},
   "outputs": [
    {
     "name": "stdout",
     "output_type": "stream",
     "text": [
      "Fitting 5 folds for each of 338 candidates, totalling 1690 fits\n"
     ]
    }
   ],
   "source": [
    "grid_s  = GridSearchCV(my_pipeline, param_grid=param_grid, n_jobs=-1, verbose=1, cv=5)\n",
    "\n",
    "fitted_grid_s= grid_s.fit(X_train_down, y_train_down)"
   ]
  },
  {
   "cell_type": "code",
   "execution_count": 70,
   "id": "834ffeeb",
   "metadata": {},
   "outputs": [
    {
     "data": {
      "text/plain": [
       "{'model': XGBClassifier(base_score=None, booster=None, callbacks=None,\n",
       "               colsample_bylevel=None, colsample_bynode=None,\n",
       "               colsample_bytree=None, early_stopping_rounds=None,\n",
       "               enable_categorical=False, eta=0.3, eval_metric=None,\n",
       "               feature_types=None, gamma=0, gpu_id=None, grow_policy=None,\n",
       "               importance_type=None, interaction_constraints=None,\n",
       "               learning_rate=None, max_bin=None, max_cat_threshold=None,\n",
       "               max_cat_to_onehot=None, max_delta_step=None, max_depth=8,\n",
       "               max_leaves=None, min_child_weight=1, missing=nan,\n",
       "               monotone_constraints=None, n_estimators=100, n_jobs=None,\n",
       "               num_parallel_tree=None, predictor=None, ...),\n",
       " 'model__eta': 0.3,\n",
       " 'model__gamma': 0,\n",
       " 'model__max_depth': 8,\n",
       " 'model__min_child_weight': 1,\n",
       " 'scaler': None}"
      ]
     },
     "execution_count": 70,
     "metadata": {},
     "output_type": "execute_result"
    }
   ],
   "source": [
    "# The best hyperparameters\n",
    "fitted_grid_s.best_params_"
   ]
  },
  {
   "cell_type": "markdown",
   "id": "2452cb7a",
   "metadata": {},
   "source": [
    "The best model is XGB and with parameters `eta = 0.3`, `gamma = 0`, `max_depth at 8`, and `min_child_weight at 1`. Let us utilise these parameters and check the result."
   ]
  },
  {
   "cell_type": "code",
   "execution_count": 71,
   "id": "faa18f1d",
   "metadata": {},
   "outputs": [
    {
     "name": "stdout",
     "output_type": "stream",
     "text": [
      "Train accuracy: 0.9956686930091185\n",
      "Validation accuracy: 0.9543459953016267\n"
     ]
    }
   ],
   "source": [
    "# fit on XGB # on the original data\n",
    "best_params = XGBClassifier(random_state=234, eta= 0.3, \n",
    "                            gamma=0,max_depth =8, min_child_weight=1).fit(X2_train, y2_train)\n",
    "\n",
    "best_params.fit(X2_train, y2_train)\n",
    "\n",
    "# print out the scores\n",
    "print(f\"Train accuracy: {best_params.score(X2_train, y2_train)}\")\n",
    "print(f\"Validation accuracy: {best_params.score(X_val, y_val)}\")"
   ]
  },
  {
   "cell_type": "code",
   "execution_count": 72,
   "id": "eea1da93",
   "metadata": {},
   "outputs": [
    {
     "name": "stdout",
     "output_type": "stream",
     "text": [
      "              precision    recall  f1-score   support\n",
      "\n",
      "           0       0.92      0.87      0.89      4898\n",
      "           1       0.96      0.98      0.97     17663\n",
      "\n",
      "    accuracy                           0.95     22561\n",
      "   macro avg       0.94      0.92      0.93     22561\n",
      "weighted avg       0.95      0.95      0.95     22561\n",
      "\n"
     ]
    }
   ],
   "source": [
    "# display the classification report\n",
    "y_pred = best_params.predict(X_val)\n",
    "\n",
    "report_best_params = classification_report(y_val, y_pred)\n",
    "print(report_best_params)\n"
   ]
  },
  {
   "cell_type": "code",
   "execution_count": 73,
   "id": "bb4e00ce",
   "metadata": {},
   "outputs": [
    {
     "data": {
      "text/plain": [
       "1    17663\n",
       "0     4898\n",
       "Name: churn, dtype: int64"
      ]
     },
     "metadata": {},
     "output_type": "display_data"
    },
    {
     "data": {
      "text/html": [
       "<div>\n",
       "<style scoped>\n",
       "    .dataframe tbody tr th:only-of-type {\n",
       "        vertical-align: middle;\n",
       "    }\n",
       "\n",
       "    .dataframe tbody tr th {\n",
       "        vertical-align: top;\n",
       "    }\n",
       "\n",
       "    .dataframe thead th {\n",
       "        text-align: right;\n",
       "    }\n",
       "</style>\n",
       "<table border=\"1\" class=\"dataframe\">\n",
       "  <thead>\n",
       "    <tr style=\"text-align: right;\">\n",
       "      <th></th>\n",
       "      <th>Predicted Churn</th>\n",
       "      <th>Predicted Non-churn</th>\n",
       "    </tr>\n",
       "  </thead>\n",
       "  <tbody>\n",
       "    <tr>\n",
       "      <th>True Churn</th>\n",
       "      <td>4256</td>\n",
       "      <td>642</td>\n",
       "    </tr>\n",
       "    <tr>\n",
       "      <th>True Non-churn</th>\n",
       "      <td>388</td>\n",
       "      <td>17275</td>\n",
       "    </tr>\n",
       "  </tbody>\n",
       "</table>\n",
       "</div>"
      ],
      "text/plain": [
       "                Predicted Churn  Predicted Non-churn\n",
       "True Churn                 4256                  642\n",
       "True Non-churn              388                17275"
      ]
     },
     "metadata": {},
     "output_type": "display_data"
    }
   ],
   "source": [
    "# import confusion matrix\n",
    "from sklearn.metrics import confusion_matrix\n",
    "\n",
    "# display the class distribution to see the totals for each class\n",
    "display(y_val.value_counts())\n",
    "\n",
    "# confusion matrix\n",
    "confusion_matrix = pd.DataFrame(\n",
    "    data = confusion_matrix(y_val, y_pred),\n",
    "    index = ['True Churn', 'True Non-churn'],\n",
    "    columns = ['Predicted Churn', 'Predicted Non-churn']\n",
    ")\n",
    "display(confusion_matrix)"
   ]
  },
  {
   "cell_type": "code",
   "execution_count": 75,
   "id": "7d564571",
   "metadata": {},
   "outputs": [
    {
     "data": {
      "image/png": "[encoded data removed]",
      "text/plain": [
       "<Figure size 432x288 with 2 Axes>"
      ]
     },
     "metadata": {
      "needs_background": "light"
     },
     "output_type": "display_data"
    }
   ],
   "source": [
    "# plot matrix\n",
    "plot_confusion_matrix(best_params, X_val, y_val);\n"
   ]
  },
  {
   "cell_type": "markdown",
   "id": "9c8fb69e",
   "metadata": {},
   "source": [
    "By optimising parameters using grid search, our model performance seems better (92%, 87% and 89% precision, recall and f-1 score respectively) than using XGB default parameters. \n",
    "\n",
    "Since we also have better performance with XGB sampling when compared with baseline models (LR, DT amd KNN), we fit our validation set on XGB adjusted parameters and both up-sampled and down-sampled.  "
   ]
  },
  {
   "cell_type": "code",
   "execution_count": 79,
   "id": "6a26fa09",
   "metadata": {},
   "outputs": [
    {
     "name": "stdout",
     "output_type": "stream",
     "text": [
      "Train accuracy: 0.998337271374814\n",
      "Validation accuracy: 0.9171579273968352\n"
     ]
    }
   ],
   "source": [
    "# fit down-sampled model with the best XGB parameters \n",
    "down_XGB_model_best_params = XGBClassifier(eta=0.3, gamma=0, \n",
    "                                      max_depth=8, min_child_weight=1, random_state=234).fit(X_train_down, y_train_down)\n",
    "\n",
    "# print out the scores\n",
    "print(f\"Train accuracy: {down_XGB_model_best_params.score(X_train_down, y_train_down)}\")\n",
    "print(f\"Validation accuracy: {down_XGB_model_best_params.score(X_val.values, y_val)}\")\n",
    "\n"
   ]
  },
  {
   "cell_type": "code",
   "execution_count": 80,
   "id": "2f515156",
   "metadata": {},
   "outputs": [
    {
     "name": "stdout",
     "output_type": "stream",
     "text": [
      "              precision    recall  f1-score   support\n",
      "\n",
      "           0       0.74      0.96      0.83      4898\n",
      "           1       0.99      0.90      0.94     17663\n",
      "\n",
      "    accuracy                           0.92     22561\n",
      "   macro avg       0.86      0.93      0.89     22561\n",
      "weighted avg       0.93      0.92      0.92     22561\n",
      "\n"
     ]
    }
   ],
   "source": [
    "# display the classification report\n",
    "y_pred = down_XGB_model_best_params.predict(X_val.values)\n",
    "\n",
    "down_report_XGB = classification_report(y_val, y_pred)\n",
    "print(down_report_XGB)"
   ]
  },
  {
   "cell_type": "code",
   "execution_count": 81,
   "id": "d0b28032",
   "metadata": {},
   "outputs": [
    {
     "data": {
      "text/plain": [
       "1    17663\n",
       "0     4898\n",
       "Name: churn, dtype: int64"
      ]
     },
     "metadata": {},
     "output_type": "display_data"
    },
    {
     "data": {
      "text/html": [
       "<div>\n",
       "<style scoped>\n",
       "    .dataframe tbody tr th:only-of-type {\n",
       "        vertical-align: middle;\n",
       "    }\n",
       "\n",
       "    .dataframe tbody tr th {\n",
       "        vertical-align: top;\n",
       "    }\n",
       "\n",
       "    .dataframe thead th {\n",
       "        text-align: right;\n",
       "    }\n",
       "</style>\n",
       "<table border=\"1\" class=\"dataframe\">\n",
       "  <thead>\n",
       "    <tr style=\"text-align: right;\">\n",
       "      <th></th>\n",
       "      <th>Predicted Churn</th>\n",
       "      <th>Predicted Non-churn</th>\n",
       "    </tr>\n",
       "  </thead>\n",
       "  <tbody>\n",
       "    <tr>\n",
       "      <th>True Churn</th>\n",
       "      <td>4718</td>\n",
       "      <td>180</td>\n",
       "    </tr>\n",
       "    <tr>\n",
       "      <th>True Non-churn</th>\n",
       "      <td>1689</td>\n",
       "      <td>15974</td>\n",
       "    </tr>\n",
       "  </tbody>\n",
       "</table>\n",
       "</div>"
      ],
      "text/plain": [
       "                Predicted Churn  Predicted Non-churn\n",
       "True Churn                 4718                  180\n",
       "True Non-churn             1689                15974"
      ]
     },
     "metadata": {},
     "output_type": "display_data"
    }
   ],
   "source": [
    "# import confusion matrix\n",
    "from sklearn.metrics import confusion_matrix\n",
    "\n",
    "# display the class distribution to see the totals for each class\n",
    "display(y_val.value_counts())\n",
    "\n",
    "# confusion matrix\n",
    "confusion_matrix = pd.DataFrame(\n",
    "    data = confusion_matrix(y_val, y_pred),\n",
    "    index = ['True Churn', 'True Non-churn'],\n",
    "    columns = ['Predicted Churn', 'Predicted Non-churn']\n",
    ")\n",
    "display(confusion_matrix)"
   ]
  },
  {
   "cell_type": "code",
   "execution_count": 82,
   "id": "6318638e",
   "metadata": {},
   "outputs": [
    {
     "data": {
      "image/png": "[encoded data removed]",
      "text/plain": [
       "<Figure size 432x288 with 2 Axes>"
      ]
     },
     "metadata": {
      "needs_background": "light"
     },
     "output_type": "display_data"
    }
   ],
   "source": [
    "# plot confusion matrix\n",
    "plot_confusion_matrix(down_XGB_model_best_params, X_val.values, y_val);"
   ]
  },
  {
   "cell_type": "markdown",
   "id": "1c934ce3",
   "metadata": {},
   "source": [
    "For XGB optimised parameters and down sampling our data points, we have a false postive of 3%, precision as 74%, recall of 96% and f1-score of 83%. Although, false positive was low (3%), both precision and f1-score are lower (18% precision and 6% f1-score difference) when we compare with adjusted XGB parameters. \n",
    "\n",
    "Let us use the same parameters for up-sampled data."
   ]
  },
  {
   "cell_type": "code",
   "execution_count": 83,
   "id": "35252b68",
   "metadata": {},
   "outputs": [
    {
     "name": "stdout",
     "output_type": "stream",
     "text": [
      "Train accuracy: 0.9941523305753039\n",
      "Validation accuracy: 0.9539470768139711\n"
     ]
    }
   ],
   "source": [
    "# fit up-sampled model with the best XGB parameters \n",
    "up_XGB_model_best_params = XGBClassifier(eta=0.3, gamma=0, \n",
    "                                      max_depth=8, min_child_weight=1, random_state=234).fit(X_train_up, y_train_up)\n",
    "\n",
    "# print out the scores\n",
    "print(f\"Train accuracy: {up_XGB_model_best_params.score(X_train_up, y_train_up)}\")\n",
    "print(f\"Validation accuracy: {up_XGB_model_best_params.score(X_val.values, y_val)}\")\n",
    "\n"
   ]
  },
  {
   "cell_type": "code",
   "execution_count": 84,
   "id": "20708449",
   "metadata": {},
   "outputs": [
    {
     "name": "stdout",
     "output_type": "stream",
     "text": [
      "              precision    recall  f1-score   support\n",
      "\n",
      "           0       0.87      0.93      0.90      4898\n",
      "           1       0.98      0.96      0.97     17663\n",
      "\n",
      "    accuracy                           0.95     22561\n",
      "   macro avg       0.92      0.95      0.93     22561\n",
      "weighted avg       0.96      0.95      0.95     22561\n",
      "\n"
     ]
    }
   ],
   "source": [
    "# display the classification report\n",
    "y_pred = up_XGB_model_best_params.predict(X_val.values)\n",
    "\n",
    "up_report_XGB = classification_report(y_val, y_pred)\n",
    "print(up_report_XGB)\n"
   ]
  },
  {
   "cell_type": "code",
   "execution_count": 85,
   "id": "992e8d8c",
   "metadata": {},
   "outputs": [
    {
     "data": {
      "text/plain": [
       "1    17663\n",
       "0     4898\n",
       "Name: churn, dtype: int64"
      ]
     },
     "metadata": {},
     "output_type": "display_data"
    },
    {
     "data": {
      "text/html": [
       "<div>\n",
       "<style scoped>\n",
       "    .dataframe tbody tr th:only-of-type {\n",
       "        vertical-align: middle;\n",
       "    }\n",
       "\n",
       "    .dataframe tbody tr th {\n",
       "        vertical-align: top;\n",
       "    }\n",
       "\n",
       "    .dataframe thead th {\n",
       "        text-align: right;\n",
       "    }\n",
       "</style>\n",
       "<table border=\"1\" class=\"dataframe\">\n",
       "  <thead>\n",
       "    <tr style=\"text-align: right;\">\n",
       "      <th></th>\n",
       "      <th>Predicted Churn</th>\n",
       "      <th>Predicted Non-churn</th>\n",
       "    </tr>\n",
       "  </thead>\n",
       "  <tbody>\n",
       "    <tr>\n",
       "      <th>True Churn</th>\n",
       "      <td>4565</td>\n",
       "      <td>333</td>\n",
       "    </tr>\n",
       "    <tr>\n",
       "      <th>True Non-churn</th>\n",
       "      <td>706</td>\n",
       "      <td>16957</td>\n",
       "    </tr>\n",
       "  </tbody>\n",
       "</table>\n",
       "</div>"
      ],
      "text/plain": [
       "                Predicted Churn  Predicted Non-churn\n",
       "True Churn                 4565                  333\n",
       "True Non-churn              706                16957"
      ]
     },
     "metadata": {},
     "output_type": "display_data"
    }
   ],
   "source": [
    "# import confusion matrix\n",
    "from sklearn.metrics import confusion_matrix\n",
    "\n",
    "# display the class distribution to see the totals for each class\n",
    "display(y_val.value_counts())\n",
    "\n",
    "# confusion matrix\n",
    "confusion_matrix = pd.DataFrame(\n",
    "    data = confusion_matrix(y_val, y_pred),\n",
    "    index = ['True Churn', 'True Non-churn'],\n",
    "    columns = ['Predicted Churn', 'Predicted Non-churn']\n",
    ")\n",
    "display(confusion_matrix)"
   ]
  },
  {
   "cell_type": "code",
   "execution_count": 86,
   "id": "54ef8b47",
   "metadata": {
    "scrolled": true
   },
   "outputs": [
    {
     "data": {
      "image/png": "[encoded data removed]",
      "text/plain": [
       "<Figure size 432x288 with 2 Axes>"
      ]
     },
     "metadata": {
      "needs_background": "light"
     },
     "output_type": "display_data"
    }
   ],
   "source": [
    "# plot confusion matrix\n",
    "plot_confusion_matrix(up_XGB_model_best_params, X_val.values, y_val);"
   ]
  },
  {
   "cell_type": "markdown",
   "id": "5e8effe7",
   "metadata": {},
   "source": [
    "For XGB optimised parameters and up sampling our data points, we have a false postive of 7%, precision as 87%, recall of 93% and f1-score of 90%. The adjusted parameters for up-sampled has a better recall and f1-score but lower precision (5% difference) in comparison with optimised XGB parameters (with false postive of 13%).\n",
    "Let us use the same parameters for down-sampled data."
   ]
  },
  {
   "cell_type": "markdown",
   "id": "20cf9c49",
   "metadata": {},
   "source": [
    "Model | True Negative | False Positive| Precision(%) |    Recall(%)       |f1-score(%)\n",
    "---------------|--------|------------- |-------------|-------------|-------------\n",
    "Logistic Regression| 282 (6%)| 4616 (94%)|50 | 6 | 10\n",
    "Decision Tree | 3593 (73%) | 1305 (27%) |73 | 73 | 73\n",
    "KNN | 1364 (28%) | 3534 (72%) |45 | 28 | 34\n",
    "Random Forest| 3235 (66%)| 1663 (34%)|91| 66| 77\n",
    "XGBoost | 4145 (85%) | 753 (15%) |90 | 85 | 87\n",
    "Down sampled| 4696 (96%)| 202 (4%)|71 | 96| 82\n",
    "Up sampled | 4566 (93) | 332 (7%) |79 | 93 | 85\n",
    "**XGB-optimised**| **4256 (87%)**| **642 (13%)**|**92** | **87**| **89**\n",
    "**XGB_Down_sampled-optimised** | **4718 (96%)** | **180 (4%)** |**74** | **96** | **83**\n",
    "**XGB_Up_sampled-optimised** | **4565 (93%)** | **333 (7%)** |**87** | **93** | **90**"
   ]
  },
  {
   "cell_type": "markdown",
   "id": "18e5e884",
   "metadata": {},
   "source": [
    "If our goal is to identify as many of **true churn** as possible, and measure how well we achieve our goal (model evaluation) using precision, f1-score and recall values. \n",
    "\n",
    "From the table displayed above, we have our best models with **upsampled with XGB grid search** and **XGB optimised parameters**. The results are very close but because we have less false positive with optimised XGB upsampled, we will score our test set on optimised XGB upsampled. \n",
    " \n",
    "Now that we are statisfied with our model, let us score on our test set. "
   ]
  },
  {
   "cell_type": "markdown",
   "id": "750d8a6f",
   "metadata": {},
   "source": [
    "### Final Model - Scoring on Test Set"
   ]
  },
  {
   "cell_type": "markdown",
   "id": "632913cb",
   "metadata": {},
   "source": [
    "Our best model involve upsampling class data points and runing XGB model using the following parameters:\n",
    "\n",
    "* eta = 0\n",
    "* gamma = 0\n",
    "* max depth = 8\n",
    "* min child weight = 1\n",
    "* random_state=234\n",
    "\n",
    "To begin with, we will use the upsampled X_train data, fit the model on XGB and score on test set."
   ]
  },
  {
   "cell_type": "code",
   "execution_count": 87,
   "id": "1e39d290",
   "metadata": {},
   "outputs": [
    {
     "name": "stdout",
     "output_type": "stream",
     "text": [
      "Original class distribution\n"
     ]
    },
    {
     "data": {
      "text/plain": [
       "0    11427\n",
       "1    41213\n",
       "Name: churn, dtype: int64"
      ]
     },
     "metadata": {},
     "output_type": "display_data"
    },
    {
     "name": "stdout",
     "output_type": "stream",
     "text": [
      "\n",
      "Resampled class distribution (Downsampled)\n"
     ]
    },
    {
     "data": {
      "text/plain": [
       "0    41213\n",
       "1    41213\n",
       "dtype: int64"
      ]
     },
     "metadata": {},
     "output_type": "display_data"
    }
   ],
   "source": [
    "# check the upsampled data\n",
    "\n",
    "print('Original class distribution')\n",
    "display(pd.Series(y2_train).value_counts().sort_index())\n",
    "\n",
    "print('\\nResampled class distribution (Downsampled)')\n",
    "display(pd.Series(y_train_up).value_counts().sort_index())\n"
   ]
  },
  {
   "cell_type": "code",
   "execution_count": 88,
   "id": "f7faf515",
   "metadata": {},
   "outputs": [
    {
     "name": "stdout",
     "output_type": "stream",
     "text": [
      "Train Accuracy: 0.9941523305753039\n",
      "Validation Accuracy: 0.9539470768139711\n",
      "Test Accuracy: 0.9503217913940748\n"
     ]
    }
   ],
   "source": [
    "# fit the data \n",
    "XGB_model_up_sample = XGBClassifier(eta=0.3, gamma=0,max_depth=8, \n",
    "                            min_child_weight=1, random_state=234).fit(X_train_up, y_train_up)\n",
    "\n",
    "# print accuracy results \n",
    "print(f\"Train Accuracy: {XGB_model_up_sample.score(X_train_up, y_train_up)}\")\n",
    "print(f\"Validation Accuracy: {XGB_model_up_sample.score(X_val.values, y_val)}\")\n",
    "print(f\"Test Accuracy: {XGB_model_up_sample.score(X_test.values, y_test)}\")"
   ]
  },
  {
   "cell_type": "code",
   "execution_count": 89,
   "id": "dca79a0a",
   "metadata": {},
   "outputs": [
    {
     "name": "stdout",
     "output_type": "stream",
     "text": [
      "              precision    recall  f1-score   support\n",
      "\n",
      "           0       0.86      0.92      0.89      4082\n",
      "           1       0.98      0.96      0.97     14719\n",
      "\n",
      "    accuracy                           0.95     18801\n",
      "   macro avg       0.92      0.94      0.93     18801\n",
      "weighted avg       0.95      0.95      0.95     18801\n",
      "\n"
     ]
    }
   ],
   "source": [
    "# generate report for upsampling\n",
    "\n",
    "y_pred_up_sample = XGB_model_up_sample.predict(X_test.values)\n",
    "\n",
    "report_upsampled = classification_report(y_test, y_pred_up_sample)\n",
    "print(report_upsampled)\n"
   ]
  },
  {
   "cell_type": "code",
   "execution_count": 90,
   "id": "f5b1fae4",
   "metadata": {},
   "outputs": [
    {
     "data": {
      "text/plain": [
       "1    14719\n",
       "0     4082\n",
       "Name: churn, dtype: int64"
      ]
     },
     "metadata": {},
     "output_type": "display_data"
    },
    {
     "data": {
      "text/html": [
       "<div>\n",
       "<style scoped>\n",
       "    .dataframe tbody tr th:only-of-type {\n",
       "        vertical-align: middle;\n",
       "    }\n",
       "\n",
       "    .dataframe tbody tr th {\n",
       "        vertical-align: top;\n",
       "    }\n",
       "\n",
       "    .dataframe thead th {\n",
       "        text-align: right;\n",
       "    }\n",
       "</style>\n",
       "<table border=\"1\" class=\"dataframe\">\n",
       "  <thead>\n",
       "    <tr style=\"text-align: right;\">\n",
       "      <th></th>\n",
       "      <th>Predicted Churn</th>\n",
       "      <th>Predicted Non-churn</th>\n",
       "    </tr>\n",
       "  </thead>\n",
       "  <tbody>\n",
       "    <tr>\n",
       "      <th>True Churn</th>\n",
       "      <td>3769</td>\n",
       "      <td>313</td>\n",
       "    </tr>\n",
       "    <tr>\n",
       "      <th>True Non-churn</th>\n",
       "      <td>621</td>\n",
       "      <td>14098</td>\n",
       "    </tr>\n",
       "  </tbody>\n",
       "</table>\n",
       "</div>"
      ],
      "text/plain": [
       "                Predicted Churn  Predicted Non-churn\n",
       "True Churn                 3769                  313\n",
       "True Non-churn              621                14098"
      ]
     },
     "metadata": {},
     "output_type": "display_data"
    }
   ],
   "source": [
    "# import confusion matrix\n",
    "from sklearn.metrics import confusion_matrix\n",
    "\n",
    "# display the class distribution to see the totals for each class\n",
    "display(y_test.value_counts())\n",
    "\n",
    "# confusion matrix\n",
    "confusion_matrix = pd.DataFrame(\n",
    "    data = confusion_matrix(y_test, y_pred_up_sample),\n",
    "    index = ['True Churn', 'True Non-churn'],\n",
    "    columns = ['Predicted Churn', 'Predicted Non-churn']\n",
    ")\n",
    "display(confusion_matrix)"
   ]
  },
  {
   "cell_type": "code",
   "execution_count": 91,
   "id": "8d3a653f",
   "metadata": {},
   "outputs": [
    {
     "data": {
      "image/png": "[encoded data removed]",
      "text/plain": [
       "<Figure size 432x288 with 2 Axes>"
      ]
     },
     "metadata": {
      "needs_background": "light"
     },
     "output_type": "display_data"
    }
   ],
   "source": [
    "# plot confusion matrix\n",
    "plot_confusion_matrix(XGB_model_up_sample, X_test.values, y_test);"
   ]
  },
  {
   "cell_type": "code",
   "execution_count": 94,
   "id": "159bdef9",
   "metadata": {},
   "outputs": [
    {
     "data": {
      "image/png": "[encoded data removed]",
      "text/plain": [
       "<Figure size 432x288 with 1 Axes>"
      ]
     },
     "metadata": {
      "needs_background": "light"
     },
     "output_type": "display_data"
    }
   ],
   "source": [
    "# probabilistic prediction\n",
    "y_test_proba = XGB_model_up_sample.predict_proba(X_test.values)[:,1] \n",
    "\n",
    "# ROC arrays\n",
    "fprs, tprs, thresholds = roc_curve(y_test, y_test_proba)\n",
    "\n",
    "# AUC\n",
    "roc_auc = roc_auc_score(y_test, y_test_proba)\n",
    "\n",
    "# plot\n",
    "plt.figure()\n",
    "plt.plot(fprs, tprs, color='red', lw=2, label=f'ROC (AUC = {roc_auc:0.2f})')\n",
    "plt.plot([0, 1], [0, 1],  lw=2, color='navy', linestyle='--', label='random guess') \n",
    "plt.xlabel('False Positive Rate (FPR)')\n",
    "plt.ylabel('True Positive Rate (TPR)')\n",
    "plt.title('Final Churn ROC Curve for XGB Model (upsampled Data)')\n",
    "plt.legend(loc='best')\n",
    "plt.show()\n",
    "    \n"
   ]
  },
  {
   "cell_type": "markdown",
   "id": "4f8c3593",
   "metadata": {},
   "source": [
    "Model | True Negative | False Positive| Precision(%) |    Recall(%)       |f1-score(%)\n",
    "---------------|--------|------------- |-------------|-------------|-------------\n",
    "Logistic Regression| 282 (6%)| 4616 (94%)|50 | 6 | 10\n",
    "Decision Tree | 3593 (73%) | 1305 (27%) |73 | 73 | 73\n",
    "KNN | 1364 (28%) | 3534 (72%) |45 | 28 | 34\n",
    "Random Forest| 3235 (66%)| 1663 (34%)|91| 66| 77\n",
    "XGBoost | 4145 (85%) | 753 (15%) |90 | 85 | 87\n",
    "Down sampled| 4696 (96%)| 202 (4%)|71 | 96| 82\n",
    "Up sampled | 4566 (93) | 332 (7%) |79 | 93 | 85\n",
    "XGB-Grid Search| 4256 (87%)| 642 (13%)|92 | 87| 89\n",
    "XGB_Down_sampled-Grid Search | 4718 (96%) | 180 (4%) |74 | 96 | 83\n",
    "XGB_Up_sampled-Grid Search | 4565 (93%) | 333 (7%) |87 | 93 | 90\n",
    "<font color=red> Test_set_Up_sampled_XGB</font>|<font color=red>3769 (93%)</font>|<font color=red>313 (7%)</font>|<font color=red>86</font>|<font color=red>92</font>|<font color=red>89</font>"
   ]
  },
  {
   "cell_type": "markdown",
   "id": "93134d8f",
   "metadata": {},
   "source": [
    "Our test result is good! The model made predictions for the train and the test set: there is only 313 (7%) churn that was misclassified as non-churn with 86% precision, 92% recall and 89% f1-score. Therefore, we are able to detect customers (86% accurate) that are at the risk of churn and target them for marketing and retention. "
   ]
  },
  {
   "cell_type": "markdown",
   "id": "6cbe1d43",
   "metadata": {},
   "source": [
    "### Conclusion\n",
    "\n",
    "In this notebook, we conducted modeling on our dataset to determine which model has the best performance using validation set with regards to correctly classifying churn class as truly churn with a good precision.\n",
    "\n",
    "We concluded that upsampled with optimised XGB was the best and we went ahead to score and evaluate on our test set. \n",
    "The model performed very well on test set, with 7% false negative and 86% precision. \n",
    "\n",
    "We can use the model in this notebook and apply to determine customers that are at the risk of churn. This is not limited to eccommerce industry, the model may be applied to any industry that depends on customer for revenue and growth. \n",
    "\n",
    "Next steps:\n",
    "\n",
    "We may want to explore the review comments of likely churn customers to have an idea if delivery, product prices or freight price is/are likely predictors of churn."
   ]
  }
 ],
 "metadata": {
  "kernelspec": {
   "display_name": "Python 3 (ipykernel)",
   "language": "python",
   "name": "python3"
  },
  "language_info": {
   "codemirror_mode": {
    "name": "ipython",
    "version": 3
   },
   "file_extension": ".py",
   "mimetype": "text/x-python",
   "name": "python",
   "nbconvert_exporter": "python",
   "pygments_lexer": "ipython3",
   "version": "3.9.12"
  },
  "vscode": {
   "interpreter": {
    "hash": "aee8b7b246df8f9039afb4144a1f6fd8d2ca17a180786b69acc140d282b71a49"
   }
  }
 },
 "nbformat": 4,
 "nbformat_minor": 5
}
