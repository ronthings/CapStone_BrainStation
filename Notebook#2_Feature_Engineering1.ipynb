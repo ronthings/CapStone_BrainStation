{
 "cells": [
  {
   "cell_type": "markdown",
   "id": "03d737b7",
   "metadata": {},
   "source": [
    "# Capstone Project - Predicting The Risk Of Customer Churn \n",
    "\n",
    "## Feature Engineering - Defining Churn\n",
    "***"
   ]
  },
  {
   "cell_type": "markdown",
   "id": "eae714e1",
   "metadata": {},
   "source": [
    "### Author - Oyeronke Ayansola\n",
    "\n",
    "### Date - 12/12/2022\n",
    "\n",
    "### <font color=red> Notebook #2</font>\n",
    "\n",
    "***"
   ]
  },
  {
   "cell_type": "markdown",
   "id": "a8580387",
   "metadata": {},
   "source": [
    "## Table of Contents\n",
    "### [Import Libraries And Dataset](##ImportingLibrariesAndDatasets)\n",
    "### [RFM Features](##RFMFeatures)\n",
    "### [Other Features](##OtherFeatures)\n",
    "### [Churn Profiling](##ChurnProfiling)\n",
    "### [Datetime Split](##DatetimeSplit)\n",
    "### [Conclusion](##Conclusion)\n",
    "***"
   ]
  },
  {
   "cell_type": "markdown",
   "id": "7d02f895",
   "metadata": {},
   "source": [
    "The goal of this notebook is to create features neccessary to give better insight of our data and profile the customers, and define churn customers.\n",
    "\n",
    "We import the dataset and all packages neccessary for this notebook.\n",
    "***"
   ]
  },
  {
   "cell_type": "code",
   "execution_count": 1,
   "id": "534cd654",
   "metadata": {},
   "outputs": [],
   "source": [
    "# import required libraries\n",
    "import pandas as pd\n",
    "import numpy as np\n",
    "import seaborn as sns\n",
    "import datetime as dt\n",
    "import matplotlib.pyplot as plt\n",
    "%matplotlib inline\n",
    "\n",
    "\n",
    "from datetime import datetime"
   ]
  },
  {
   "cell_type": "code",
   "execution_count": 2,
   "id": "cdf8a56a",
   "metadata": {},
   "outputs": [],
   "source": [
    "# import dataset from notebook 1\n",
    "df = pd.read_csv('cleaned_df.csv')"
   ]
  },
  {
   "cell_type": "code",
   "execution_count": 3,
   "id": "98270059",
   "metadata": {},
   "outputs": [
    {
     "data": {
      "text/html": [
       "<div>\n",
       "<style scoped>\n",
       "    .dataframe tbody tr th:only-of-type {\n",
       "        vertical-align: middle;\n",
       "    }\n",
       "\n",
       "    .dataframe tbody tr th {\n",
       "        vertical-align: top;\n",
       "    }\n",
       "\n",
       "    .dataframe thead th {\n",
       "        text-align: right;\n",
       "    }\n",
       "</style>\n",
       "<table border=\"1\" class=\"dataframe\">\n",
       "  <thead>\n",
       "    <tr style=\"text-align: right;\">\n",
       "      <th></th>\n",
       "      <th>customer_id</th>\n",
       "      <th>customer_unique_id</th>\n",
       "      <th>customer_zip_code_prefix</th>\n",
       "      <th>customer_city</th>\n",
       "      <th>customer_state</th>\n",
       "      <th>customer_latitude</th>\n",
       "      <th>customer_longitude</th>\n",
       "      <th>order_id</th>\n",
       "      <th>order_status</th>\n",
       "      <th>order_purchase_timestamp</th>\n",
       "      <th>...</th>\n",
       "      <th>product_weight_g</th>\n",
       "      <th>product_length_cm</th>\n",
       "      <th>product_height_cm</th>\n",
       "      <th>product_width_cm</th>\n",
       "      <th>product_category_name_english</th>\n",
       "      <th>seller_zip_code_prefix</th>\n",
       "      <th>seller_city</th>\n",
       "      <th>seller_state</th>\n",
       "      <th>seller_latitude</th>\n",
       "      <th>seller_longitude</th>\n",
       "    </tr>\n",
       "  </thead>\n",
       "  <tbody>\n",
       "    <tr>\n",
       "      <th>0</th>\n",
       "      <td>06b8999e2fba1a1fbc88172c00ba8bc7</td>\n",
       "      <td>861eff4711a542e4b93843c6dd7febb0</td>\n",
       "      <td>14409</td>\n",
       "      <td>franca</td>\n",
       "      <td>SP</td>\n",
       "      <td>-20.509898</td>\n",
       "      <td>-47.397866</td>\n",
       "      <td>00e7ee1b050b8499577073aeb2a297a1</td>\n",
       "      <td>delivered</td>\n",
       "      <td>2017-05-16 15:05:35</td>\n",
       "      <td>...</td>\n",
       "      <td>8683.0</td>\n",
       "      <td>54.0</td>\n",
       "      <td>64.0</td>\n",
       "      <td>31.0</td>\n",
       "      <td>office_furniture</td>\n",
       "      <td>8577.0</td>\n",
       "      <td>itaquaquecetuba</td>\n",
       "      <td>SP</td>\n",
       "      <td>-23.482623</td>\n",
       "      <td>-46.374490</td>\n",
       "    </tr>\n",
       "    <tr>\n",
       "      <th>1</th>\n",
       "      <td>5dca924cc99eea2dc5ba40d11ec5dd0f</td>\n",
       "      <td>2761fee7f378f0a8d7682d8a3fa07ab1</td>\n",
       "      <td>14409</td>\n",
       "      <td>franca</td>\n",
       "      <td>SP</td>\n",
       "      <td>-20.509898</td>\n",
       "      <td>-47.397866</td>\n",
       "      <td>95261f608a64bbbe760a212b4d48a4ee</td>\n",
       "      <td>delivered</td>\n",
       "      <td>2018-06-15 20:07:13</td>\n",
       "      <td>...</td>\n",
       "      <td>1383.0</td>\n",
       "      <td>50.0</td>\n",
       "      <td>10.0</td>\n",
       "      <td>40.0</td>\n",
       "      <td>bed_bath_table</td>\n",
       "      <td>14940.0</td>\n",
       "      <td>ibitinga</td>\n",
       "      <td>SP</td>\n",
       "      <td>-21.766477</td>\n",
       "      <td>-48.831547</td>\n",
       "    </tr>\n",
       "    <tr>\n",
       "      <th>2</th>\n",
       "      <td>661897d4968f1b59bfff74c7eb2eb4fc</td>\n",
       "      <td>d06a495406b79cb8203ea21cc0942f8c</td>\n",
       "      <td>14409</td>\n",
       "      <td>franca</td>\n",
       "      <td>SP</td>\n",
       "      <td>-20.509898</td>\n",
       "      <td>-47.397866</td>\n",
       "      <td>9444fa2ab50a3f5af63b48be297eda24</td>\n",
       "      <td>delivered</td>\n",
       "      <td>2017-09-09 15:40:00</td>\n",
       "      <td>...</td>\n",
       "      <td>1200.0</td>\n",
       "      <td>47.0</td>\n",
       "      <td>7.0</td>\n",
       "      <td>26.0</td>\n",
       "      <td>toys</td>\n",
       "      <td>89204.0</td>\n",
       "      <td>joinville</td>\n",
       "      <td>SC</td>\n",
       "      <td>-26.283149</td>\n",
       "      <td>-48.851285</td>\n",
       "    </tr>\n",
       "    <tr>\n",
       "      <th>3</th>\n",
       "      <td>702b62324327ccba20f1be3465426437</td>\n",
       "      <td>8b3d988f330c1d1c3332ccd440c147b7</td>\n",
       "      <td>14409</td>\n",
       "      <td>franca</td>\n",
       "      <td>SP</td>\n",
       "      <td>-20.509898</td>\n",
       "      <td>-47.397866</td>\n",
       "      <td>dceb8e88274c6f42a88a76ed979eb817</td>\n",
       "      <td>delivered</td>\n",
       "      <td>2018-03-26 12:04:55</td>\n",
       "      <td>...</td>\n",
       "      <td>567.0</td>\n",
       "      <td>19.0</td>\n",
       "      <td>14.0</td>\n",
       "      <td>15.0</td>\n",
       "      <td>auto</td>\n",
       "      <td>4243.0</td>\n",
       "      <td>sao paulo</td>\n",
       "      <td>SP</td>\n",
       "      <td>-23.626269</td>\n",
       "      <td>-46.586534</td>\n",
       "    </tr>\n",
       "    <tr>\n",
       "      <th>4</th>\n",
       "      <td>bdf997bae7ca819b0415f5174d6b4302</td>\n",
       "      <td>866755e25db620f8d7e81b351a15bb2f</td>\n",
       "      <td>14409</td>\n",
       "      <td>franca</td>\n",
       "      <td>SP</td>\n",
       "      <td>-20.509898</td>\n",
       "      <td>-47.397866</td>\n",
       "      <td>6ee1cea1b2edcc713f83ebfbccbc57f9</td>\n",
       "      <td>delivered</td>\n",
       "      <td>2018-07-29 20:39:20</td>\n",
       "      <td>...</td>\n",
       "      <td>300.0</td>\n",
       "      <td>20.0</td>\n",
       "      <td>7.0</td>\n",
       "      <td>15.0</td>\n",
       "      <td>telephony</td>\n",
       "      <td>1212.0</td>\n",
       "      <td>sao paulo</td>\n",
       "      <td>SP</td>\n",
       "      <td>-23.537511</td>\n",
       "      <td>-46.637057</td>\n",
       "    </tr>\n",
       "  </tbody>\n",
       "</table>\n",
       "<p>5 rows × 42 columns</p>\n",
       "</div>"
      ],
      "text/plain": [
       "                        customer_id                customer_unique_id  \\\n",
       "0  06b8999e2fba1a1fbc88172c00ba8bc7  861eff4711a542e4b93843c6dd7febb0   \n",
       "1  5dca924cc99eea2dc5ba40d11ec5dd0f  2761fee7f378f0a8d7682d8a3fa07ab1   \n",
       "2  661897d4968f1b59bfff74c7eb2eb4fc  d06a495406b79cb8203ea21cc0942f8c   \n",
       "3  702b62324327ccba20f1be3465426437  8b3d988f330c1d1c3332ccd440c147b7   \n",
       "4  bdf997bae7ca819b0415f5174d6b4302  866755e25db620f8d7e81b351a15bb2f   \n",
       "\n",
       "   customer_zip_code_prefix customer_city customer_state  customer_latitude  \\\n",
       "0                     14409        franca             SP         -20.509898   \n",
       "1                     14409        franca             SP         -20.509898   \n",
       "2                     14409        franca             SP         -20.509898   \n",
       "3                     14409        franca             SP         -20.509898   \n",
       "4                     14409        franca             SP         -20.509898   \n",
       "\n",
       "   customer_longitude                          order_id order_status  \\\n",
       "0          -47.397866  00e7ee1b050b8499577073aeb2a297a1    delivered   \n",
       "1          -47.397866  95261f608a64bbbe760a212b4d48a4ee    delivered   \n",
       "2          -47.397866  9444fa2ab50a3f5af63b48be297eda24    delivered   \n",
       "3          -47.397866  dceb8e88274c6f42a88a76ed979eb817    delivered   \n",
       "4          -47.397866  6ee1cea1b2edcc713f83ebfbccbc57f9    delivered   \n",
       "\n",
       "  order_purchase_timestamp  ... product_weight_g product_length_cm  \\\n",
       "0      2017-05-16 15:05:35  ...           8683.0              54.0   \n",
       "1      2018-06-15 20:07:13  ...           1383.0              50.0   \n",
       "2      2017-09-09 15:40:00  ...           1200.0              47.0   \n",
       "3      2018-03-26 12:04:55  ...            567.0              19.0   \n",
       "4      2018-07-29 20:39:20  ...            300.0              20.0   \n",
       "\n",
       "  product_height_cm product_width_cm  product_category_name_english  \\\n",
       "0              64.0             31.0               office_furniture   \n",
       "1              10.0             40.0                 bed_bath_table   \n",
       "2               7.0             26.0                           toys   \n",
       "3              14.0             15.0                           auto   \n",
       "4               7.0             15.0                      telephony   \n",
       "\n",
       "  seller_zip_code_prefix      seller_city  seller_state  seller_latitude  \\\n",
       "0                 8577.0  itaquaquecetuba            SP       -23.482623   \n",
       "1                14940.0         ibitinga            SP       -21.766477   \n",
       "2                89204.0        joinville            SC       -26.283149   \n",
       "3                 4243.0        sao paulo            SP       -23.626269   \n",
       "4                 1212.0        sao paulo            SP       -23.537511   \n",
       "\n",
       "  seller_longitude  \n",
       "0       -46.374490  \n",
       "1       -48.831547  \n",
       "2       -48.851285  \n",
       "3       -46.586534  \n",
       "4       -46.637057  \n",
       "\n",
       "[5 rows x 42 columns]"
      ]
     },
     "execution_count": 3,
     "metadata": {},
     "output_type": "execute_result"
    }
   ],
   "source": [
    "# see the head\n",
    "df.head()"
   ]
  },
  {
   "cell_type": "code",
   "execution_count": 4,
   "id": "40fbcc0a",
   "metadata": {},
   "outputs": [
    {
     "data": {
      "text/plain": [
       "(115036, 42)"
      ]
     },
     "execution_count": 4,
     "metadata": {},
     "output_type": "execute_result"
    }
   ],
   "source": [
    "df.shape"
   ]
  },
  {
   "cell_type": "code",
   "execution_count": 5,
   "id": "59a67569",
   "metadata": {},
   "outputs": [
    {
     "data": {
      "text/plain": [
       "customer_id                       object\n",
       "customer_unique_id                object\n",
       "customer_zip_code_prefix           int64\n",
       "customer_city                     object\n",
       "customer_state                    object\n",
       "customer_latitude                float64\n",
       "customer_longitude               float64\n",
       "order_id                          object\n",
       "order_status                      object\n",
       "order_purchase_timestamp          object\n",
       "order_approved_at                 object\n",
       "order_delivered_carrier_date      object\n",
       "order_delivered_customer_date     object\n",
       "order_estimated_delivery_date     object\n",
       "payment_sequential               float64\n",
       "payment_type                      object\n",
       "payment_installments             float64\n",
       "payment_value                    float64\n",
       "order_item_id                    float64\n",
       "product_id                        object\n",
       "seller_id                         object\n",
       "shipping_limit_date               object\n",
       "price                            float64\n",
       "freight_value                    float64\n",
       "review_id                         object\n",
       "review_score                     float64\n",
       "review_creation_date              object\n",
       "review_answer_timestamp           object\n",
       "product_category_name             object\n",
       "product_name_length              float64\n",
       "product_description_length       float64\n",
       "product_photos_qty               float64\n",
       "product_weight_g                 float64\n",
       "product_length_cm                float64\n",
       "product_height_cm                float64\n",
       "product_width_cm                 float64\n",
       "product_category_name_english     object\n",
       "seller_zip_code_prefix           float64\n",
       "seller_city                       object\n",
       "seller_state                      object\n",
       "seller_latitude                  float64\n",
       "seller_longitude                 float64\n",
       "dtype: object"
      ]
     },
     "execution_count": 5,
     "metadata": {},
     "output_type": "execute_result"
    }
   ],
   "source": [
    "df.dtypes"
   ]
  },
  {
   "cell_type": "code",
   "execution_count": 6,
   "id": "ed02bdff",
   "metadata": {},
   "outputs": [],
   "source": [
    "\n",
    "# assign all columns with date and time to a dataframe\n",
    "date_time_columns =['order_purchase_timestamp', 'order_approved_at', 'order_delivered_carrier_date',\n",
    "                    'order_delivered_customer_date',\n",
    "                           'order_estimated_delivery_date','shipping_limit_date', 'review_creation_date', \n",
    "                    'review_answer_timestamp']"
   ]
  },
  {
   "cell_type": "code",
   "execution_count": 7,
   "id": "6cc83039",
   "metadata": {},
   "outputs": [],
   "source": [
    "# convert all date columns to datetime data type\n",
    "df[date_time_columns] = df[date_time_columns].apply(pd.to_datetime)"
   ]
  },
  {
   "cell_type": "code",
   "execution_count": 8,
   "id": "09c9aeb6",
   "metadata": {},
   "outputs": [
    {
     "data": {
      "text/plain": [
       "customer_id                              object\n",
       "customer_unique_id                       object\n",
       "customer_zip_code_prefix                  int64\n",
       "customer_city                            object\n",
       "customer_state                           object\n",
       "customer_latitude                       float64\n",
       "customer_longitude                      float64\n",
       "order_id                                 object\n",
       "order_status                             object\n",
       "order_purchase_timestamp         datetime64[ns]\n",
       "order_approved_at                datetime64[ns]\n",
       "order_delivered_carrier_date     datetime64[ns]\n",
       "order_delivered_customer_date    datetime64[ns]\n",
       "order_estimated_delivery_date    datetime64[ns]\n",
       "payment_sequential                      float64\n",
       "payment_type                             object\n",
       "payment_installments                    float64\n",
       "payment_value                           float64\n",
       "order_item_id                           float64\n",
       "product_id                               object\n",
       "seller_id                                object\n",
       "shipping_limit_date              datetime64[ns]\n",
       "price                                   float64\n",
       "freight_value                           float64\n",
       "review_id                                object\n",
       "review_score                            float64\n",
       "review_creation_date             datetime64[ns]\n",
       "review_answer_timestamp          datetime64[ns]\n",
       "product_category_name                    object\n",
       "product_name_length                     float64\n",
       "product_description_length              float64\n",
       "product_photos_qty                      float64\n",
       "product_weight_g                        float64\n",
       "product_length_cm                       float64\n",
       "product_height_cm                       float64\n",
       "product_width_cm                        float64\n",
       "product_category_name_english            object\n",
       "seller_zip_code_prefix                  float64\n",
       "seller_city                              object\n",
       "seller_state                             object\n",
       "seller_latitude                         float64\n",
       "seller_longitude                        float64\n",
       "dtype: object"
      ]
     },
     "execution_count": 8,
     "metadata": {},
     "output_type": "execute_result"
    }
   ],
   "source": [
    "# sanity check\n",
    "df.dtypes"
   ]
  },
  {
   "cell_type": "code",
   "execution_count": 9,
   "id": "0dadf6dd",
   "metadata": {},
   "outputs": [
    {
     "name": "stdout",
     "output_type": "stream",
     "text": [
      "Minimun time stamp is 2016-09-04 21:15:19\n",
      "Maximum time stamp is 2018-09-03 09:06:57\n"
     ]
    }
   ],
   "source": [
    "#Let's see the min amd max order date in our dataset\n",
    "print(\"Minimun time stamp is\" , df['order_purchase_timestamp'].min())\n",
    "print(\"Maximum time stamp is\", df['order_purchase_timestamp'].max())"
   ]
  },
  {
   "cell_type": "markdown",
   "id": "97ba5cf8",
   "metadata": {},
   "source": [
    "So, our data is from September 2016 to October 2018 with first order made on September 4th and last order made on October 17th 2018. We will use the last order date as our current date so as to simulate the age of our customers."
   ]
  },
  {
   "cell_type": "markdown",
   "id": "4989190b",
   "metadata": {},
   "source": [
    "### RFM - Recency, Frequency and Monetary Value\n",
    "\n",
    "RFM is a method that uses exixting customer data to understand customer behavior and to predict how a new customer is likely to act in the future. The three key factors use are:\n",
    "\n",
    "1. Recency - how recently a customer has transacted with a brand\n",
    "2. Frequency - how frequently they’ve engaged with a brand\n",
    "3. Monetary - how much money they’ve spent on a brand’s products and services\n",
    "\n",
    "In other to profile customers, we need to create these features.\n"
   ]
  },
  {
   "cell_type": "markdown",
   "id": "0f4fbd57",
   "metadata": {},
   "source": [
    "### Recency\n",
    "\n",
    "This is the time difference between customers' first purchase and the last purchase, that is, the time that has paased since the last purchase of a customer.\n",
    "\n",
    "Let us now calculate recency based on the last time customers' order was approved."
   ]
  },
  {
   "cell_type": "code",
   "execution_count": 10,
   "id": "9199cc9f",
   "metadata": {},
   "outputs": [
    {
     "name": "stdout",
     "output_type": "stream",
     "text": [
      "<class 'datetime.datetime'>\n"
     ]
    }
   ],
   "source": [
    "# specify last purchase date and creating datetime object from the given string\n",
    "today = '2018-10-17'\n",
    "date_today = datetime.strptime(today, '%Y-%m-%d')\n",
    "print(type(date_today))\n"
   ]
  },
  {
   "cell_type": "code",
   "execution_count": 11,
   "id": "d3ab185d",
   "metadata": {},
   "outputs": [],
   "source": [
    "# create a dataframe and determine customer last order\n",
    "recency_df = df.groupby('customer_unique_id')['order_approved_at'].max().reset_index()"
   ]
  },
  {
   "cell_type": "markdown",
   "id": "a8cb3e66",
   "metadata": {},
   "source": [
    "The column with customer last order will be renamed as `most_recent` - which is the most recent time a customer interact with Olist."
   ]
  },
  {
   "cell_type": "code",
   "execution_count": 12,
   "id": "5d3eff39",
   "metadata": {},
   "outputs": [],
   "source": [
    "# set the column as 'most recent'\n",
    "recency_df.columns = ['customer_unique_id', 'most_recent']"
   ]
  },
  {
   "cell_type": "code",
   "execution_count": 13,
   "id": "bda71163",
   "metadata": {},
   "outputs": [
    {
     "data": {
      "text/plain": [
       "customer_unique_id            object\n",
       "most_recent           datetime64[ns]\n",
       "dtype: object"
      ]
     },
     "execution_count": 13,
     "metadata": {},
     "output_type": "execute_result"
    }
   ],
   "source": [
    "# see the datatypes\n",
    "recency_df.dtypes"
   ]
  },
  {
   "cell_type": "markdown",
   "id": "bcdcdd3a",
   "metadata": {},
   "source": [
    "Now that we know the `most_recent` time of our customer, we will calculate `recency` by subtracting the minimum `most_recent` from the maximum, this will give u sthe age of each customer i.e the first day they interact with Olist from the last time."
   ]
  },
  {
   "cell_type": "code",
   "execution_count": 14,
   "id": "f50f74a7",
   "metadata": {},
   "outputs": [],
   "source": [
    "# Calculating recency\n",
    "recency_df['recency'] = (recency_df['most_recent'].max() - recency_df['most_recent']).dt.days\n"
   ]
  },
  {
   "cell_type": "code",
   "execution_count": 15,
   "id": "a3e719fb",
   "metadata": {},
   "outputs": [
    {
     "data": {
      "text/html": [
       "<div>\n",
       "<style scoped>\n",
       "    .dataframe tbody tr th:only-of-type {\n",
       "        vertical-align: middle;\n",
       "    }\n",
       "\n",
       "    .dataframe tbody tr th {\n",
       "        vertical-align: top;\n",
       "    }\n",
       "\n",
       "    .dataframe thead th {\n",
       "        text-align: right;\n",
       "    }\n",
       "</style>\n",
       "<table border=\"1\" class=\"dataframe\">\n",
       "  <thead>\n",
       "    <tr style=\"text-align: right;\">\n",
       "      <th></th>\n",
       "      <th>customer_unique_id</th>\n",
       "      <th>most_recent</th>\n",
       "      <th>recency</th>\n",
       "    </tr>\n",
       "  </thead>\n",
       "  <tbody>\n",
       "    <tr>\n",
       "      <th>0</th>\n",
       "      <td>0000366f3b9a7992bf8c76cfdf3221e2</td>\n",
       "      <td>2018-05-10 11:11:18</td>\n",
       "      <td>116</td>\n",
       "    </tr>\n",
       "    <tr>\n",
       "      <th>1</th>\n",
       "      <td>0000b849f77a49e4a4ce2b2a4ca5be3f</td>\n",
       "      <td>2018-05-07 18:25:44</td>\n",
       "      <td>118</td>\n",
       "    </tr>\n",
       "    <tr>\n",
       "      <th>2</th>\n",
       "      <td>0000f46a3911fa3c0805444483337064</td>\n",
       "      <td>2017-03-10 21:05:03</td>\n",
       "      <td>541</td>\n",
       "    </tr>\n",
       "    <tr>\n",
       "      <th>3</th>\n",
       "      <td>0000f6ccb0745a6a4b88665a16c9f078</td>\n",
       "      <td>2017-10-12 20:49:17</td>\n",
       "      <td>325</td>\n",
       "    </tr>\n",
       "    <tr>\n",
       "      <th>4</th>\n",
       "      <td>0004aac84e0df4da2b147fca70cf8255</td>\n",
       "      <td>2017-11-14 20:06:52</td>\n",
       "      <td>292</td>\n",
       "    </tr>\n",
       "    <tr>\n",
       "      <th>...</th>\n",
       "      <td>...</td>\n",
       "      <td>...</td>\n",
       "      <td>...</td>\n",
       "    </tr>\n",
       "    <tr>\n",
       "      <th>92933</th>\n",
       "      <td>fffcf5a5ff07b0908bd4e2dbc735a684</td>\n",
       "      <td>2017-06-08 21:15:16</td>\n",
       "      <td>451</td>\n",
       "    </tr>\n",
       "    <tr>\n",
       "      <th>92934</th>\n",
       "      <td>fffea47cd6d3cc0a88bd621562a9d061</td>\n",
       "      <td>2017-12-10 20:16:20</td>\n",
       "      <td>266</td>\n",
       "    </tr>\n",
       "    <tr>\n",
       "      <th>92935</th>\n",
       "      <td>ffff371b4d645b6ecea244b27531430a</td>\n",
       "      <td>2017-02-07 16:02:44</td>\n",
       "      <td>573</td>\n",
       "    </tr>\n",
       "    <tr>\n",
       "      <th>92936</th>\n",
       "      <td>ffff5962728ec6157033ef9805bacc48</td>\n",
       "      <td>2018-05-02 15:58:47</td>\n",
       "      <td>124</td>\n",
       "    </tr>\n",
       "    <tr>\n",
       "      <th>92937</th>\n",
       "      <td>ffffd2657e2aad2907e67c3e9daecbeb</td>\n",
       "      <td>2017-05-03 15:15:13</td>\n",
       "      <td>488</td>\n",
       "    </tr>\n",
       "  </tbody>\n",
       "</table>\n",
       "<p>92938 rows × 3 columns</p>\n",
       "</div>"
      ],
      "text/plain": [
       "                     customer_unique_id         most_recent  recency\n",
       "0      0000366f3b9a7992bf8c76cfdf3221e2 2018-05-10 11:11:18      116\n",
       "1      0000b849f77a49e4a4ce2b2a4ca5be3f 2018-05-07 18:25:44      118\n",
       "2      0000f46a3911fa3c0805444483337064 2017-03-10 21:05:03      541\n",
       "3      0000f6ccb0745a6a4b88665a16c9f078 2017-10-12 20:49:17      325\n",
       "4      0004aac84e0df4da2b147fca70cf8255 2017-11-14 20:06:52      292\n",
       "...                                 ...                 ...      ...\n",
       "92933  fffcf5a5ff07b0908bd4e2dbc735a684 2017-06-08 21:15:16      451\n",
       "92934  fffea47cd6d3cc0a88bd621562a9d061 2017-12-10 20:16:20      266\n",
       "92935  ffff371b4d645b6ecea244b27531430a 2017-02-07 16:02:44      573\n",
       "92936  ffff5962728ec6157033ef9805bacc48 2018-05-02 15:58:47      124\n",
       "92937  ffffd2657e2aad2907e67c3e9daecbeb 2017-05-03 15:15:13      488\n",
       "\n",
       "[92938 rows x 3 columns]"
      ]
     },
     "execution_count": 15,
     "metadata": {},
     "output_type": "execute_result"
    }
   ],
   "source": [
    "# see the dataframe\n",
    "recency_df"
   ]
  },
  {
   "cell_type": "code",
   "execution_count": 16,
   "id": "fd1a0257",
   "metadata": {},
   "outputs": [
    {
     "data": {
      "text/plain": [
       "(92938, 3)"
      ]
     },
     "execution_count": 16,
     "metadata": {},
     "output_type": "execute_result"
    }
   ],
   "source": [
    "# check the shape\n",
    "recency_df.shape"
   ]
  },
  {
   "cell_type": "code",
   "execution_count": 17,
   "id": "10c21cc7",
   "metadata": {},
   "outputs": [],
   "source": [
    "#frequency_df = pd.DataFrame(df.groupby(['customer_unique_id']).agg({'order_id': 'nunique' }).reset_index())"
   ]
  },
  {
   "cell_type": "markdown",
   "id": "bfeab102",
   "metadata": {},
   "source": [
    "### Frequency\n",
    "\n",
    "The number of repeats purchases a customer has made within a stipulated ammount of time. Here, it will be the count in days (within 30 days) in which purchase(s) was made.\n",
    "\n",
    "Let us define the frequency column by grouping and `customer_unique_id` - which is the unique identity for each customer, then counting the number of times a customer interacted with Olist."
   ]
  },
  {
   "cell_type": "code",
   "execution_count": 18,
   "id": "22347df7",
   "metadata": {},
   "outputs": [],
   "source": [
    "# create the frequency dataframe\n",
    "frequency_df = pd.DataFrame(df.groupby('customer_unique_id')['customer_id'].count())"
   ]
  },
  {
   "cell_type": "code",
   "execution_count": 19,
   "id": "185d3c6c",
   "metadata": {},
   "outputs": [
    {
     "data": {
      "text/html": [
       "<div>\n",
       "<style scoped>\n",
       "    .dataframe tbody tr th:only-of-type {\n",
       "        vertical-align: middle;\n",
       "    }\n",
       "\n",
       "    .dataframe tbody tr th {\n",
       "        vertical-align: top;\n",
       "    }\n",
       "\n",
       "    .dataframe thead th {\n",
       "        text-align: right;\n",
       "    }\n",
       "</style>\n",
       "<table border=\"1\" class=\"dataframe\">\n",
       "  <thead>\n",
       "    <tr style=\"text-align: right;\">\n",
       "      <th></th>\n",
       "      <th>customer_id</th>\n",
       "    </tr>\n",
       "    <tr>\n",
       "      <th>customer_unique_id</th>\n",
       "      <th></th>\n",
       "    </tr>\n",
       "  </thead>\n",
       "  <tbody>\n",
       "    <tr>\n",
       "      <th>0000366f3b9a7992bf8c76cfdf3221e2</th>\n",
       "      <td>1</td>\n",
       "    </tr>\n",
       "    <tr>\n",
       "      <th>0000b849f77a49e4a4ce2b2a4ca5be3f</th>\n",
       "      <td>1</td>\n",
       "    </tr>\n",
       "    <tr>\n",
       "      <th>0000f46a3911fa3c0805444483337064</th>\n",
       "      <td>1</td>\n",
       "    </tr>\n",
       "    <tr>\n",
       "      <th>0000f6ccb0745a6a4b88665a16c9f078</th>\n",
       "      <td>1</td>\n",
       "    </tr>\n",
       "    <tr>\n",
       "      <th>0004aac84e0df4da2b147fca70cf8255</th>\n",
       "      <td>1</td>\n",
       "    </tr>\n",
       "    <tr>\n",
       "      <th>...</th>\n",
       "      <td>...</td>\n",
       "    </tr>\n",
       "    <tr>\n",
       "      <th>fffcf5a5ff07b0908bd4e2dbc735a684</th>\n",
       "      <td>2</td>\n",
       "    </tr>\n",
       "    <tr>\n",
       "      <th>fffea47cd6d3cc0a88bd621562a9d061</th>\n",
       "      <td>1</td>\n",
       "    </tr>\n",
       "    <tr>\n",
       "      <th>ffff371b4d645b6ecea244b27531430a</th>\n",
       "      <td>1</td>\n",
       "    </tr>\n",
       "    <tr>\n",
       "      <th>ffff5962728ec6157033ef9805bacc48</th>\n",
       "      <td>1</td>\n",
       "    </tr>\n",
       "    <tr>\n",
       "      <th>ffffd2657e2aad2907e67c3e9daecbeb</th>\n",
       "      <td>1</td>\n",
       "    </tr>\n",
       "  </tbody>\n",
       "</table>\n",
       "<p>92938 rows × 1 columns</p>\n",
       "</div>"
      ],
      "text/plain": [
       "                                  customer_id\n",
       "customer_unique_id                           \n",
       "0000366f3b9a7992bf8c76cfdf3221e2            1\n",
       "0000b849f77a49e4a4ce2b2a4ca5be3f            1\n",
       "0000f46a3911fa3c0805444483337064            1\n",
       "0000f6ccb0745a6a4b88665a16c9f078            1\n",
       "0004aac84e0df4da2b147fca70cf8255            1\n",
       "...                                       ...\n",
       "fffcf5a5ff07b0908bd4e2dbc735a684            2\n",
       "fffea47cd6d3cc0a88bd621562a9d061            1\n",
       "ffff371b4d645b6ecea244b27531430a            1\n",
       "ffff5962728ec6157033ef9805bacc48            1\n",
       "ffffd2657e2aad2907e67c3e9daecbeb            1\n",
       "\n",
       "[92938 rows x 1 columns]"
      ]
     },
     "execution_count": 19,
     "metadata": {},
     "output_type": "execute_result"
    }
   ],
   "source": [
    "# see the dataframe\n",
    "frequency_df"
   ]
  },
  {
   "cell_type": "code",
   "execution_count": 20,
   "id": "bc11c5ad",
   "metadata": {},
   "outputs": [],
   "source": [
    "# rename the customer id column \n",
    "frequency_df = frequency_df.rename(columns = {'customer_id' : 'frequency'})"
   ]
  },
  {
   "cell_type": "code",
   "execution_count": 21,
   "id": "b9b1c223",
   "metadata": {},
   "outputs": [
    {
     "data": {
      "text/html": [
       "<div>\n",
       "<style scoped>\n",
       "    .dataframe tbody tr th:only-of-type {\n",
       "        vertical-align: middle;\n",
       "    }\n",
       "\n",
       "    .dataframe tbody tr th {\n",
       "        vertical-align: top;\n",
       "    }\n",
       "\n",
       "    .dataframe thead th {\n",
       "        text-align: right;\n",
       "    }\n",
       "</style>\n",
       "<table border=\"1\" class=\"dataframe\">\n",
       "  <thead>\n",
       "    <tr style=\"text-align: right;\">\n",
       "      <th></th>\n",
       "      <th>frequency</th>\n",
       "    </tr>\n",
       "    <tr>\n",
       "      <th>customer_unique_id</th>\n",
       "      <th></th>\n",
       "    </tr>\n",
       "  </thead>\n",
       "  <tbody>\n",
       "    <tr>\n",
       "      <th>0000366f3b9a7992bf8c76cfdf3221e2</th>\n",
       "      <td>1</td>\n",
       "    </tr>\n",
       "    <tr>\n",
       "      <th>0000b849f77a49e4a4ce2b2a4ca5be3f</th>\n",
       "      <td>1</td>\n",
       "    </tr>\n",
       "    <tr>\n",
       "      <th>0000f46a3911fa3c0805444483337064</th>\n",
       "      <td>1</td>\n",
       "    </tr>\n",
       "    <tr>\n",
       "      <th>0000f6ccb0745a6a4b88665a16c9f078</th>\n",
       "      <td>1</td>\n",
       "    </tr>\n",
       "    <tr>\n",
       "      <th>0004aac84e0df4da2b147fca70cf8255</th>\n",
       "      <td>1</td>\n",
       "    </tr>\n",
       "    <tr>\n",
       "      <th>...</th>\n",
       "      <td>...</td>\n",
       "    </tr>\n",
       "    <tr>\n",
       "      <th>fffcf5a5ff07b0908bd4e2dbc735a684</th>\n",
       "      <td>2</td>\n",
       "    </tr>\n",
       "    <tr>\n",
       "      <th>fffea47cd6d3cc0a88bd621562a9d061</th>\n",
       "      <td>1</td>\n",
       "    </tr>\n",
       "    <tr>\n",
       "      <th>ffff371b4d645b6ecea244b27531430a</th>\n",
       "      <td>1</td>\n",
       "    </tr>\n",
       "    <tr>\n",
       "      <th>ffff5962728ec6157033ef9805bacc48</th>\n",
       "      <td>1</td>\n",
       "    </tr>\n",
       "    <tr>\n",
       "      <th>ffffd2657e2aad2907e67c3e9daecbeb</th>\n",
       "      <td>1</td>\n",
       "    </tr>\n",
       "  </tbody>\n",
       "</table>\n",
       "<p>92938 rows × 1 columns</p>\n",
       "</div>"
      ],
      "text/plain": [
       "                                  frequency\n",
       "customer_unique_id                         \n",
       "0000366f3b9a7992bf8c76cfdf3221e2          1\n",
       "0000b849f77a49e4a4ce2b2a4ca5be3f          1\n",
       "0000f46a3911fa3c0805444483337064          1\n",
       "0000f6ccb0745a6a4b88665a16c9f078          1\n",
       "0004aac84e0df4da2b147fca70cf8255          1\n",
       "...                                     ...\n",
       "fffcf5a5ff07b0908bd4e2dbc735a684          2\n",
       "fffea47cd6d3cc0a88bd621562a9d061          1\n",
       "ffff371b4d645b6ecea244b27531430a          1\n",
       "ffff5962728ec6157033ef9805bacc48          1\n",
       "ffffd2657e2aad2907e67c3e9daecbeb          1\n",
       "\n",
       "[92938 rows x 1 columns]"
      ]
     },
     "execution_count": 21,
     "metadata": {},
     "output_type": "execute_result"
    }
   ],
   "source": [
    "# sanity check\n",
    "frequency_df"
   ]
  },
  {
   "cell_type": "code",
   "execution_count": 22,
   "id": "f3b78fa4",
   "metadata": {},
   "outputs": [
    {
     "data": {
      "text/plain": [
       "frequency    27\n",
       "dtype: int64"
      ]
     },
     "execution_count": 22,
     "metadata": {},
     "output_type": "execute_result"
    }
   ],
   "source": [
    "# see frequency unique number \n",
    "frequency_df.nunique()"
   ]
  },
  {
   "cell_type": "markdown",
   "id": "d70864d0",
   "metadata": {},
   "source": [
    "### Monetary\n",
    "\n",
    "How much did each customer spend on order purchase at Olist? The monetary value will give us the total money each customer spent at Olist. We will use the `payment_value` to calculate the monetary value of each customer."
   ]
  },
  {
   "cell_type": "code",
   "execution_count": 23,
   "id": "a6acdd31",
   "metadata": {},
   "outputs": [],
   "source": [
    "# create a dataframe with customer payment value\n",
    "Monetary_df = df.groupby('customer_unique_id', as_index = False)['payment_value'].sum()"
   ]
  },
  {
   "cell_type": "code",
   "execution_count": 24,
   "id": "fc75f465",
   "metadata": {},
   "outputs": [],
   "source": [
    "# rename to monetary\n",
    "Monetary_df.columns = ['customer_unique_id', 'monetary']"
   ]
  },
  {
   "cell_type": "code",
   "execution_count": 25,
   "id": "ee064c67",
   "metadata": {},
   "outputs": [
    {
     "data": {
      "text/html": [
       "<div>\n",
       "<style scoped>\n",
       "    .dataframe tbody tr th:only-of-type {\n",
       "        vertical-align: middle;\n",
       "    }\n",
       "\n",
       "    .dataframe tbody tr th {\n",
       "        vertical-align: top;\n",
       "    }\n",
       "\n",
       "    .dataframe thead th {\n",
       "        text-align: right;\n",
       "    }\n",
       "</style>\n",
       "<table border=\"1\" class=\"dataframe\">\n",
       "  <thead>\n",
       "    <tr style=\"text-align: right;\">\n",
       "      <th></th>\n",
       "      <th>customer_unique_id</th>\n",
       "      <th>monetary</th>\n",
       "    </tr>\n",
       "  </thead>\n",
       "  <tbody>\n",
       "    <tr>\n",
       "      <th>0</th>\n",
       "      <td>0000366f3b9a7992bf8c76cfdf3221e2</td>\n",
       "      <td>141.90</td>\n",
       "    </tr>\n",
       "    <tr>\n",
       "      <th>1</th>\n",
       "      <td>0000b849f77a49e4a4ce2b2a4ca5be3f</td>\n",
       "      <td>27.19</td>\n",
       "    </tr>\n",
       "    <tr>\n",
       "      <th>2</th>\n",
       "      <td>0000f46a3911fa3c0805444483337064</td>\n",
       "      <td>86.22</td>\n",
       "    </tr>\n",
       "    <tr>\n",
       "      <th>3</th>\n",
       "      <td>0000f6ccb0745a6a4b88665a16c9f078</td>\n",
       "      <td>43.62</td>\n",
       "    </tr>\n",
       "    <tr>\n",
       "      <th>4</th>\n",
       "      <td>0004aac84e0df4da2b147fca70cf8255</td>\n",
       "      <td>196.89</td>\n",
       "    </tr>\n",
       "    <tr>\n",
       "      <th>...</th>\n",
       "      <td>...</td>\n",
       "      <td>...</td>\n",
       "    </tr>\n",
       "    <tr>\n",
       "      <th>92933</th>\n",
       "      <td>fffcf5a5ff07b0908bd4e2dbc735a684</td>\n",
       "      <td>4134.84</td>\n",
       "    </tr>\n",
       "    <tr>\n",
       "      <th>92934</th>\n",
       "      <td>fffea47cd6d3cc0a88bd621562a9d061</td>\n",
       "      <td>84.58</td>\n",
       "    </tr>\n",
       "    <tr>\n",
       "      <th>92935</th>\n",
       "      <td>ffff371b4d645b6ecea244b27531430a</td>\n",
       "      <td>112.46</td>\n",
       "    </tr>\n",
       "    <tr>\n",
       "      <th>92936</th>\n",
       "      <td>ffff5962728ec6157033ef9805bacc48</td>\n",
       "      <td>133.69</td>\n",
       "    </tr>\n",
       "    <tr>\n",
       "      <th>92937</th>\n",
       "      <td>ffffd2657e2aad2907e67c3e9daecbeb</td>\n",
       "      <td>71.56</td>\n",
       "    </tr>\n",
       "  </tbody>\n",
       "</table>\n",
       "<p>92938 rows × 2 columns</p>\n",
       "</div>"
      ],
      "text/plain": [
       "                     customer_unique_id  monetary\n",
       "0      0000366f3b9a7992bf8c76cfdf3221e2    141.90\n",
       "1      0000b849f77a49e4a4ce2b2a4ca5be3f     27.19\n",
       "2      0000f46a3911fa3c0805444483337064     86.22\n",
       "3      0000f6ccb0745a6a4b88665a16c9f078     43.62\n",
       "4      0004aac84e0df4da2b147fca70cf8255    196.89\n",
       "...                                 ...       ...\n",
       "92933  fffcf5a5ff07b0908bd4e2dbc735a684   4134.84\n",
       "92934  fffea47cd6d3cc0a88bd621562a9d061     84.58\n",
       "92935  ffff371b4d645b6ecea244b27531430a    112.46\n",
       "92936  ffff5962728ec6157033ef9805bacc48    133.69\n",
       "92937  ffffd2657e2aad2907e67c3e9daecbeb     71.56\n",
       "\n",
       "[92938 rows x 2 columns]"
      ]
     },
     "execution_count": 25,
     "metadata": {},
     "output_type": "execute_result"
    }
   ],
   "source": [
    "# see the dataframe\n",
    "Monetary_df"
   ]
  },
  {
   "cell_type": "markdown",
   "id": "b4e83e1c",
   "metadata": {},
   "source": [
    "Let us merge the three dataframes together as RFM."
   ]
  },
  {
   "cell_type": "code",
   "execution_count": 26,
   "id": "d111db17",
   "metadata": {},
   "outputs": [],
   "source": [
    "# create RFM dataframe\n",
    "rfm_df = frequency_df.merge(recency_df, on = 'customer_unique_id', \\\n",
    "                              how = 'left').merge(Monetary_df,on = 'customer_unique_id', \\\n",
    "                                                                      how = 'left')\n"
   ]
  },
  {
   "cell_type": "code",
   "execution_count": 27,
   "id": "e872bafb",
   "metadata": {},
   "outputs": [],
   "source": [
    "rfm_df = rfm_df[['customer_unique_id', 'frequency', 'recency', 'monetary']]"
   ]
  },
  {
   "cell_type": "code",
   "execution_count": 28,
   "id": "fed7245c",
   "metadata": {},
   "outputs": [
    {
     "data": {
      "text/html": [
       "<div>\n",
       "<style scoped>\n",
       "    .dataframe tbody tr th:only-of-type {\n",
       "        vertical-align: middle;\n",
       "    }\n",
       "\n",
       "    .dataframe tbody tr th {\n",
       "        vertical-align: top;\n",
       "    }\n",
       "\n",
       "    .dataframe thead th {\n",
       "        text-align: right;\n",
       "    }\n",
       "</style>\n",
       "<table border=\"1\" class=\"dataframe\">\n",
       "  <thead>\n",
       "    <tr style=\"text-align: right;\">\n",
       "      <th></th>\n",
       "      <th>customer_unique_id</th>\n",
       "      <th>frequency</th>\n",
       "      <th>recency</th>\n",
       "      <th>monetary</th>\n",
       "    </tr>\n",
       "  </thead>\n",
       "  <tbody>\n",
       "    <tr>\n",
       "      <th>0</th>\n",
       "      <td>0000366f3b9a7992bf8c76cfdf3221e2</td>\n",
       "      <td>1</td>\n",
       "      <td>116</td>\n",
       "      <td>141.90</td>\n",
       "    </tr>\n",
       "    <tr>\n",
       "      <th>1</th>\n",
       "      <td>0000b849f77a49e4a4ce2b2a4ca5be3f</td>\n",
       "      <td>1</td>\n",
       "      <td>118</td>\n",
       "      <td>27.19</td>\n",
       "    </tr>\n",
       "    <tr>\n",
       "      <th>2</th>\n",
       "      <td>0000f46a3911fa3c0805444483337064</td>\n",
       "      <td>1</td>\n",
       "      <td>541</td>\n",
       "      <td>86.22</td>\n",
       "    </tr>\n",
       "    <tr>\n",
       "      <th>3</th>\n",
       "      <td>0000f6ccb0745a6a4b88665a16c9f078</td>\n",
       "      <td>1</td>\n",
       "      <td>325</td>\n",
       "      <td>43.62</td>\n",
       "    </tr>\n",
       "    <tr>\n",
       "      <th>4</th>\n",
       "      <td>0004aac84e0df4da2b147fca70cf8255</td>\n",
       "      <td>1</td>\n",
       "      <td>292</td>\n",
       "      <td>196.89</td>\n",
       "    </tr>\n",
       "    <tr>\n",
       "      <th>...</th>\n",
       "      <td>...</td>\n",
       "      <td>...</td>\n",
       "      <td>...</td>\n",
       "      <td>...</td>\n",
       "    </tr>\n",
       "    <tr>\n",
       "      <th>92933</th>\n",
       "      <td>fffcf5a5ff07b0908bd4e2dbc735a684</td>\n",
       "      <td>2</td>\n",
       "      <td>451</td>\n",
       "      <td>4134.84</td>\n",
       "    </tr>\n",
       "    <tr>\n",
       "      <th>92934</th>\n",
       "      <td>fffea47cd6d3cc0a88bd621562a9d061</td>\n",
       "      <td>1</td>\n",
       "      <td>266</td>\n",
       "      <td>84.58</td>\n",
       "    </tr>\n",
       "    <tr>\n",
       "      <th>92935</th>\n",
       "      <td>ffff371b4d645b6ecea244b27531430a</td>\n",
       "      <td>1</td>\n",
       "      <td>573</td>\n",
       "      <td>112.46</td>\n",
       "    </tr>\n",
       "    <tr>\n",
       "      <th>92936</th>\n",
       "      <td>ffff5962728ec6157033ef9805bacc48</td>\n",
       "      <td>1</td>\n",
       "      <td>124</td>\n",
       "      <td>133.69</td>\n",
       "    </tr>\n",
       "    <tr>\n",
       "      <th>92937</th>\n",
       "      <td>ffffd2657e2aad2907e67c3e9daecbeb</td>\n",
       "      <td>1</td>\n",
       "      <td>488</td>\n",
       "      <td>71.56</td>\n",
       "    </tr>\n",
       "  </tbody>\n",
       "</table>\n",
       "<p>92938 rows × 4 columns</p>\n",
       "</div>"
      ],
      "text/plain": [
       "                     customer_unique_id  frequency  recency  monetary\n",
       "0      0000366f3b9a7992bf8c76cfdf3221e2          1      116    141.90\n",
       "1      0000b849f77a49e4a4ce2b2a4ca5be3f          1      118     27.19\n",
       "2      0000f46a3911fa3c0805444483337064          1      541     86.22\n",
       "3      0000f6ccb0745a6a4b88665a16c9f078          1      325     43.62\n",
       "4      0004aac84e0df4da2b147fca70cf8255          1      292    196.89\n",
       "...                                 ...        ...      ...       ...\n",
       "92933  fffcf5a5ff07b0908bd4e2dbc735a684          2      451   4134.84\n",
       "92934  fffea47cd6d3cc0a88bd621562a9d061          1      266     84.58\n",
       "92935  ffff371b4d645b6ecea244b27531430a          1      573    112.46\n",
       "92936  ffff5962728ec6157033ef9805bacc48          1      124    133.69\n",
       "92937  ffffd2657e2aad2907e67c3e9daecbeb          1      488     71.56\n",
       "\n",
       "[92938 rows x 4 columns]"
      ]
     },
     "execution_count": 28,
     "metadata": {},
     "output_type": "execute_result"
    }
   ],
   "source": [
    "# see the dataframe\n",
    "rfm_df"
   ]
  },
  {
   "cell_type": "code",
   "execution_count": 29,
   "id": "da64448a",
   "metadata": {},
   "outputs": [
    {
     "data": {
      "text/plain": [
       "(92938, 4)"
      ]
     },
     "execution_count": 29,
     "metadata": {},
     "output_type": "execute_result"
    }
   ],
   "source": [
    "#see the shape\n",
    "rfm_df.shape"
   ]
  },
  {
   "cell_type": "markdown",
   "id": "2518b336",
   "metadata": {},
   "source": [
    "We will need the dataframe in notebook #5, let us now save it as csv file."
   ]
  },
  {
   "cell_type": "code",
   "execution_count": 30,
   "id": "421fa0a8",
   "metadata": {},
   "outputs": [],
   "source": [
    "#save rfm dataframe\n",
    "rfm_df.to_csv('rfm_df.csv', index = False)"
   ]
  },
  {
   "cell_type": "markdown",
   "id": "790ff854",
   "metadata": {},
   "source": [
    "### Other Features\n",
    "\n",
    "Let us create more features that will be inportant in data exploratory"
   ]
  },
  {
   "cell_type": "code",
   "execution_count": 31,
   "id": "f6364b05",
   "metadata": {
    "scrolled": true
   },
   "outputs": [
    {
     "data": {
      "text/plain": [
       "customer_id                              object\n",
       "customer_unique_id                       object\n",
       "customer_zip_code_prefix                  int64\n",
       "customer_city                            object\n",
       "customer_state                           object\n",
       "customer_latitude                       float64\n",
       "customer_longitude                      float64\n",
       "order_id                                 object\n",
       "order_status                             object\n",
       "order_purchase_timestamp         datetime64[ns]\n",
       "order_approved_at                datetime64[ns]\n",
       "order_delivered_carrier_date     datetime64[ns]\n",
       "order_delivered_customer_date    datetime64[ns]\n",
       "order_estimated_delivery_date    datetime64[ns]\n",
       "payment_sequential                      float64\n",
       "payment_type                             object\n",
       "payment_installments                    float64\n",
       "payment_value                           float64\n",
       "order_item_id                           float64\n",
       "product_id                               object\n",
       "seller_id                                object\n",
       "shipping_limit_date              datetime64[ns]\n",
       "price                                   float64\n",
       "freight_value                           float64\n",
       "review_id                                object\n",
       "review_score                            float64\n",
       "review_creation_date             datetime64[ns]\n",
       "review_answer_timestamp          datetime64[ns]\n",
       "product_category_name                    object\n",
       "product_name_length                     float64\n",
       "product_description_length              float64\n",
       "product_photos_qty                      float64\n",
       "product_weight_g                        float64\n",
       "product_length_cm                       float64\n",
       "product_height_cm                       float64\n",
       "product_width_cm                        float64\n",
       "product_category_name_english            object\n",
       "seller_zip_code_prefix                  float64\n",
       "seller_city                              object\n",
       "seller_state                             object\n",
       "seller_latitude                         float64\n",
       "seller_longitude                        float64\n",
       "dtype: object"
      ]
     },
     "execution_count": 31,
     "metadata": {},
     "output_type": "execute_result"
    }
   ],
   "source": [
    "# check datatypes\n",
    "df.dtypes"
   ]
  },
  {
   "cell_type": "markdown",
   "id": "775b4ec8",
   "metadata": {},
   "source": [
    "We have all time stamp as datetime which is good. Can we generate features that will give us more insight on the delivery times? These are:\n",
    "\n",
    "1. **customer delivery time** - The time the order was received by customer\n",
    "2. **estimated delivery time** - The time given by Olist for expected delivery\n",
    "3. **carrier delivery date** - The time the delivery courier is expected to deliver\n",
    "4. **delivery_time_diff** - The difference in estimated delivery to when the the order was actually delivered\n",
    "5. **carrier_date_diff** - The difference in courier delivery to when the the order was actually delivered\n"
   ]
  },
  {
   "cell_type": "code",
   "execution_count": 32,
   "id": "49b7b64c",
   "metadata": {},
   "outputs": [],
   "source": [
    "df['customer_delivery_time'] = df['order_delivered_customer_date'] - df['order_purchase_timestamp']\n",
    "df['estimated_delivery_time'] = df['order_estimated_delivery_date'] - df['order_purchase_timestamp'] \n",
    "df['carrier_delivery_date']= df['order_delivered_carrier_date'] - df['order_purchase_timestamp']\n",
    "df['delivery_time_diff'] = df['order_estimated_delivery_date'] - df ['order_delivered_customer_date']\n",
    "df['carrier_date_diff'] = df['customer_delivery_time'] - df ['carrier_delivery_date']\n"
   ]
  },
  {
   "cell_type": "markdown",
   "id": "3a7b1bf4",
   "metadata": {},
   "source": [
    "Next, let us define the total price, cost and freight cost for customers"
   ]
  },
  {
   "cell_type": "code",
   "execution_count": 33,
   "id": "0df62f22",
   "metadata": {},
   "outputs": [],
   "source": [
    "# create df for each total items customer purchase\n",
    "total_item_per_customer = df[['order_id', 'order_item_id']].groupby('order_id').max().reset_index()\n",
    "total_item_per_customer.rename (columns = {'order_item_id': 'total_item_per_customer'}, inplace = True)\n",
    "df = df.merge(total_item_per_customer, on = 'order_id')"
   ]
  },
  {
   "cell_type": "code",
   "execution_count": 34,
   "id": "b2b6ef07",
   "metadata": {},
   "outputs": [],
   "source": [
    "# define price, frieght total cost \n",
    "df['total_customer_price'] = df['total_item_per_customer']* df['price']\n",
    "df['total_frieght_price'] = df['freight_value']*df['total_item_per_customer']\n",
    "df['total_customer_cost'] = df['total_customer_price'] + df['total_frieght_price']"
   ]
  },
  {
   "cell_type": "code",
   "execution_count": 35,
   "id": "4260ba5f",
   "metadata": {},
   "outputs": [
    {
     "data": {
      "text/plain": [
       "(115036, 51)"
      ]
     },
     "execution_count": 35,
     "metadata": {},
     "output_type": "execute_result"
    }
   ],
   "source": [
    "# sanity check\n",
    "df.shape"
   ]
  },
  {
   "cell_type": "markdown",
   "id": "09b4dcdc",
   "metadata": {},
   "source": [
    "Now that we have features defined, let us merge the `RFM` dataframe with our dataframe"
   ]
  },
  {
   "cell_type": "code",
   "execution_count": 36,
   "id": "8698a811",
   "metadata": {},
   "outputs": [],
   "source": [
    "# merge the dataframes\n",
    "cleaned_df_final = df.merge(rfm_df, on = 'customer_unique_id', how = 'left')"
   ]
  },
  {
   "cell_type": "code",
   "execution_count": 37,
   "id": "38df7997",
   "metadata": {},
   "outputs": [
    {
     "name": "stdout",
     "output_type": "stream",
     "text": [
      "<class 'pandas.core.frame.DataFrame'>\n",
      "Int64Index: 115036 entries, 0 to 115035\n",
      "Data columns (total 54 columns):\n",
      " #   Column                         Non-Null Count   Dtype          \n",
      "---  ------                         --------------   -----          \n",
      " 0   customer_id                    115036 non-null  object         \n",
      " 1   customer_unique_id             115036 non-null  object         \n",
      " 2   customer_zip_code_prefix       115036 non-null  int64          \n",
      " 3   customer_city                  115036 non-null  object         \n",
      " 4   customer_state                 115036 non-null  object         \n",
      " 5   customer_latitude              115036 non-null  float64        \n",
      " 6   customer_longitude             115036 non-null  float64        \n",
      " 7   order_id                       115036 non-null  object         \n",
      " 8   order_status                   115036 non-null  object         \n",
      " 9   order_purchase_timestamp       115036 non-null  datetime64[ns] \n",
      " 10  order_approved_at              115036 non-null  datetime64[ns] \n",
      " 11  order_delivered_carrier_date   115036 non-null  datetime64[ns] \n",
      " 12  order_delivered_customer_date  115036 non-null  datetime64[ns] \n",
      " 13  order_estimated_delivery_date  115036 non-null  datetime64[ns] \n",
      " 14  payment_sequential             115036 non-null  float64        \n",
      " 15  payment_type                   115036 non-null  object         \n",
      " 16  payment_installments           115036 non-null  float64        \n",
      " 17  payment_value                  115036 non-null  float64        \n",
      " 18  order_item_id                  115036 non-null  float64        \n",
      " 19  product_id                     115036 non-null  object         \n",
      " 20  seller_id                      115036 non-null  object         \n",
      " 21  shipping_limit_date            115036 non-null  datetime64[ns] \n",
      " 22  price                          115036 non-null  float64        \n",
      " 23  freight_value                  115036 non-null  float64        \n",
      " 24  review_id                      115036 non-null  object         \n",
      " 25  review_score                   115036 non-null  float64        \n",
      " 26  review_creation_date           115036 non-null  datetime64[ns] \n",
      " 27  review_answer_timestamp        115036 non-null  datetime64[ns] \n",
      " 28  product_category_name          115036 non-null  object         \n",
      " 29  product_name_length            115036 non-null  float64        \n",
      " 30  product_description_length     115036 non-null  float64        \n",
      " 31  product_photos_qty             115036 non-null  float64        \n",
      " 32  product_weight_g               115036 non-null  float64        \n",
      " 33  product_length_cm              115036 non-null  float64        \n",
      " 34  product_height_cm              115036 non-null  float64        \n",
      " 35  product_width_cm               115036 non-null  float64        \n",
      " 36  product_category_name_english  115036 non-null  object         \n",
      " 37  seller_zip_code_prefix         115036 non-null  float64        \n",
      " 38  seller_city                    115036 non-null  object         \n",
      " 39  seller_state                   115036 non-null  object         \n",
      " 40  seller_latitude                115036 non-null  float64        \n",
      " 41  seller_longitude               115036 non-null  float64        \n",
      " 42  customer_delivery_time         115036 non-null  timedelta64[ns]\n",
      " 43  estimated_delivery_time        115036 non-null  timedelta64[ns]\n",
      " 44  carrier_delivery_date          115036 non-null  timedelta64[ns]\n",
      " 45  delivery_time_diff             115036 non-null  timedelta64[ns]\n",
      " 46  carrier_date_diff              115036 non-null  timedelta64[ns]\n",
      " 47  total_item_per_customer        115036 non-null  float64        \n",
      " 48  total_customer_price           115036 non-null  float64        \n",
      " 49  total_frieght_price            115036 non-null  float64        \n",
      " 50  total_customer_cost            115036 non-null  float64        \n",
      " 51  frequency                      115036 non-null  int64          \n",
      " 52  recency                        115036 non-null  int64          \n",
      " 53  monetary                       115036 non-null  float64        \n",
      "dtypes: datetime64[ns](8), float64(24), int64(3), object(14), timedelta64[ns](5)\n",
      "memory usage: 48.3+ MB\n"
     ]
    }
   ],
   "source": [
    "# sanity check\n",
    "cleaned_df_final.info()"
   ]
  },
  {
   "cell_type": "markdown",
   "id": "c70347de",
   "metadata": {},
   "source": [
    "Let us convert all `timedelta64` to interger."
   ]
  },
  {
   "cell_type": "code",
   "execution_count": 38,
   "id": "b6337269",
   "metadata": {},
   "outputs": [],
   "source": [
    "cleaned_df_final['customer_delivery_time'] = cleaned_df_final['customer_delivery_time'].astype('timedelta64[D]').astype(int)"
   ]
  },
  {
   "cell_type": "code",
   "execution_count": 39,
   "id": "a8d969a0",
   "metadata": {},
   "outputs": [],
   "source": [
    "cleaned_df_final['estimated_delivery_time'] = cleaned_df_final['estimated_delivery_time'].astype('timedelta64[D]').astype(int)"
   ]
  },
  {
   "cell_type": "code",
   "execution_count": 40,
   "id": "f968683f",
   "metadata": {},
   "outputs": [],
   "source": [
    "cleaned_df_final['carrier_delivery_date'] = cleaned_df_final['carrier_delivery_date'].astype('timedelta64[D]').astype(int)"
   ]
  },
  {
   "cell_type": "code",
   "execution_count": 41,
   "id": "0972a314",
   "metadata": {},
   "outputs": [],
   "source": [
    "cleaned_df_final['delivery_time_diff'] = cleaned_df_final['delivery_time_diff'].astype('timedelta64[D]').astype(int)"
   ]
  },
  {
   "cell_type": "code",
   "execution_count": 42,
   "id": "96a62352",
   "metadata": {},
   "outputs": [],
   "source": [
    "cleaned_df_final['carrier_date_diff'] = cleaned_df_final['carrier_date_diff'].astype('timedelta64[D]').astype(int)"
   ]
  },
  {
   "cell_type": "code",
   "execution_count": 43,
   "id": "a9289a11",
   "metadata": {},
   "outputs": [
    {
     "data": {
      "text/plain": [
       "customer_id                              object\n",
       "customer_unique_id                       object\n",
       "customer_zip_code_prefix                  int64\n",
       "customer_city                            object\n",
       "customer_state                           object\n",
       "customer_latitude                       float64\n",
       "customer_longitude                      float64\n",
       "order_id                                 object\n",
       "order_status                             object\n",
       "order_purchase_timestamp         datetime64[ns]\n",
       "order_approved_at                datetime64[ns]\n",
       "order_delivered_carrier_date     datetime64[ns]\n",
       "order_delivered_customer_date    datetime64[ns]\n",
       "order_estimated_delivery_date    datetime64[ns]\n",
       "payment_sequential                      float64\n",
       "payment_type                             object\n",
       "payment_installments                    float64\n",
       "payment_value                           float64\n",
       "order_item_id                           float64\n",
       "product_id                               object\n",
       "seller_id                                object\n",
       "shipping_limit_date              datetime64[ns]\n",
       "price                                   float64\n",
       "freight_value                           float64\n",
       "review_id                                object\n",
       "review_score                            float64\n",
       "review_creation_date             datetime64[ns]\n",
       "review_answer_timestamp          datetime64[ns]\n",
       "product_category_name                    object\n",
       "product_name_length                     float64\n",
       "product_description_length              float64\n",
       "product_photos_qty                      float64\n",
       "product_weight_g                        float64\n",
       "product_length_cm                       float64\n",
       "product_height_cm                       float64\n",
       "product_width_cm                        float64\n",
       "product_category_name_english            object\n",
       "seller_zip_code_prefix                  float64\n",
       "seller_city                              object\n",
       "seller_state                             object\n",
       "seller_latitude                         float64\n",
       "seller_longitude                        float64\n",
       "customer_delivery_time                    int64\n",
       "estimated_delivery_time                   int64\n",
       "carrier_delivery_date                     int64\n",
       "delivery_time_diff                        int64\n",
       "carrier_date_diff                         int64\n",
       "total_item_per_customer                 float64\n",
       "total_customer_price                    float64\n",
       "total_frieght_price                     float64\n",
       "total_customer_cost                     float64\n",
       "frequency                                 int64\n",
       "recency                                   int64\n",
       "monetary                                float64\n",
       "dtype: object"
      ]
     },
     "execution_count": 43,
     "metadata": {},
     "output_type": "execute_result"
    }
   ],
   "source": [
    "# sanity check\n",
    "cleaned_df_final.dtypes"
   ]
  },
  {
   "cell_type": "code",
   "execution_count": 44,
   "id": "91efe8f2",
   "metadata": {},
   "outputs": [
    {
     "data": {
      "text/plain": [
       "(115036, 54)"
      ]
     },
     "execution_count": 44,
     "metadata": {},
     "output_type": "execute_result"
    }
   ],
   "source": [
    "# see the shape\n",
    "cleaned_df_final.shape"
   ]
  },
  {
   "cell_type": "markdown",
   "id": "1f01040f",
   "metadata": {},
   "source": [
    "### Churn Profiling\n",
    "\n",
    "Let us define our hypothesis for profiling 'likely churn' customers. We will use the recency column to define churn. This is because in reality, loyal customers often visit or interact with an industry on a regular basis. If a customer has been seen for a certain/defined period, it is most likely such customer is no more interested in the industry services or products. \n",
    "\n",
    "Let us check the median and interquartile ranges of `recency` "
   ]
  },
  {
   "cell_type": "code",
   "execution_count": 45,
   "id": "c5b331bc",
   "metadata": {},
   "outputs": [
    {
     "name": "stderr",
     "output_type": "stream",
     "text": [
      "/Users/dolphin/opt/anaconda3/lib/python3.9/site-packages/seaborn/_decorators.py:36: FutureWarning: Pass the following variable as a keyword arg: x. From version 0.12, the only valid positional argument will be `data`, and passing other arguments without an explicit keyword will result in an error or misinterpretation.\n",
      "  warnings.warn(\n"
     ]
    },
    {
     "data": {
      "image/png": "[encoded data removed]",
      "text/plain": [
       "<Figure size 432x288 with 1 Axes>"
      ]
     },
     "metadata": {
      "needs_background": "light"
     },
     "output_type": "display_data"
    }
   ],
   "source": [
    "sns.boxplot(cleaned_df_final['recency'])\n",
    "plt.show()"
   ]
  },
  {
   "cell_type": "markdown",
   "id": "243cd5e7",
   "metadata": {},
   "source": [
    "The median is a little above 200 days. Moreover, we can see that olist customers recency ranges from 100 to approximately 350 days. Let us check the quantiles range."
   ]
  },
  {
   "cell_type": "code",
   "execution_count": 46,
   "id": "281bd492",
   "metadata": {},
   "outputs": [
    {
     "data": {
      "text/plain": [
       "{0.25: 118.0, 0.5: 223.0, 0.75: 352.0}"
      ]
     },
     "execution_count": 46,
     "metadata": {},
     "output_type": "execute_result"
    }
   ],
   "source": [
    "quantiles = cleaned_df_final['recency'].quantile(q=[0.25,0.5,0.75])\n",
    "quantiles.to_dict()"
   ]
  },
  {
   "cell_type": "markdown",
   "id": "be25b5e7",
   "metadata": {},
   "source": [
    "Here, **25% falls to 118 days**, **50% to 223 days** and **75% to 352 days**. We can assume that customers that did not interact with Olist after 75% quantile may likely to have churn. Since 352 days is approximately one year, we will profile churn with `365 days`. Therefore, customers that have recency of **greater than 365 will be referred to as churn**.\n",
    "\n",
    "1. **Customers with >365 = 0 - Churn**\n",
    "2. **Customers with < 365 = 1 - Not churn**"
   ]
  },
  {
   "cell_type": "code",
   "execution_count": 47,
   "id": "8d7f5384",
   "metadata": {},
   "outputs": [],
   "source": [
    "# create the churn column\n",
    "\n",
    "cleaned_df_final['churn'] = np.where(cleaned_df_final['recency']>365, 0, 1)\n"
   ]
  },
  {
   "cell_type": "code",
   "execution_count": 48,
   "id": "d46a0001",
   "metadata": {},
   "outputs": [
    {
     "data": {
      "text/html": [
       "<div>\n",
       "<style scoped>\n",
       "    .dataframe tbody tr th:only-of-type {\n",
       "        vertical-align: middle;\n",
       "    }\n",
       "\n",
       "    .dataframe tbody tr th {\n",
       "        vertical-align: top;\n",
       "    }\n",
       "\n",
       "    .dataframe thead th {\n",
       "        text-align: right;\n",
       "    }\n",
       "</style>\n",
       "<table border=\"1\" class=\"dataframe\">\n",
       "  <thead>\n",
       "    <tr style=\"text-align: right;\">\n",
       "      <th></th>\n",
       "      <th>customer_id</th>\n",
       "      <th>customer_unique_id</th>\n",
       "      <th>customer_zip_code_prefix</th>\n",
       "      <th>customer_city</th>\n",
       "      <th>customer_state</th>\n",
       "      <th>customer_latitude</th>\n",
       "      <th>customer_longitude</th>\n",
       "      <th>order_id</th>\n",
       "      <th>order_status</th>\n",
       "      <th>order_purchase_timestamp</th>\n",
       "      <th>...</th>\n",
       "      <th>delivery_time_diff</th>\n",
       "      <th>carrier_date_diff</th>\n",
       "      <th>total_item_per_customer</th>\n",
       "      <th>total_customer_price</th>\n",
       "      <th>total_frieght_price</th>\n",
       "      <th>total_customer_cost</th>\n",
       "      <th>frequency</th>\n",
       "      <th>recency</th>\n",
       "      <th>monetary</th>\n",
       "      <th>churn</th>\n",
       "    </tr>\n",
       "  </thead>\n",
       "  <tbody>\n",
       "    <tr>\n",
       "      <th>0</th>\n",
       "      <td>06b8999e2fba1a1fbc88172c00ba8bc7</td>\n",
       "      <td>861eff4711a542e4b93843c6dd7febb0</td>\n",
       "      <td>14409</td>\n",
       "      <td>franca</td>\n",
       "      <td>SP</td>\n",
       "      <td>-20.509898</td>\n",
       "      <td>-47.397866</td>\n",
       "      <td>00e7ee1b050b8499577073aeb2a297a1</td>\n",
       "      <td>delivered</td>\n",
       "      <td>2017-05-16 15:05:35</td>\n",
       "      <td>...</td>\n",
       "      <td>10</td>\n",
       "      <td>1</td>\n",
       "      <td>1.0</td>\n",
       "      <td>124.99</td>\n",
       "      <td>21.88</td>\n",
       "      <td>146.87</td>\n",
       "      <td>1</td>\n",
       "      <td>475</td>\n",
       "      <td>146.87</td>\n",
       "      <td>0</td>\n",
       "    </tr>\n",
       "    <tr>\n",
       "      <th>1</th>\n",
       "      <td>5dca924cc99eea2dc5ba40d11ec5dd0f</td>\n",
       "      <td>2761fee7f378f0a8d7682d8a3fa07ab1</td>\n",
       "      <td>14409</td>\n",
       "      <td>franca</td>\n",
       "      <td>SP</td>\n",
       "      <td>-20.509898</td>\n",
       "      <td>-47.397866</td>\n",
       "      <td>95261f608a64bbbe760a212b4d48a4ee</td>\n",
       "      <td>delivered</td>\n",
       "      <td>2018-06-15 20:07:13</td>\n",
       "      <td>...</td>\n",
       "      <td>13</td>\n",
       "      <td>2</td>\n",
       "      <td>1.0</td>\n",
       "      <td>79.90</td>\n",
       "      <td>14.87</td>\n",
       "      <td>94.77</td>\n",
       "      <td>1</td>\n",
       "      <td>79</td>\n",
       "      <td>94.77</td>\n",
       "      <td>1</td>\n",
       "    </tr>\n",
       "    <tr>\n",
       "      <th>2</th>\n",
       "      <td>661897d4968f1b59bfff74c7eb2eb4fc</td>\n",
       "      <td>d06a495406b79cb8203ea21cc0942f8c</td>\n",
       "      <td>14409</td>\n",
       "      <td>franca</td>\n",
       "      <td>SP</td>\n",
       "      <td>-20.509898</td>\n",
       "      <td>-47.397866</td>\n",
       "      <td>9444fa2ab50a3f5af63b48be297eda24</td>\n",
       "      <td>delivered</td>\n",
       "      <td>2017-09-09 15:40:00</td>\n",
       "      <td>...</td>\n",
       "      <td>13</td>\n",
       "      <td>7</td>\n",
       "      <td>1.0</td>\n",
       "      <td>44.90</td>\n",
       "      <td>17.60</td>\n",
       "      <td>62.50</td>\n",
       "      <td>1</td>\n",
       "      <td>359</td>\n",
       "      <td>62.50</td>\n",
       "      <td>1</td>\n",
       "    </tr>\n",
       "    <tr>\n",
       "      <th>3</th>\n",
       "      <td>702b62324327ccba20f1be3465426437</td>\n",
       "      <td>8b3d988f330c1d1c3332ccd440c147b7</td>\n",
       "      <td>14409</td>\n",
       "      <td>franca</td>\n",
       "      <td>SP</td>\n",
       "      <td>-20.509898</td>\n",
       "      <td>-47.397866</td>\n",
       "      <td>dceb8e88274c6f42a88a76ed979eb817</td>\n",
       "      <td>delivered</td>\n",
       "      <td>2018-03-26 12:04:55</td>\n",
       "      <td>...</td>\n",
       "      <td>14</td>\n",
       "      <td>1</td>\n",
       "      <td>1.0</td>\n",
       "      <td>19.90</td>\n",
       "      <td>12.79</td>\n",
       "      <td>32.69</td>\n",
       "      <td>1</td>\n",
       "      <td>161</td>\n",
       "      <td>32.69</td>\n",
       "      <td>1</td>\n",
       "    </tr>\n",
       "    <tr>\n",
       "      <th>4</th>\n",
       "      <td>bdf997bae7ca819b0415f5174d6b4302</td>\n",
       "      <td>866755e25db620f8d7e81b351a15bb2f</td>\n",
       "      <td>14409</td>\n",
       "      <td>franca</td>\n",
       "      <td>SP</td>\n",
       "      <td>-20.509898</td>\n",
       "      <td>-47.397866</td>\n",
       "      <td>6ee1cea1b2edcc713f83ebfbccbc57f9</td>\n",
       "      <td>delivered</td>\n",
       "      <td>2018-07-29 20:39:20</td>\n",
       "      <td>...</td>\n",
       "      <td>5</td>\n",
       "      <td>3</td>\n",
       "      <td>1.0</td>\n",
       "      <td>63.90</td>\n",
       "      <td>13.11</td>\n",
       "      <td>77.01</td>\n",
       "      <td>1</td>\n",
       "      <td>35</td>\n",
       "      <td>77.01</td>\n",
       "      <td>1</td>\n",
       "    </tr>\n",
       "    <tr>\n",
       "      <th>...</th>\n",
       "      <td>...</td>\n",
       "      <td>...</td>\n",
       "      <td>...</td>\n",
       "      <td>...</td>\n",
       "      <td>...</td>\n",
       "      <td>...</td>\n",
       "      <td>...</td>\n",
       "      <td>...</td>\n",
       "      <td>...</td>\n",
       "      <td>...</td>\n",
       "      <td>...</td>\n",
       "      <td>...</td>\n",
       "      <td>...</td>\n",
       "      <td>...</td>\n",
       "      <td>...</td>\n",
       "      <td>...</td>\n",
       "      <td>...</td>\n",
       "      <td>...</td>\n",
       "      <td>...</td>\n",
       "      <td>...</td>\n",
       "      <td>...</td>\n",
       "    </tr>\n",
       "    <tr>\n",
       "      <th>115031</th>\n",
       "      <td>0b7a30ba373aeb55cf28add5b5477956</td>\n",
       "      <td>8c8173e547e020f411aa55b2fceed861</td>\n",
       "      <td>87145</td>\n",
       "      <td>paicandu</td>\n",
       "      <td>PR</td>\n",
       "      <td>-23.501992</td>\n",
       "      <td>-52.150755</td>\n",
       "      <td>e12f5458c6b4f349a97fbf22e08d17ac</td>\n",
       "      <td>delivered</td>\n",
       "      <td>2017-08-01 12:57:02</td>\n",
       "      <td>...</td>\n",
       "      <td>7</td>\n",
       "      <td>12</td>\n",
       "      <td>1.0</td>\n",
       "      <td>59.90</td>\n",
       "      <td>17.67</td>\n",
       "      <td>77.57</td>\n",
       "      <td>1</td>\n",
       "      <td>397</td>\n",
       "      <td>77.57</td>\n",
       "      <td>0</td>\n",
       "    </tr>\n",
       "    <tr>\n",
       "      <th>115032</th>\n",
       "      <td>ff6b440b2465bfaef05c675efb48cd15</td>\n",
       "      <td>e38a27b979a552e019e297ecc22dc67b</td>\n",
       "      <td>98860</td>\n",
       "      <td>eugenio de castro</td>\n",
       "      <td>RS</td>\n",
       "      <td>-28.525792</td>\n",
       "      <td>-54.145061</td>\n",
       "      <td>82a11e82ea02c7e3381366e935c1126e</td>\n",
       "      <td>delivered</td>\n",
       "      <td>2018-05-23 09:07:46</td>\n",
       "      <td>...</td>\n",
       "      <td>0</td>\n",
       "      <td>12</td>\n",
       "      <td>1.0</td>\n",
       "      <td>97.00</td>\n",
       "      <td>14.76</td>\n",
       "      <td>111.76</td>\n",
       "      <td>1</td>\n",
       "      <td>101</td>\n",
       "      <td>111.76</td>\n",
       "      <td>1</td>\n",
       "    </tr>\n",
       "    <tr>\n",
       "      <th>115033</th>\n",
       "      <td>3f7029d9b98a47370cd5f3a97adcbccd</td>\n",
       "      <td>5894d202cc869b4ec460fce3c6ed8cb5</td>\n",
       "      <td>5538</td>\n",
       "      <td>sao paulo</td>\n",
       "      <td>SP</td>\n",
       "      <td>-23.588504</td>\n",
       "      <td>-46.737870</td>\n",
       "      <td>6e9f8d6156d8c37f0e0e6351908de639</td>\n",
       "      <td>delivered</td>\n",
       "      <td>2018-03-28 12:28:04</td>\n",
       "      <td>...</td>\n",
       "      <td>5</td>\n",
       "      <td>11</td>\n",
       "      <td>1.0</td>\n",
       "      <td>61.80</td>\n",
       "      <td>13.79</td>\n",
       "      <td>75.59</td>\n",
       "      <td>1</td>\n",
       "      <td>159</td>\n",
       "      <td>75.59</td>\n",
       "      <td>1</td>\n",
       "    </tr>\n",
       "    <tr>\n",
       "      <th>115034</th>\n",
       "      <td>d9110683c7a282144e9fc97660026a28</td>\n",
       "      <td>5cbfdb85ec130898108b32c50d619c39</td>\n",
       "      <td>74980</td>\n",
       "      <td>aparecida de goiania</td>\n",
       "      <td>GO</td>\n",
       "      <td>-16.823261</td>\n",
       "      <td>-49.247368</td>\n",
       "      <td>e65fa5f31ce4436d38bcf5e109fd43e4</td>\n",
       "      <td>delivered</td>\n",
       "      <td>2018-01-24 17:53:44</td>\n",
       "      <td>...</td>\n",
       "      <td>-2</td>\n",
       "      <td>21</td>\n",
       "      <td>1.0</td>\n",
       "      <td>120.00</td>\n",
       "      <td>39.77</td>\n",
       "      <td>159.77</td>\n",
       "      <td>3</td>\n",
       "      <td>171</td>\n",
       "      <td>483.81</td>\n",
       "      <td>1</td>\n",
       "    </tr>\n",
       "    <tr>\n",
       "      <th>115035</th>\n",
       "      <td>6fb4f2354f36e554ac80141e9128f528</td>\n",
       "      <td>3cc6f2e1b9199837fabb35ff4bf24884</td>\n",
       "      <td>99043</td>\n",
       "      <td>passo fundo</td>\n",
       "      <td>RS</td>\n",
       "      <td>-28.226596</td>\n",
       "      <td>-52.467505</td>\n",
       "      <td>ab042583eff2cb1ffe2110a95da95d4b</td>\n",
       "      <td>delivered</td>\n",
       "      <td>2018-01-22 12:02:21</td>\n",
       "      <td>...</td>\n",
       "      <td>14</td>\n",
       "      <td>14</td>\n",
       "      <td>1.0</td>\n",
       "      <td>139.99</td>\n",
       "      <td>18.23</td>\n",
       "      <td>158.22</td>\n",
       "      <td>1</td>\n",
       "      <td>224</td>\n",
       "      <td>158.22</td>\n",
       "      <td>1</td>\n",
       "    </tr>\n",
       "  </tbody>\n",
       "</table>\n",
       "<p>115036 rows × 55 columns</p>\n",
       "</div>"
      ],
      "text/plain": [
       "                             customer_id                customer_unique_id  \\\n",
       "0       06b8999e2fba1a1fbc88172c00ba8bc7  861eff4711a542e4b93843c6dd7febb0   \n",
       "1       5dca924cc99eea2dc5ba40d11ec5dd0f  2761fee7f378f0a8d7682d8a3fa07ab1   \n",
       "2       661897d4968f1b59bfff74c7eb2eb4fc  d06a495406b79cb8203ea21cc0942f8c   \n",
       "3       702b62324327ccba20f1be3465426437  8b3d988f330c1d1c3332ccd440c147b7   \n",
       "4       bdf997bae7ca819b0415f5174d6b4302  866755e25db620f8d7e81b351a15bb2f   \n",
       "...                                  ...                               ...   \n",
       "115031  0b7a30ba373aeb55cf28add5b5477956  8c8173e547e020f411aa55b2fceed861   \n",
       "115032  ff6b440b2465bfaef05c675efb48cd15  e38a27b979a552e019e297ecc22dc67b   \n",
       "115033  3f7029d9b98a47370cd5f3a97adcbccd  5894d202cc869b4ec460fce3c6ed8cb5   \n",
       "115034  d9110683c7a282144e9fc97660026a28  5cbfdb85ec130898108b32c50d619c39   \n",
       "115035  6fb4f2354f36e554ac80141e9128f528  3cc6f2e1b9199837fabb35ff4bf24884   \n",
       "\n",
       "        customer_zip_code_prefix         customer_city customer_state  \\\n",
       "0                          14409                franca             SP   \n",
       "1                          14409                franca             SP   \n",
       "2                          14409                franca             SP   \n",
       "3                          14409                franca             SP   \n",
       "4                          14409                franca             SP   \n",
       "...                          ...                   ...            ...   \n",
       "115031                     87145              paicandu             PR   \n",
       "115032                     98860     eugenio de castro             RS   \n",
       "115033                      5538             sao paulo             SP   \n",
       "115034                     74980  aparecida de goiania             GO   \n",
       "115035                     99043           passo fundo             RS   \n",
       "\n",
       "        customer_latitude  customer_longitude  \\\n",
       "0              -20.509898          -47.397866   \n",
       "1              -20.509898          -47.397866   \n",
       "2              -20.509898          -47.397866   \n",
       "3              -20.509898          -47.397866   \n",
       "4              -20.509898          -47.397866   \n",
       "...                   ...                 ...   \n",
       "115031         -23.501992          -52.150755   \n",
       "115032         -28.525792          -54.145061   \n",
       "115033         -23.588504          -46.737870   \n",
       "115034         -16.823261          -49.247368   \n",
       "115035         -28.226596          -52.467505   \n",
       "\n",
       "                                order_id order_status  \\\n",
       "0       00e7ee1b050b8499577073aeb2a297a1    delivered   \n",
       "1       95261f608a64bbbe760a212b4d48a4ee    delivered   \n",
       "2       9444fa2ab50a3f5af63b48be297eda24    delivered   \n",
       "3       dceb8e88274c6f42a88a76ed979eb817    delivered   \n",
       "4       6ee1cea1b2edcc713f83ebfbccbc57f9    delivered   \n",
       "...                                  ...          ...   \n",
       "115031  e12f5458c6b4f349a97fbf22e08d17ac    delivered   \n",
       "115032  82a11e82ea02c7e3381366e935c1126e    delivered   \n",
       "115033  6e9f8d6156d8c37f0e0e6351908de639    delivered   \n",
       "115034  e65fa5f31ce4436d38bcf5e109fd43e4    delivered   \n",
       "115035  ab042583eff2cb1ffe2110a95da95d4b    delivered   \n",
       "\n",
       "       order_purchase_timestamp  ... delivery_time_diff carrier_date_diff  \\\n",
       "0           2017-05-16 15:05:35  ...                 10                 1   \n",
       "1           2018-06-15 20:07:13  ...                 13                 2   \n",
       "2           2017-09-09 15:40:00  ...                 13                 7   \n",
       "3           2018-03-26 12:04:55  ...                 14                 1   \n",
       "4           2018-07-29 20:39:20  ...                  5                 3   \n",
       "...                         ...  ...                ...               ...   \n",
       "115031      2017-08-01 12:57:02  ...                  7                12   \n",
       "115032      2018-05-23 09:07:46  ...                  0                12   \n",
       "115033      2018-03-28 12:28:04  ...                  5                11   \n",
       "115034      2018-01-24 17:53:44  ...                 -2                21   \n",
       "115035      2018-01-22 12:02:21  ...                 14                14   \n",
       "\n",
       "       total_item_per_customer total_customer_price  total_frieght_price  \\\n",
       "0                          1.0               124.99                21.88   \n",
       "1                          1.0                79.90                14.87   \n",
       "2                          1.0                44.90                17.60   \n",
       "3                          1.0                19.90                12.79   \n",
       "4                          1.0                63.90                13.11   \n",
       "...                        ...                  ...                  ...   \n",
       "115031                     1.0                59.90                17.67   \n",
       "115032                     1.0                97.00                14.76   \n",
       "115033                     1.0                61.80                13.79   \n",
       "115034                     1.0               120.00                39.77   \n",
       "115035                     1.0               139.99                18.23   \n",
       "\n",
       "       total_customer_cost  frequency  recency  monetary churn  \n",
       "0                   146.87          1      475    146.87     0  \n",
       "1                    94.77          1       79     94.77     1  \n",
       "2                    62.50          1      359     62.50     1  \n",
       "3                    32.69          1      161     32.69     1  \n",
       "4                    77.01          1       35     77.01     1  \n",
       "...                    ...        ...      ...       ...   ...  \n",
       "115031               77.57          1      397     77.57     0  \n",
       "115032              111.76          1      101    111.76     1  \n",
       "115033               75.59          1      159     75.59     1  \n",
       "115034              159.77          3      171    483.81     1  \n",
       "115035              158.22          1      224    158.22     1  \n",
       "\n",
       "[115036 rows x 55 columns]"
      ]
     },
     "execution_count": 48,
     "metadata": {},
     "output_type": "execute_result"
    }
   ],
   "source": [
    "# sanity check\n",
    "cleaned_df_final"
   ]
  },
  {
   "cell_type": "code",
   "execution_count": 49,
   "id": "91a073b3",
   "metadata": {},
   "outputs": [
    {
     "data": {
      "text/plain": [
       "array([0, 1])"
      ]
     },
     "execution_count": 49,
     "metadata": {},
     "output_type": "execute_result"
    }
   ],
   "source": [
    "# recheck the values for churn\n",
    "cleaned_df_final['churn'].unique()"
   ]
  },
  {
   "cell_type": "code",
   "execution_count": 50,
   "id": "199907c4",
   "metadata": {},
   "outputs": [
    {
     "data": {
      "text/plain": [
       "churn\n",
       "0    21262\n",
       "1    71676\n",
       "Name: customer_unique_id, dtype: int64"
      ]
     },
     "execution_count": 50,
     "metadata": {},
     "output_type": "execute_result"
    }
   ],
   "source": [
    "# check the number of churn or not\n",
    "cleaned_df_final.groupby('churn')['customer_unique_id'].nunique()\n"
   ]
  },
  {
   "cell_type": "code",
   "execution_count": 51,
   "id": "e43b2ad6",
   "metadata": {},
   "outputs": [
    {
     "data": {
      "image/png": "[encoded data removed]",
      "text/plain": [
       "<Figure size 432x288 with 1 Axes>"
      ]
     },
     "metadata": {
      "needs_background": "light"
     },
     "output_type": "display_data"
    }
   ],
   "source": [
    "# plot churn\n",
    "cleaned_df_final['churn'].value_counts().sort_values().plot(kind='barh', color='cornflowerblue')\n",
    "plt.title('Customer Churn')\n",
    "plt.ylabel('Churn or Not')\n",
    "plt.xlabel('Count of churn')\n",
    "plt.show()"
   ]
  },
  {
   "cell_type": "code",
   "execution_count": 52,
   "id": "abe8bbc4",
   "metadata": {},
   "outputs": [
    {
     "data": {
      "text/plain": [
       "(115036, 55)"
      ]
     },
     "execution_count": 52,
     "metadata": {},
     "output_type": "execute_result"
    }
   ],
   "source": [
    "# see shape\n",
    "cleaned_df_final.shape"
   ]
  },
  {
   "cell_type": "markdown",
   "id": "e3bfe59c",
   "metadata": {},
   "source": [
    "### Datetime Split\n",
    "\n",
    "Let us split the timestamps into year, month and day and drop the original timestamp columns."
   ]
  },
  {
   "cell_type": "code",
   "execution_count": 53,
   "id": "565a4770",
   "metadata": {},
   "outputs": [],
   "source": [
    "# year from `Review_Date` column\n",
    "cleaned_df_final['order_purchase_year'] = pd.to_datetime(cleaned_df_final['order_purchase_timestamp']).dt.year\n",
    "# year from `Review_Date` column\n",
    "cleaned_df_final['order_delivered_carrier_year'] = pd.to_datetime(cleaned_df_final['order_delivered_carrier_date']).dt.year\n",
    "# year from `Review_Date` column\n",
    "cleaned_df_final['order_delivered_customer_year'] = pd.to_datetime(cleaned_df_final['order_delivered_customer_date']).dt.year\n",
    "# year from `Review_Date` column\n",
    "cleaned_df_final['order_estimated_delivery_year'] = pd.to_datetime(cleaned_df_final['order_estimated_delivery_date']).dt.year\n",
    "# year from `Review_Date` column\n",
    "cleaned_df_final['shipping_limit_year'] = pd.to_datetime(cleaned_df_final['shipping_limit_date']).dt.year\n",
    "# year from `Review_Date` column\n",
    "cleaned_df_final['review_creation_year'] = pd.to_datetime(cleaned_df_final['review_creation_date']).dt.year\n",
    "# year from `Review_Date` column\n",
    "cleaned_df_final['review_answer_year'] = pd.to_datetime(cleaned_df_final['review_answer_timestamp']).dt.year\n"
   ]
  },
  {
   "cell_type": "code",
   "execution_count": 54,
   "id": "d4eb29a1",
   "metadata": {},
   "outputs": [],
   "source": [
    "# year from `Review_Date` column\n",
    "cleaned_df_final['order_purchase_month'] = pd.to_datetime(cleaned_df_final['order_purchase_timestamp']).dt.month\n",
    "# year from `Review_Date` column\n",
    "cleaned_df_final['order_delivered_carrier_month'] = pd.to_datetime(cleaned_df_final['order_delivered_carrier_date']).dt.month\n",
    "# year from `Review_Date` column\n",
    "cleaned_df_final['order_delivered_customer_month'] = pd.to_datetime(cleaned_df_final['order_delivered_customer_date']).dt.month\n",
    "# year from `Review_Date` column\n",
    "cleaned_df_final['order_estimated_delivery_month'] = pd.to_datetime(cleaned_df_final['order_estimated_delivery_date']).dt.month\n",
    "# year from `Review_Date` column\n",
    "cleaned_df_final['shipping_limit_month'] = pd.to_datetime(cleaned_df_final['shipping_limit_date']).dt.month\n",
    "# year from `Review_Date` column\n",
    "cleaned_df_final['review_creation_month'] = pd.to_datetime(cleaned_df_final['review_creation_date']).dt.month\n",
    "# year from `Review_Date` column\n",
    "cleaned_df_final['review_answer_month'] = pd.to_datetime(cleaned_df_final['review_answer_timestamp']).dt.month\n"
   ]
  },
  {
   "cell_type": "code",
   "execution_count": 55,
   "id": "f5ee1670",
   "metadata": {},
   "outputs": [],
   "source": [
    "# year from `Review_Date` column\n",
    "cleaned_df_final['order_purchase_day'] = pd.to_datetime(cleaned_df_final['order_purchase_timestamp']).dt.day\n",
    "# year from `Review_Date` column\n",
    "cleaned_df_final['order_delivered_carrier_day'] = pd.to_datetime(cleaned_df_final['order_delivered_carrier_date']).dt.day\n",
    "# year from `Review_Date` column\n",
    "cleaned_df_final['order_delivered_customer_day'] = pd.to_datetime(cleaned_df_final['order_delivered_customer_date']).dt.day\n",
    "# year from `Review_Date` column\n",
    "cleaned_df_final['order_estimated_delivery_day'] = pd.to_datetime(cleaned_df_final['order_estimated_delivery_date']).dt.day\n",
    "# year from `Review_Date` column\n",
    "cleaned_df_final['shipping_limit_day'] = pd.to_datetime(cleaned_df_final['shipping_limit_date']).dt.day\n",
    "# year from `Review_Date` column\n",
    "cleaned_df_final['review_creation_day'] = pd.to_datetime(cleaned_df_final['review_creation_date']).dt.day\n",
    "# year from `Review_Date` column\n",
    "cleaned_df_final['review_answer_day'] = cleaned_df_final['review_answer_timestamp'].dt.day"
   ]
  },
  {
   "cell_type": "code",
   "execution_count": 56,
   "id": "60e68dc9",
   "metadata": {},
   "outputs": [
    {
     "data": {
      "text/html": [
       "<div>\n",
       "<style scoped>\n",
       "    .dataframe tbody tr th:only-of-type {\n",
       "        vertical-align: middle;\n",
       "    }\n",
       "\n",
       "    .dataframe tbody tr th {\n",
       "        vertical-align: top;\n",
       "    }\n",
       "\n",
       "    .dataframe thead th {\n",
       "        text-align: right;\n",
       "    }\n",
       "</style>\n",
       "<table border=\"1\" class=\"dataframe\">\n",
       "  <thead>\n",
       "    <tr style=\"text-align: right;\">\n",
       "      <th></th>\n",
       "      <th>customer_id</th>\n",
       "      <th>customer_unique_id</th>\n",
       "      <th>customer_zip_code_prefix</th>\n",
       "      <th>customer_city</th>\n",
       "      <th>customer_state</th>\n",
       "      <th>customer_latitude</th>\n",
       "      <th>customer_longitude</th>\n",
       "      <th>order_id</th>\n",
       "      <th>order_status</th>\n",
       "      <th>order_purchase_timestamp</th>\n",
       "      <th>...</th>\n",
       "      <th>shipping_limit_month</th>\n",
       "      <th>review_creation_month</th>\n",
       "      <th>review_answer_month</th>\n",
       "      <th>order_purchase_day</th>\n",
       "      <th>order_delivered_carrier_day</th>\n",
       "      <th>order_delivered_customer_day</th>\n",
       "      <th>order_estimated_delivery_day</th>\n",
       "      <th>shipping_limit_day</th>\n",
       "      <th>review_creation_day</th>\n",
       "      <th>review_answer_day</th>\n",
       "    </tr>\n",
       "  </thead>\n",
       "  <tbody>\n",
       "    <tr>\n",
       "      <th>0</th>\n",
       "      <td>06b8999e2fba1a1fbc88172c00ba8bc7</td>\n",
       "      <td>861eff4711a542e4b93843c6dd7febb0</td>\n",
       "      <td>14409</td>\n",
       "      <td>franca</td>\n",
       "      <td>SP</td>\n",
       "      <td>-20.509898</td>\n",
       "      <td>-47.397866</td>\n",
       "      <td>00e7ee1b050b8499577073aeb2a297a1</td>\n",
       "      <td>delivered</td>\n",
       "      <td>2017-05-16 15:05:35</td>\n",
       "      <td>...</td>\n",
       "      <td>5</td>\n",
       "      <td>5</td>\n",
       "      <td>5</td>\n",
       "      <td>16</td>\n",
       "      <td>23</td>\n",
       "      <td>25</td>\n",
       "      <td>5</td>\n",
       "      <td>22</td>\n",
       "      <td>26</td>\n",
       "      <td>30</td>\n",
       "    </tr>\n",
       "    <tr>\n",
       "      <th>1</th>\n",
       "      <td>5dca924cc99eea2dc5ba40d11ec5dd0f</td>\n",
       "      <td>2761fee7f378f0a8d7682d8a3fa07ab1</td>\n",
       "      <td>14409</td>\n",
       "      <td>franca</td>\n",
       "      <td>SP</td>\n",
       "      <td>-20.509898</td>\n",
       "      <td>-47.397866</td>\n",
       "      <td>95261f608a64bbbe760a212b4d48a4ee</td>\n",
       "      <td>delivered</td>\n",
       "      <td>2018-06-15 20:07:13</td>\n",
       "      <td>...</td>\n",
       "      <td>6</td>\n",
       "      <td>6</td>\n",
       "      <td>6</td>\n",
       "      <td>15</td>\n",
       "      <td>18</td>\n",
       "      <td>21</td>\n",
       "      <td>5</td>\n",
       "      <td>19</td>\n",
       "      <td>22</td>\n",
       "      <td>26</td>\n",
       "    </tr>\n",
       "    <tr>\n",
       "      <th>2</th>\n",
       "      <td>661897d4968f1b59bfff74c7eb2eb4fc</td>\n",
       "      <td>d06a495406b79cb8203ea21cc0942f8c</td>\n",
       "      <td>14409</td>\n",
       "      <td>franca</td>\n",
       "      <td>SP</td>\n",
       "      <td>-20.509898</td>\n",
       "      <td>-47.397866</td>\n",
       "      <td>9444fa2ab50a3f5af63b48be297eda24</td>\n",
       "      <td>delivered</td>\n",
       "      <td>2017-09-09 15:40:00</td>\n",
       "      <td>...</td>\n",
       "      <td>9</td>\n",
       "      <td>9</td>\n",
       "      <td>9</td>\n",
       "      <td>9</td>\n",
       "      <td>11</td>\n",
       "      <td>18</td>\n",
       "      <td>2</td>\n",
       "      <td>14</td>\n",
       "      <td>19</td>\n",
       "      <td>20</td>\n",
       "    </tr>\n",
       "    <tr>\n",
       "      <th>3</th>\n",
       "      <td>702b62324327ccba20f1be3465426437</td>\n",
       "      <td>8b3d988f330c1d1c3332ccd440c147b7</td>\n",
       "      <td>14409</td>\n",
       "      <td>franca</td>\n",
       "      <td>SP</td>\n",
       "      <td>-20.509898</td>\n",
       "      <td>-47.397866</td>\n",
       "      <td>dceb8e88274c6f42a88a76ed979eb817</td>\n",
       "      <td>delivered</td>\n",
       "      <td>2018-03-26 12:04:55</td>\n",
       "      <td>...</td>\n",
       "      <td>3</td>\n",
       "      <td>3</td>\n",
       "      <td>11</td>\n",
       "      <td>26</td>\n",
       "      <td>27</td>\n",
       "      <td>28</td>\n",
       "      <td>12</td>\n",
       "      <td>30</td>\n",
       "      <td>29</td>\n",
       "      <td>4</td>\n",
       "    </tr>\n",
       "    <tr>\n",
       "      <th>4</th>\n",
       "      <td>bdf997bae7ca819b0415f5174d6b4302</td>\n",
       "      <td>866755e25db620f8d7e81b351a15bb2f</td>\n",
       "      <td>14409</td>\n",
       "      <td>franca</td>\n",
       "      <td>SP</td>\n",
       "      <td>-20.509898</td>\n",
       "      <td>-47.397866</td>\n",
       "      <td>6ee1cea1b2edcc713f83ebfbccbc57f9</td>\n",
       "      <td>delivered</td>\n",
       "      <td>2018-07-29 20:39:20</td>\n",
       "      <td>...</td>\n",
       "      <td>2</td>\n",
       "      <td>4</td>\n",
       "      <td>4</td>\n",
       "      <td>29</td>\n",
       "      <td>31</td>\n",
       "      <td>3</td>\n",
       "      <td>9</td>\n",
       "      <td>8</td>\n",
       "      <td>8</td>\n",
       "      <td>8</td>\n",
       "    </tr>\n",
       "  </tbody>\n",
       "</table>\n",
       "<p>5 rows × 76 columns</p>\n",
       "</div>"
      ],
      "text/plain": [
       "                        customer_id                customer_unique_id  \\\n",
       "0  06b8999e2fba1a1fbc88172c00ba8bc7  861eff4711a542e4b93843c6dd7febb0   \n",
       "1  5dca924cc99eea2dc5ba40d11ec5dd0f  2761fee7f378f0a8d7682d8a3fa07ab1   \n",
       "2  661897d4968f1b59bfff74c7eb2eb4fc  d06a495406b79cb8203ea21cc0942f8c   \n",
       "3  702b62324327ccba20f1be3465426437  8b3d988f330c1d1c3332ccd440c147b7   \n",
       "4  bdf997bae7ca819b0415f5174d6b4302  866755e25db620f8d7e81b351a15bb2f   \n",
       "\n",
       "   customer_zip_code_prefix customer_city customer_state  customer_latitude  \\\n",
       "0                     14409        franca             SP         -20.509898   \n",
       "1                     14409        franca             SP         -20.509898   \n",
       "2                     14409        franca             SP         -20.509898   \n",
       "3                     14409        franca             SP         -20.509898   \n",
       "4                     14409        franca             SP         -20.509898   \n",
       "\n",
       "   customer_longitude                          order_id order_status  \\\n",
       "0          -47.397866  00e7ee1b050b8499577073aeb2a297a1    delivered   \n",
       "1          -47.397866  95261f608a64bbbe760a212b4d48a4ee    delivered   \n",
       "2          -47.397866  9444fa2ab50a3f5af63b48be297eda24    delivered   \n",
       "3          -47.397866  dceb8e88274c6f42a88a76ed979eb817    delivered   \n",
       "4          -47.397866  6ee1cea1b2edcc713f83ebfbccbc57f9    delivered   \n",
       "\n",
       "  order_purchase_timestamp  ... shipping_limit_month review_creation_month  \\\n",
       "0      2017-05-16 15:05:35  ...                    5                     5   \n",
       "1      2018-06-15 20:07:13  ...                    6                     6   \n",
       "2      2017-09-09 15:40:00  ...                    9                     9   \n",
       "3      2018-03-26 12:04:55  ...                    3                     3   \n",
       "4      2018-07-29 20:39:20  ...                    2                     4   \n",
       "\n",
       "  review_answer_month order_purchase_day  order_delivered_carrier_day  \\\n",
       "0                   5                 16                           23   \n",
       "1                   6                 15                           18   \n",
       "2                   9                  9                           11   \n",
       "3                  11                 26                           27   \n",
       "4                   4                 29                           31   \n",
       "\n",
       "  order_delivered_customer_day  order_estimated_delivery_day  \\\n",
       "0                           25                             5   \n",
       "1                           21                             5   \n",
       "2                           18                             2   \n",
       "3                           28                            12   \n",
       "4                            3                             9   \n",
       "\n",
       "   shipping_limit_day  review_creation_day review_answer_day  \n",
       "0                  22                   26                30  \n",
       "1                  19                   22                26  \n",
       "2                  14                   19                20  \n",
       "3                  30                   29                 4  \n",
       "4                   8                    8                 8  \n",
       "\n",
       "[5 rows x 76 columns]"
      ]
     },
     "execution_count": 56,
     "metadata": {},
     "output_type": "execute_result"
    }
   ],
   "source": [
    "# sanity check\n",
    "cleaned_df_final.head()"
   ]
  },
  {
   "cell_type": "code",
   "execution_count": 57,
   "id": "abd1bf17",
   "metadata": {},
   "outputs": [
    {
     "data": {
      "text/plain": [
       "(115036, 76)"
      ]
     },
     "execution_count": 57,
     "metadata": {},
     "output_type": "execute_result"
    }
   ],
   "source": [
    "# check the shape\n",
    "cleaned_df_final.shape"
   ]
  },
  {
   "cell_type": "code",
   "execution_count": 58,
   "id": "e0193abc",
   "metadata": {},
   "outputs": [
    {
     "name": "stdout",
     "output_type": "stream",
     "text": [
      "<class 'pandas.core.frame.DataFrame'>\n",
      "Int64Index: 115036 entries, 0 to 115035\n",
      "Data columns (total 76 columns):\n",
      " #   Column                          Non-Null Count   Dtype         \n",
      "---  ------                          --------------   -----         \n",
      " 0   customer_id                     115036 non-null  object        \n",
      " 1   customer_unique_id              115036 non-null  object        \n",
      " 2   customer_zip_code_prefix        115036 non-null  int64         \n",
      " 3   customer_city                   115036 non-null  object        \n",
      " 4   customer_state                  115036 non-null  object        \n",
      " 5   customer_latitude               115036 non-null  float64       \n",
      " 6   customer_longitude              115036 non-null  float64       \n",
      " 7   order_id                        115036 non-null  object        \n",
      " 8   order_status                    115036 non-null  object        \n",
      " 9   order_purchase_timestamp        115036 non-null  datetime64[ns]\n",
      " 10  order_approved_at               115036 non-null  datetime64[ns]\n",
      " 11  order_delivered_carrier_date    115036 non-null  datetime64[ns]\n",
      " 12  order_delivered_customer_date   115036 non-null  datetime64[ns]\n",
      " 13  order_estimated_delivery_date   115036 non-null  datetime64[ns]\n",
      " 14  payment_sequential              115036 non-null  float64       \n",
      " 15  payment_type                    115036 non-null  object        \n",
      " 16  payment_installments            115036 non-null  float64       \n",
      " 17  payment_value                   115036 non-null  float64       \n",
      " 18  order_item_id                   115036 non-null  float64       \n",
      " 19  product_id                      115036 non-null  object        \n",
      " 20  seller_id                       115036 non-null  object        \n",
      " 21  shipping_limit_date             115036 non-null  datetime64[ns]\n",
      " 22  price                           115036 non-null  float64       \n",
      " 23  freight_value                   115036 non-null  float64       \n",
      " 24  review_id                       115036 non-null  object        \n",
      " 25  review_score                    115036 non-null  float64       \n",
      " 26  review_creation_date            115036 non-null  datetime64[ns]\n",
      " 27  review_answer_timestamp         115036 non-null  datetime64[ns]\n",
      " 28  product_category_name           115036 non-null  object        \n",
      " 29  product_name_length             115036 non-null  float64       \n",
      " 30  product_description_length      115036 non-null  float64       \n",
      " 31  product_photos_qty              115036 non-null  float64       \n",
      " 32  product_weight_g                115036 non-null  float64       \n",
      " 33  product_length_cm               115036 non-null  float64       \n",
      " 34  product_height_cm               115036 non-null  float64       \n",
      " 35  product_width_cm                115036 non-null  float64       \n",
      " 36  product_category_name_english   115036 non-null  object        \n",
      " 37  seller_zip_code_prefix          115036 non-null  float64       \n",
      " 38  seller_city                     115036 non-null  object        \n",
      " 39  seller_state                    115036 non-null  object        \n",
      " 40  seller_latitude                 115036 non-null  float64       \n",
      " 41  seller_longitude                115036 non-null  float64       \n",
      " 42  customer_delivery_time          115036 non-null  int64         \n",
      " 43  estimated_delivery_time         115036 non-null  int64         \n",
      " 44  carrier_delivery_date           115036 non-null  int64         \n",
      " 45  delivery_time_diff              115036 non-null  int64         \n",
      " 46  carrier_date_diff               115036 non-null  int64         \n",
      " 47  total_item_per_customer         115036 non-null  float64       \n",
      " 48  total_customer_price            115036 non-null  float64       \n",
      " 49  total_frieght_price             115036 non-null  float64       \n",
      " 50  total_customer_cost             115036 non-null  float64       \n",
      " 51  frequency                       115036 non-null  int64         \n",
      " 52  recency                         115036 non-null  int64         \n",
      " 53  monetary                        115036 non-null  float64       \n",
      " 54  churn                           115036 non-null  int64         \n",
      " 55  order_purchase_year             115036 non-null  int64         \n",
      " 56  order_delivered_carrier_year    115036 non-null  int64         \n",
      " 57  order_delivered_customer_year   115036 non-null  int64         \n",
      " 58  order_estimated_delivery_year   115036 non-null  int64         \n",
      " 59  shipping_limit_year             115036 non-null  int64         \n",
      " 60  review_creation_year            115036 non-null  int64         \n",
      " 61  review_answer_year              115036 non-null  int64         \n",
      " 62  order_purchase_month            115036 non-null  int64         \n",
      " 63  order_delivered_carrier_month   115036 non-null  int64         \n",
      " 64  order_delivered_customer_month  115036 non-null  int64         \n",
      " 65  order_estimated_delivery_month  115036 non-null  int64         \n",
      " 66  shipping_limit_month            115036 non-null  int64         \n",
      " 67  review_creation_month           115036 non-null  int64         \n",
      " 68  review_answer_month             115036 non-null  int64         \n",
      " 69  order_purchase_day              115036 non-null  int64         \n",
      " 70  order_delivered_carrier_day     115036 non-null  int64         \n",
      " 71  order_delivered_customer_day    115036 non-null  int64         \n",
      " 72  order_estimated_delivery_day    115036 non-null  int64         \n",
      " 73  shipping_limit_day              115036 non-null  int64         \n",
      " 74  review_creation_day             115036 non-null  int64         \n",
      " 75  review_answer_day               115036 non-null  int64         \n",
      "dtypes: datetime64[ns](8), float64(24), int64(30), object(14)\n",
      "memory usage: 67.6+ MB\n"
     ]
    }
   ],
   "source": [
    "# check the datatypes\n",
    "cleaned_df_final.info()"
   ]
  },
  {
   "cell_type": "code",
   "execution_count": 59,
   "id": "fb3c2797",
   "metadata": {},
   "outputs": [],
   "source": [
    "# drop the orinal timestamp columns\n",
    "cleaned_df_final.drop(['order_purchase_timestamp', 'shipping_limit_date',\n",
    "         'order_estimated_delivery_date', 'order_delivered_customer_date', 'order_delivered_carrier_date',\n",
    "         'order_approved_at', 'review_creation_date', 'review_answer_timestamp'], axis=1, inplace = True)"
   ]
  },
  {
   "cell_type": "code",
   "execution_count": 60,
   "id": "eb61b73b",
   "metadata": {},
   "outputs": [
    {
     "name": "stdout",
     "output_type": "stream",
     "text": [
      "<class 'pandas.core.frame.DataFrame'>\n",
      "Int64Index: 115036 entries, 0 to 115035\n",
      "Data columns (total 68 columns):\n",
      " #   Column                          Non-Null Count   Dtype  \n",
      "---  ------                          --------------   -----  \n",
      " 0   customer_id                     115036 non-null  object \n",
      " 1   customer_unique_id              115036 non-null  object \n",
      " 2   customer_zip_code_prefix        115036 non-null  int64  \n",
      " 3   customer_city                   115036 non-null  object \n",
      " 4   customer_state                  115036 non-null  object \n",
      " 5   customer_latitude               115036 non-null  float64\n",
      " 6   customer_longitude              115036 non-null  float64\n",
      " 7   order_id                        115036 non-null  object \n",
      " 8   order_status                    115036 non-null  object \n",
      " 9   payment_sequential              115036 non-null  float64\n",
      " 10  payment_type                    115036 non-null  object \n",
      " 11  payment_installments            115036 non-null  float64\n",
      " 12  payment_value                   115036 non-null  float64\n",
      " 13  order_item_id                   115036 non-null  float64\n",
      " 14  product_id                      115036 non-null  object \n",
      " 15  seller_id                       115036 non-null  object \n",
      " 16  price                           115036 non-null  float64\n",
      " 17  freight_value                   115036 non-null  float64\n",
      " 18  review_id                       115036 non-null  object \n",
      " 19  review_score                    115036 non-null  float64\n",
      " 20  product_category_name           115036 non-null  object \n",
      " 21  product_name_length             115036 non-null  float64\n",
      " 22  product_description_length      115036 non-null  float64\n",
      " 23  product_photos_qty              115036 non-null  float64\n",
      " 24  product_weight_g                115036 non-null  float64\n",
      " 25  product_length_cm               115036 non-null  float64\n",
      " 26  product_height_cm               115036 non-null  float64\n",
      " 27  product_width_cm                115036 non-null  float64\n",
      " 28  product_category_name_english   115036 non-null  object \n",
      " 29  seller_zip_code_prefix          115036 non-null  float64\n",
      " 30  seller_city                     115036 non-null  object \n",
      " 31  seller_state                    115036 non-null  object \n",
      " 32  seller_latitude                 115036 non-null  float64\n",
      " 33  seller_longitude                115036 non-null  float64\n",
      " 34  customer_delivery_time          115036 non-null  int64  \n",
      " 35  estimated_delivery_time         115036 non-null  int64  \n",
      " 36  carrier_delivery_date           115036 non-null  int64  \n",
      " 37  delivery_time_diff              115036 non-null  int64  \n",
      " 38  carrier_date_diff               115036 non-null  int64  \n",
      " 39  total_item_per_customer         115036 non-null  float64\n",
      " 40  total_customer_price            115036 non-null  float64\n",
      " 41  total_frieght_price             115036 non-null  float64\n",
      " 42  total_customer_cost             115036 non-null  float64\n",
      " 43  frequency                       115036 non-null  int64  \n",
      " 44  recency                         115036 non-null  int64  \n",
      " 45  monetary                        115036 non-null  float64\n",
      " 46  churn                           115036 non-null  int64  \n",
      " 47  order_purchase_year             115036 non-null  int64  \n",
      " 48  order_delivered_carrier_year    115036 non-null  int64  \n",
      " 49  order_delivered_customer_year   115036 non-null  int64  \n",
      " 50  order_estimated_delivery_year   115036 non-null  int64  \n",
      " 51  shipping_limit_year             115036 non-null  int64  \n",
      " 52  review_creation_year            115036 non-null  int64  \n",
      " 53  review_answer_year              115036 non-null  int64  \n",
      " 54  order_purchase_month            115036 non-null  int64  \n",
      " 55  order_delivered_carrier_month   115036 non-null  int64  \n",
      " 56  order_delivered_customer_month  115036 non-null  int64  \n",
      " 57  order_estimated_delivery_month  115036 non-null  int64  \n",
      " 58  shipping_limit_month            115036 non-null  int64  \n",
      " 59  review_creation_month           115036 non-null  int64  \n",
      " 60  review_answer_month             115036 non-null  int64  \n",
      " 61  order_purchase_day              115036 non-null  int64  \n",
      " 62  order_delivered_carrier_day     115036 non-null  int64  \n",
      " 63  order_delivered_customer_day    115036 non-null  int64  \n",
      " 64  order_estimated_delivery_day    115036 non-null  int64  \n",
      " 65  shipping_limit_day              115036 non-null  int64  \n",
      " 66  review_creation_day             115036 non-null  int64  \n",
      " 67  review_answer_day               115036 non-null  int64  \n",
      "dtypes: float64(24), int64(30), object(14)\n",
      "memory usage: 60.6+ MB\n"
     ]
    }
   ],
   "source": [
    "# sanity check\n",
    "cleaned_df_final.info()"
   ]
  },
  {
   "cell_type": "markdown",
   "id": "51fbcfe6",
   "metadata": {},
   "source": [
    "We now have 68 columns and 115036 rows. Let us for duplicates and null values if there is any, we will drop them."
   ]
  },
  {
   "cell_type": "code",
   "execution_count": 61,
   "id": "d7984896",
   "metadata": {},
   "outputs": [
    {
     "data": {
      "text/plain": [
       "19001"
      ]
     },
     "execution_count": 61,
     "metadata": {},
     "output_type": "execute_result"
    }
   ],
   "source": [
    "# check for duplicates\n",
    "cleaned_df_final['order_id'].duplicated().sum()"
   ]
  },
  {
   "cell_type": "code",
   "execution_count": 62,
   "id": "b2e8a9a8",
   "metadata": {},
   "outputs": [],
   "source": [
    "# delete duplicates rows\n",
    "cleaned_df_final = cleaned_df_final.drop_duplicates(subset=['order_id'], keep='first')"
   ]
  },
  {
   "cell_type": "code",
   "execution_count": 63,
   "id": "067ad735",
   "metadata": {},
   "outputs": [
    {
     "data": {
      "text/plain": [
       "0"
      ]
     },
     "execution_count": 63,
     "metadata": {},
     "output_type": "execute_result"
    }
   ],
   "source": [
    "# sanity check\n",
    "cleaned_df_final['order_id'].duplicated().sum()"
   ]
  },
  {
   "cell_type": "code",
   "execution_count": 64,
   "id": "9845d247",
   "metadata": {},
   "outputs": [
    {
     "data": {
      "text/plain": [
       "False"
      ]
     },
     "execution_count": 64,
     "metadata": {},
     "output_type": "execute_result"
    }
   ],
   "source": [
    "# check for null values\n",
    "cleaned_df_final.isnull().sum().any()"
   ]
  },
  {
   "cell_type": "markdown",
   "id": "9cd1933f",
   "metadata": {},
   "source": [
    "All is set! We will export the dataframe as csv file and use in notebooks 3 - EDA and 4- Modeling"
   ]
  },
  {
   "cell_type": "code",
   "execution_count": 65,
   "id": "378921cc",
   "metadata": {},
   "outputs": [],
   "source": [
    "cleaned_df_final.to_csv('df2_engineered.csv', index = False)"
   ]
  },
  {
   "cell_type": "markdown",
   "id": "c458fef9",
   "metadata": {},
   "source": [
    "### Conclusion"
   ]
  },
  {
   "cell_type": "markdown",
   "id": "28b5ef2b",
   "metadata": {},
   "source": [
    "In this Notebook, we have been able to create different features relating to customers' total cost and delivery times. We have our customers profiled based on thier 'age' with Olist, the number of times they have visited and thier total monetary values, but most importantly, we have defined our target variable **churn** based on the recency i.e age of customers. The **final dataframe** will be used for data exploration and modeling in **Notebook 3** and **Notebook 4**, while **RFM dataframe** will be used in **Notebook 5**. "
   ]
  }
 ],
 "metadata": {
  "kernelspec": {
   "display_name": "Python 3.10.6 64-bit",
   "language": "python",
   "name": "python3"
  },
  "language_info": {
   "codemirror_mode": {
    "name": "ipython",
    "version": 3
   },
   "file_extension": ".py",
   "mimetype": "text/x-python",
   "name": "python",
   "nbconvert_exporter": "python",
   "pygments_lexer": "ipython3",
   "version": "3.10.6"
  },
  "vscode": {
   "interpreter": {
    "hash": "aee8b7b246df8f9039afb4144a1f6fd8d2ca17a180786b69acc140d282b71a49"
   }
  }
 },
 "nbformat": 4,
 "nbformat_minor": 5
}
